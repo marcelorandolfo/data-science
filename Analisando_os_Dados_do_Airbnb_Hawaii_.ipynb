{
  "nbformat": 4,
  "nbformat_minor": 0,
  "metadata": {
    "colab": {
      "name": "Analisando os Dados do Airbnb - Hawaii .ipynb",
      "provenance": [],
      "collapsed_sections": [],
      "include_colab_link": true
    },
    "kernelspec": {
      "name": "python3",
      "display_name": "Python 3"
    }
  },
  "cells": [
    {
      "cell_type": "markdown",
      "metadata": {
        "id": "view-in-github",
        "colab_type": "text"
      },
      "source": [
        "<a href=\"https://colab.research.google.com/github/marcelorandolfo/data-science/blob/master/Analisando_os_Dados_do_Airbnb_Hawaii_.ipynb\" target=\"_parent\"><img src=\"https://colab.research.google.com/assets/colab-badge.svg\" alt=\"Open In Colab\"/></a>"
      ]
    },
    {
      "cell_type": "markdown",
      "metadata": {
        "id": "kLI0gJtzDGuQ",
        "colab_type": "text"
      },
      "source": [
        "<center><img src=\"http://sigmoidal.ai/wp-content/uploads/2019/08/logo_color.png\" height=\"40px\"></center>\n",
        "\n",
        "# Análise dos Dados do Airbnb - Hawaii\n",
        "\n",
        "O [Airbnb](https://www.airbnb.com.br/) já é considerado como sendo a **maior empresa hoteleira da atualidade**. Ah, o detalhe é que ele **não possui nenhum hotel**!\n",
        "\n",
        "Conectando pessoas que querem viajar (e se hospedar) com anfitriões que querem alugar seus imóveis de maneira prática, o Airbnb fornece uma plataforma inovadora para tornar essa hospedagem alternativa.\n",
        "\n",
        "No final de 2018, a Startup fundada 10 anos atrás, já havia **hospedado mais de 300 milhões** de pessoas ao redor de todo o mundo, desafiando as redes hoteleiras tradicionais.\n",
        "\n",
        "Uma das iniciativas do Airbnb é disponibilizar dados do site, para algumas das principais cidades do mundo. Por meio do portal [Inside Airbnb](http://insideairbnb.com/get-the-data.html), é possível baixar uma grande quantidade de dados para desenvolver projetos e soluções de *Data Science*.\n",
        "\n",
        "<center><img alt=\"Analisando Airbnb\" width=\"10%\" src=\"https://www.area360.com.au/wp-content/uploads/2017/09/airbnb-logo.jpg\"></center>\n",
        "\n",
        "**Neste *notebook*, iremos analisar os dados referentes a um dos estados mais conhecidos dos Estados Unidos, o Hawaii. O objetivo é extrair insights valiosos quanto a oferta de imóveis no estado.**\n",
        "\n"
      ]
    },
    {
      "cell_type": "markdown",
      "metadata": {
        "id": "Bdw7fp7aMD2Q",
        "colab_type": "text"
      },
      "source": [
        "## Breve contexto sobre o Hawaii\n",
        "\n",
        "\n",
        "O estado norte americano do **Hawaii** é um arquipélago localizado no meio do Oceano Pacífico, sendo considerado o estado mais isolado em relação ao restante do país. O arquipélago é composto de seis ilhas principais: [Kauai](https://www.gohawaii.com/islands/kauai), [Oahu](https://www.gohawaii.com/islands/oahu), [Molokai](https://www.gohawaii.com/islands/molokai),\n",
        "[Maui](https://https://www.gohawaii.com/islands/maui), [Lanai](https://www.gohawaii.com/islands/lanai) e [Ilha do Hawaii](https://www.gohawaii.com/islands/hawaii-big-island). Cada ilha possui sua própria característica, mas dentre elas, destacam-se as ilhas **Molokai**, **Oahu** e **Lanai**.\n",
        "\n",
        "**Molokai** é conhecida por manter a tradição dos povos nativos do Hawaii. A população que vive na ilha é majoritariamente composta por nativos, que preservam o estilo rural de seus antepassados. \n",
        "\n",
        "**Oahu** por sua vez, contrapõe essa característica de forte ligação com a cultura ancestral. A ilha é considerada como a mais variada em termos de diversidade populacional, abrangendo desde cidades com vida agitada até paraísos do surfe. A capital do estado do Hawaii, Honolulu, está localizada na ilha de **Oahu**. \n",
        "\n",
        "Por fim, **Lanai** distingue-se das demais ilhas devido a presença de resorts extremamente luxuosos."
      ]
    },
    {
      "cell_type": "markdown",
      "metadata": {
        "id": "0zxQHhIUDF_2",
        "colab_type": "text"
      },
      "source": [
        "## Obtenção dos Dados\n",
        "\n",
        "Todos os dados usados aqui foram obtidos a partir do site [Inside Airbnb](http://insideairbnb.com/get-the-data.html).\n",
        "\n",
        "Para esta análise exploratória inicial, será utilizado apenas o seguinte arquivo:\n",
        "\n",
        "* `listings.csv` - *Summary information and metrics for listings in Hawaii (good for visualisations).*\n",
        "  * *Data Compiled: 12 September, 2019.* \n",
        "\n"
      ]
    },
    {
      "cell_type": "code",
      "metadata": {
        "id": "Vhp2wMPgJ6zX",
        "colab_type": "code",
        "colab": {}
      },
      "source": [
        "# importar os pacotes necessarios\n",
        "import pandas as pd\n",
        "import matplotlib.pyplot as plt\n",
        "import seaborn as sns\n",
        "\n",
        "%matplotlib inline"
      ],
      "execution_count": 0,
      "outputs": []
    },
    {
      "cell_type": "code",
      "metadata": {
        "id": "tUmoAT8DLQ5T",
        "colab_type": "code",
        "colab": {}
      },
      "source": [
        "# importar o arquivo listings.csv para um DataFrame\n",
        "df = pd.read_csv('http://data.insideairbnb.com/united-states/hi/hawaii/2019-09-12/visualisations/listings.csv')"
      ],
      "execution_count": 0,
      "outputs": []
    },
    {
      "cell_type": "markdown",
      "metadata": {
        "id": "qb5By2nIMS6m",
        "colab_type": "text"
      },
      "source": [
        "## Análise dos Dados\n",
        "\n",
        "Esta etapa tem por objetivo criar uma consciência situacional inicial e permitir um entendimento de como os dados estão estruturados."
      ]
    },
    {
      "cell_type": "markdown",
      "metadata": {
        "id": "RYgvuebKNg8-",
        "colab_type": "text"
      },
      "source": [
        "**Dicionário das variáveis**\n",
        "\n",
        "* `id`: número de identificação do imóvel.\n",
        "* `name`: nome do imóvel anunciado\n",
        "* `host_id`: número de identificação do anfitrião do imóvel.\n",
        "* `host_name`: nome do anfitrião do imóvel.\n",
        "* `neighbourhood_grupo`: nome do grupo no qual o bairro do imóvel em questão está localizado.\n",
        "* `neighbourhood`: nome do bairro do imóvel.\n",
        "* `latitude`: coordenada latitudinal do imóvel.\n",
        "* `longitude`: coordenada longitudinal do imóvel.\n",
        "* `room_type`: tipo do imóvel que está sendo anunciado.\n",
        "* `price`: preço de uma diária no imóvel.\n",
        "* `minimum_nights`: número de noites mínimas necessárias para alugar o imóvel.\n",
        "* `number_of_reviews`: número de reviews que o imóvel possui.\n",
        "* `last review`: data da última review que o imóvel recebeu.\n",
        "* `reviews_per_month`: número de reviews por mês.\n",
        "* `calculated_host_listings_count`: quantidade de imóveis anunciados que o anfitrião do imóvel possui.\n",
        "* `availability_365`: número de dias no ano em que o imóvel fica disponível para locação.\n",
        "\n",
        "Antes de iniciar qualquer análise, vamos verificar a cara do nosso *dataset*, analisando as 5 primeiras entradas e as 5 últimas."
      ]
    },
    {
      "cell_type": "code",
      "metadata": {
        "id": "2iS_dae7YQtO",
        "colab_type": "code",
        "outputId": "aa714ce1-8f6a-4baa-dd48-595440ffe89d",
        "colab": {
          "base_uri": "https://localhost:8080/",
          "height": 343
        }
      },
      "source": [
        "# mostrar as 5 primeiras entradas\n",
        "df.head()"
      ],
      "execution_count": 0,
      "outputs": [
        {
          "output_type": "execute_result",
          "data": {
            "text/html": [
              "<div>\n",
              "<style scoped>\n",
              "    .dataframe tbody tr th:only-of-type {\n",
              "        vertical-align: middle;\n",
              "    }\n",
              "\n",
              "    .dataframe tbody tr th {\n",
              "        vertical-align: top;\n",
              "    }\n",
              "\n",
              "    .dataframe thead th {\n",
              "        text-align: right;\n",
              "    }\n",
              "</style>\n",
              "<table border=\"1\" class=\"dataframe\">\n",
              "  <thead>\n",
              "    <tr style=\"text-align: right;\">\n",
              "      <th></th>\n",
              "      <th>id</th>\n",
              "      <th>name</th>\n",
              "      <th>host_id</th>\n",
              "      <th>host_name</th>\n",
              "      <th>neighbourhood_group</th>\n",
              "      <th>neighbourhood</th>\n",
              "      <th>latitude</th>\n",
              "      <th>longitude</th>\n",
              "      <th>room_type</th>\n",
              "      <th>price</th>\n",
              "      <th>minimum_nights</th>\n",
              "      <th>number_of_reviews</th>\n",
              "      <th>last_review</th>\n",
              "      <th>reviews_per_month</th>\n",
              "      <th>calculated_host_listings_count</th>\n",
              "      <th>availability_365</th>\n",
              "    </tr>\n",
              "  </thead>\n",
              "  <tbody>\n",
              "    <tr>\n",
              "      <th>0</th>\n",
              "      <td>3002</td>\n",
              "      <td>OCEAN VIEW 1BLK2BEACH,LANAI A/C,FULL KITCH,CEN...</td>\n",
              "      <td>3364</td>\n",
              "      <td>Lynne</td>\n",
              "      <td>Honolulu</td>\n",
              "      <td>Primary Urban Center</td>\n",
              "      <td>21.27603</td>\n",
              "      <td>-157.82210</td>\n",
              "      <td>Private room</td>\n",
              "      <td>69</td>\n",
              "      <td>1</td>\n",
              "      <td>234</td>\n",
              "      <td>2019-08-28</td>\n",
              "      <td>2.09</td>\n",
              "      <td>1</td>\n",
              "      <td>35</td>\n",
              "    </tr>\n",
              "    <tr>\n",
              "      <th>1</th>\n",
              "      <td>5065</td>\n",
              "      <td>MAUKA BB</td>\n",
              "      <td>7257</td>\n",
              "      <td>Wayne</td>\n",
              "      <td>Hawaii</td>\n",
              "      <td>Hamakua</td>\n",
              "      <td>20.04095</td>\n",
              "      <td>-155.43251</td>\n",
              "      <td>Entire home/apt</td>\n",
              "      <td>85</td>\n",
              "      <td>2</td>\n",
              "      <td>37</td>\n",
              "      <td>2019-08-19</td>\n",
              "      <td>0.46</td>\n",
              "      <td>2</td>\n",
              "      <td>363</td>\n",
              "    </tr>\n",
              "    <tr>\n",
              "      <th>2</th>\n",
              "      <td>5269</td>\n",
              "      <td>Upcountry Hospitality in the 'Auwai Suite</td>\n",
              "      <td>7620</td>\n",
              "      <td>Lea &amp; Pat</td>\n",
              "      <td>Hawaii</td>\n",
              "      <td>South Kohala</td>\n",
              "      <td>20.02621</td>\n",
              "      <td>-155.70145</td>\n",
              "      <td>Entire home/apt</td>\n",
              "      <td>97</td>\n",
              "      <td>2</td>\n",
              "      <td>5</td>\n",
              "      <td>2019-09-04</td>\n",
              "      <td>0.05</td>\n",
              "      <td>7</td>\n",
              "      <td>333</td>\n",
              "    </tr>\n",
              "    <tr>\n",
              "      <th>3</th>\n",
              "      <td>5387</td>\n",
              "      <td>Hale Koa Studio &amp; 1 Bedroom Units!!</td>\n",
              "      <td>7878</td>\n",
              "      <td>Edward</td>\n",
              "      <td>Hawaii</td>\n",
              "      <td>South Kona</td>\n",
              "      <td>19.43119</td>\n",
              "      <td>-155.88079</td>\n",
              "      <td>Entire home/apt</td>\n",
              "      <td>92</td>\n",
              "      <td>5</td>\n",
              "      <td>159</td>\n",
              "      <td>2019-07-15</td>\n",
              "      <td>1.36</td>\n",
              "      <td>3</td>\n",
              "      <td>286</td>\n",
              "    </tr>\n",
              "    <tr>\n",
              "      <th>4</th>\n",
              "      <td>5389</td>\n",
              "      <td>Keauhou Villa</td>\n",
              "      <td>7878</td>\n",
              "      <td>Edward</td>\n",
              "      <td>Hawaii</td>\n",
              "      <td>North Kona</td>\n",
              "      <td>19.56413</td>\n",
              "      <td>-155.96347</td>\n",
              "      <td>Entire home/apt</td>\n",
              "      <td>299</td>\n",
              "      <td>6</td>\n",
              "      <td>15</td>\n",
              "      <td>2019-08-17</td>\n",
              "      <td>0.21</td>\n",
              "      <td>3</td>\n",
              "      <td>256</td>\n",
              "    </tr>\n",
              "  </tbody>\n",
              "</table>\n",
              "</div>"
            ],
            "text/plain": [
              "     id  ... availability_365\n",
              "0  3002  ...               35\n",
              "1  5065  ...              363\n",
              "2  5269  ...              333\n",
              "3  5387  ...              286\n",
              "4  5389  ...              256\n",
              "\n",
              "[5 rows x 16 columns]"
            ]
          },
          "metadata": {
            "tags": []
          },
          "execution_count": 7
        }
      ]
    },
    {
      "cell_type": "code",
      "metadata": {
        "id": "VdEUTpJ9FfCw",
        "colab_type": "code",
        "outputId": "d8a9cbf6-3d3c-4d23-bbd2-03b4013090e0",
        "colab": {
          "base_uri": "https://localhost:8080/",
          "height": 343
        }
      },
      "source": [
        "# mostrar as 5 últimas entradas\n",
        "df.tail()"
      ],
      "execution_count": 0,
      "outputs": [
        {
          "output_type": "execute_result",
          "data": {
            "text/html": [
              "<div>\n",
              "<style scoped>\n",
              "    .dataframe tbody tr th:only-of-type {\n",
              "        vertical-align: middle;\n",
              "    }\n",
              "\n",
              "    .dataframe tbody tr th {\n",
              "        vertical-align: top;\n",
              "    }\n",
              "\n",
              "    .dataframe thead th {\n",
              "        text-align: right;\n",
              "    }\n",
              "</style>\n",
              "<table border=\"1\" class=\"dataframe\">\n",
              "  <thead>\n",
              "    <tr style=\"text-align: right;\">\n",
              "      <th></th>\n",
              "      <th>id</th>\n",
              "      <th>name</th>\n",
              "      <th>host_id</th>\n",
              "      <th>host_name</th>\n",
              "      <th>neighbourhood_group</th>\n",
              "      <th>neighbourhood</th>\n",
              "      <th>latitude</th>\n",
              "      <th>longitude</th>\n",
              "      <th>room_type</th>\n",
              "      <th>price</th>\n",
              "      <th>minimum_nights</th>\n",
              "      <th>number_of_reviews</th>\n",
              "      <th>last_review</th>\n",
              "      <th>reviews_per_month</th>\n",
              "      <th>calculated_host_listings_count</th>\n",
              "      <th>availability_365</th>\n",
              "    </tr>\n",
              "  </thead>\n",
              "  <tbody>\n",
              "    <tr>\n",
              "      <th>23447</th>\n",
              "      <td>38553427</td>\n",
              "      <td>Seaside Escape</td>\n",
              "      <td>93069241</td>\n",
              "      <td>Andrew</td>\n",
              "      <td>Honolulu</td>\n",
              "      <td>East Honolulu</td>\n",
              "      <td>21.27817</td>\n",
              "      <td>-157.74902</td>\n",
              "      <td>Entire home/apt</td>\n",
              "      <td>445</td>\n",
              "      <td>2</td>\n",
              "      <td>0</td>\n",
              "      <td>NaN</td>\n",
              "      <td>NaN</td>\n",
              "      <td>12</td>\n",
              "      <td>256</td>\n",
              "    </tr>\n",
              "    <tr>\n",
              "      <th>23448</th>\n",
              "      <td>38555583</td>\n",
              "      <td>the ELEPHANT ROOM of WAIKIKI</td>\n",
              "      <td>60832928</td>\n",
              "      <td>Bj</td>\n",
              "      <td>Honolulu</td>\n",
              "      <td>Primary Urban Center</td>\n",
              "      <td>21.27748</td>\n",
              "      <td>-157.82566</td>\n",
              "      <td>Entire home/apt</td>\n",
              "      <td>159</td>\n",
              "      <td>2</td>\n",
              "      <td>0</td>\n",
              "      <td>NaN</td>\n",
              "      <td>NaN</td>\n",
              "      <td>17</td>\n",
              "      <td>180</td>\n",
              "    </tr>\n",
              "    <tr>\n",
              "      <th>23449</th>\n",
              "      <td>38558001</td>\n",
              "      <td>Quaint Home in North Kohala</td>\n",
              "      <td>294196064</td>\n",
              "      <td>An</td>\n",
              "      <td>Hawaii</td>\n",
              "      <td>North Kohala</td>\n",
              "      <td>20.23344</td>\n",
              "      <td>-155.81403</td>\n",
              "      <td>Entire home/apt</td>\n",
              "      <td>95</td>\n",
              "      <td>1</td>\n",
              "      <td>0</td>\n",
              "      <td>NaN</td>\n",
              "      <td>NaN</td>\n",
              "      <td>1</td>\n",
              "      <td>365</td>\n",
              "    </tr>\n",
              "    <tr>\n",
              "      <th>23450</th>\n",
              "      <td>38559093</td>\n",
              "      <td>SPECTACULAR OCEAN VIEW</td>\n",
              "      <td>292467425</td>\n",
              "      <td>Martina</td>\n",
              "      <td>Maui</td>\n",
              "      <td>Lahaina</td>\n",
              "      <td>20.96945</td>\n",
              "      <td>-156.67964</td>\n",
              "      <td>Entire home/apt</td>\n",
              "      <td>379</td>\n",
              "      <td>4</td>\n",
              "      <td>0</td>\n",
              "      <td>NaN</td>\n",
              "      <td>NaN</td>\n",
              "      <td>2</td>\n",
              "      <td>357</td>\n",
              "    </tr>\n",
              "    <tr>\n",
              "      <th>23451</th>\n",
              "      <td>38560079</td>\n",
              "      <td>Scenic, Private Bedroom Condo in Heart of Kona</td>\n",
              "      <td>31252899</td>\n",
              "      <td>Caroline</td>\n",
              "      <td>Hawaii</td>\n",
              "      <td>North Kona</td>\n",
              "      <td>19.62039</td>\n",
              "      <td>-155.98413</td>\n",
              "      <td>Private room</td>\n",
              "      <td>85</td>\n",
              "      <td>1</td>\n",
              "      <td>0</td>\n",
              "      <td>NaN</td>\n",
              "      <td>NaN</td>\n",
              "      <td>1</td>\n",
              "      <td>72</td>\n",
              "    </tr>\n",
              "  </tbody>\n",
              "</table>\n",
              "</div>"
            ],
            "text/plain": [
              "             id  ... availability_365\n",
              "23447  38553427  ...              256\n",
              "23448  38555583  ...              180\n",
              "23449  38558001  ...              365\n",
              "23450  38559093  ...              357\n",
              "23451  38560079  ...               72\n",
              "\n",
              "[5 rows x 16 columns]"
            ]
          },
          "metadata": {
            "tags": []
          },
          "execution_count": 8
        }
      ]
    },
    {
      "cell_type": "markdown",
      "metadata": {
        "id": "6-B_qtEaYEd-",
        "colab_type": "text"
      },
      "source": [
        "### **Q1. Quantos atributos (variáveis) e quantas entradas (observações) o nosso conjunto de dados possui? Quais os tipos das variáveis?**\n",
        "\n",
        "Vamos prosseguir e identificar a quantidade de entradas e variáveis que nosso conjunto de dados possui e ver os tipos de cada coluna."
      ]
    },
    {
      "cell_type": "code",
      "metadata": {
        "id": "TFRK0tniLV-G",
        "colab_type": "code",
        "outputId": "245c3d1a-c2cf-4b0b-c856-f024a4a00c7a",
        "colab": {
          "base_uri": "https://localhost:8080/",
          "height": 357
        }
      },
      "source": [
        "# identificar o volume de dados do DataFrame\n",
        "print('Número de entradas:\\t {}'.format(df.shape[0]))\n",
        "print('Número de variáveis:\\t {}\\n'.format(df.shape[1]))\n",
        "\n",
        "# identificar os tipos das variáveis\n",
        "display(df.dtypes)"
      ],
      "execution_count": 0,
      "outputs": [
        {
          "output_type": "stream",
          "text": [
            "Número de entradas:\t 23452\n",
            "Número de variáveis:\t 16\n",
            "\n"
          ],
          "name": "stdout"
        },
        {
          "output_type": "display_data",
          "data": {
            "text/plain": [
              "id                                  int64\n",
              "name                               object\n",
              "host_id                             int64\n",
              "host_name                          object\n",
              "neighbourhood_group                object\n",
              "neighbourhood                      object\n",
              "latitude                          float64\n",
              "longitude                         float64\n",
              "room_type                          object\n",
              "price                               int64\n",
              "minimum_nights                      int64\n",
              "number_of_reviews                   int64\n",
              "last_review                        object\n",
              "reviews_per_month                 float64\n",
              "calculated_host_listings_count      int64\n",
              "availability_365                    int64\n",
              "dtype: object"
            ]
          },
          "metadata": {
            "tags": []
          }
        }
      ]
    },
    {
      "cell_type": "markdown",
      "metadata": {
        "id": "yz1urSUGW9iE",
        "colab_type": "text"
      },
      "source": [
        "### **Q2. Qual a porcentagem de valores ausentes no *dataset*?**\n",
        "\n",
        "A qualidade de um *dataset* está diretamente relacionada à quantidade de valores ausentes. É importante entender logo no início se esses valores nulos são significativos comparados ao total de entradas.\n"
      ]
    },
    {
      "cell_type": "code",
      "metadata": {
        "id": "plk2FjbCXOqP",
        "colab_type": "code",
        "outputId": "133cdb65-090d-4499-b514-667a905bddd8",
        "colab": {
          "base_uri": "https://localhost:8080/",
          "height": 306
        }
      },
      "source": [
        "# ordenar em ordem decrescente as variáveis por seus valores ausentes\n",
        "(df.isnull().sum() / df.shape[0]).sort_values(ascending = False)"
      ],
      "execution_count": 0,
      "outputs": [
        {
          "output_type": "execute_result",
          "data": {
            "text/plain": [
              "reviews_per_month                 0.238871\n",
              "last_review                       0.238871\n",
              "host_name                         0.000043\n",
              "name                              0.000043\n",
              "availability_365                  0.000000\n",
              "calculated_host_listings_count    0.000000\n",
              "number_of_reviews                 0.000000\n",
              "minimum_nights                    0.000000\n",
              "price                             0.000000\n",
              "room_type                         0.000000\n",
              "longitude                         0.000000\n",
              "latitude                          0.000000\n",
              "neighbourhood                     0.000000\n",
              "neighbourhood_group               0.000000\n",
              "host_id                           0.000000\n",
              "id                                0.000000\n",
              "dtype: float64"
            ]
          },
          "metadata": {
            "tags": []
          },
          "execution_count": 11
        }
      ]
    },
    {
      "cell_type": "markdown",
      "metadata": {
        "id": "CcR2ZGW-K722",
        "colab_type": "text"
      },
      "source": [
        "Pelos resultados é possível observar que o dataset está bem completo, com pouquíssimos valores ausentes. \n",
        "\n",
        "Somente as as variáveis `reviews_per_month` e `last_review` possuem um valor alto de valores ausentes. Uma explicação possível nesse caso é a de que o imóvel ainda não tenha recebido nenhuma review. Para testar essa hipótese, iremos somar os valores da variável `number_of_review` onde `reviews_per_month`e `last_review` são valores nulos. Se o valor da soma for igual a zero, a hipótese é confirmada, caso contrário, houve algum erro na construção do dataset.\n",
        "\n",
        "Mas antes é necessário confirmar se as entradas em que a variável `reviews_per_month` é nula, são as mesmas em que a variável `last_review` também é nula. Para isso serão realizados os seguintes passos:\n",
        "* Dentro do dataset atual, selecionar somente as entradas em que a variável `reviews_per_month` é nula e a variável `last_review` é não nula.\n",
        "* Calcular o tamanho desse dataset.\n",
        "* Dentro do dataset atual, selecionar somente as entradas em que a variável `reviews_per_month` é não nula e a variável `last_review` é nula.\n",
        "* Calcular o tamanho desse outro dataset.\n",
        "\n",
        "Se o tamanho desses dois datasets forem iguais a zero, é possível afirmar que as entradas que possuem valores nulos na variável `reviews_per_month` são as mesmas que possuem valores nulos na variável `last_review`."
      ]
    },
    {
      "cell_type": "code",
      "metadata": {
        "id": "ZyNaKpqzMgCU",
        "colab_type": "code",
        "outputId": "d63e3602-6546-4b9f-8eda-a6a3203800e2",
        "colab": {
          "base_uri": "https://localhost:8080/",
          "height": 85
        }
      },
      "source": [
        "# identificar tamanho dos datasets:\n",
        "print('Tamanho do dataset em que as entradas de reviews_per_month são nulas e last_review são não nulas:\\t {}'.format(df[df['reviews_per_month'].isnull() & df['last_review'].notnull()].shape[0]))\n",
        "print('Tamanho do dataset em que as entradas de reviews_per_month são não nulas e last_review são nulas:\\t {}\\n'.format(df[df['reviews_per_month'].notnull() & df['last_review'].isnull()].shape[0]))\n",
        "print('Soma do número de reviews onde reviews_per_month e last_reviews são valores nulos:\\t {}'.format(df['number_of_reviews'][df['reviews_per_month'].isnull() & df['last_review'].isnull()].sum()))"
      ],
      "execution_count": 0,
      "outputs": [
        {
          "output_type": "stream",
          "text": [
            "Tamanho do dataset em que as entradas de reviews_per_month são nulas e last_review são não nulas:\t 0\n",
            "Tamanho do dataset em que as entradas de reviews_per_month são não nulas e last_review são nulas:\t 0\n",
            "\n",
            "Soma do número de reviews onde reviews_per_month e last_reviews são valores nulos:\t 0\n"
          ],
          "name": "stdout"
        }
      ]
    },
    {
      "cell_type": "markdown",
      "metadata": {
        "id": "L3K2f-m9Tos1",
        "colab_type": "text"
      },
      "source": [
        "Pelos resultados, confirma-se as duas hipóteses estabelecidas acima:\n",
        "* As entradas onde `reviews_por_month` são nulas, são as mesmas onde `last_review`são nulas.\n",
        "* A presença de valores nulos nessas variáveis não é devido a um erro do dataset e sim pelo fato de que o imóvel ainda não recebeu nenhuma review.\n",
        "\n",
        "Essa análise de que `reviews_por_month` e `last_review` apresentam valores nulos nas mesmas entradas pode parecer óbvia. Mas não é. Por exemplo, ao analisar os valores ausentes do dataset, observamos que existe uma entrada onde a variável `host_name` é nula. O mesmo é observado para a variável `name`. Mas será que a entrada em que `host_name` é nula é a mesma em que `name` é nula? Para responder essa pergunta realizamos a mesma análise feita anteriormente."
      ]
    },
    {
      "cell_type": "code",
      "metadata": {
        "id": "7KCFV1QTWffJ",
        "colab_type": "code",
        "outputId": "74d68c72-4034-4761-d2cb-98e1fa3fd46f",
        "colab": {
          "base_uri": "https://localhost:8080/",
          "height": 68
        }
      },
      "source": [
        "# identificar tamanho dos datasets:\n",
        "print('Tamanho do dataset em que host_name é um valor nulo e name não é nulo:\\t {}'.format(df[df['host_name'].isnull() & df['name'].notnull()].shape[0]))\n",
        "print('Tamanho do dataset em que host_name não é um valor nulo e name é nulo:\\t {}\\n'.format(df[df['host_name'].notnull() & df['name'].isnull()].shape[0]))"
      ],
      "execution_count": 0,
      "outputs": [
        {
          "output_type": "stream",
          "text": [
            "Tamanho do dataset em que host_name é um valor nulo e name não é nulo:\t 1\n",
            "Tamanho do dataset em que host_name não é um valor nulo e name é nulo:\t 1\n",
            "\n"
          ],
          "name": "stdout"
        }
      ]
    },
    {
      "cell_type": "markdown",
      "metadata": {
        "id": "DOXt20rAXBCj",
        "colab_type": "text"
      },
      "source": [
        "De acordo com o resultado é possível afirmar que a entrada onde a variável `host_name` é um valor ausente **não** é a mesma entrada onde a variavél `name` é um valor ausente."
      ]
    },
    {
      "cell_type": "markdown",
      "metadata": {
        "id": "ye7hAqF7UhM4",
        "colab_type": "text"
      },
      "source": [
        "### **Q3. Qual o tipo de distribuição das variáveis?** \n",
        "\n",
        "Para identificar a distribuição das variáveis, iremos plotar os respectivos histogramas. Porém, dentro do dataset existem quatro variáveis que são numéricas mas que não possuem nenhum significado lógico no histograma. Essas variáveis são: `host_id`, `id`, `latitude` e `longitude`. Logo, não serão plotados os histogramas dessas variáveis, somente das demais variáveis numéricas."
      ]
    },
    {
      "cell_type": "code",
      "metadata": {
        "id": "q2wWSfeRbmBo",
        "colab_type": "code",
        "outputId": "725a4beb-8bbb-4122-b1d5-cc94581590ed",
        "colab": {
          "base_uri": "https://localhost:8080/",
          "height": 607
        }
      },
      "source": [
        "# plotar o histograma das variáveis numéricas\n",
        "df[['availability_365', 'calculated_host_listings_count', 'minimum_nights', 'number_of_reviews', 'price', 'reviews_per_month']].hist(bins=15, figsize=(15,10));"
      ],
      "execution_count": 0,
      "outputs": [
        {
          "output_type": "display_data",
          "data": {
            "image/png": "[encoded data removed]",
            "text/plain": [
              "<Figure size 1080x720 with 6 Axes>"
            ]
          },
          "metadata": {
            "tags": []
          }
        }
      ]
    },
    {
      "cell_type": "markdown",
      "metadata": {
        "id": "dca9QiPHcKxA",
        "colab_type": "text"
      },
      "source": [
        "De acordo com os histogramas é possível observar que:\n",
        "* A distribuição da disponibilidade do imóvel no ano é relativamente uniforme. Há um número alto de imovéis com disponibilidade mais baixa, mas há muitos imovéis que ficam disponíveis por meio ano ou mais.\n",
        "\n",
        "* Existem muitos anfitriões com poucos imovéis anunciados. Por outro lado, existem poucos anfitriões que são donos de vários imóveis. Esse formato da distribuição sugere a presença de *outliers*.\n",
        "* Pela distribuição da variável `price` é possível inferir que há algum imóvel com preço bem elevado no dataset. Esse formato da distribuição da variável `price` também sugere a presença de *outliers*.\n",
        "* A distribuição da variável `minimum_nights` suguere que para boa parte dos imóveis, não é necessário a locação por tantos dias. Porém, há alguns imóveis em que é necessário a locação mínima de meio ano. Esse formato da distribuição da variável `minimum_nights` também sugere a presença de *outliers*.\n",
        "* A distribuição das variáveis `number_of_reviews` e `reviews_per_month` são bastante semelhantes. O que faz sentido, dado que quanto maior o número de reviews, maior será o número de reviews por mês. Além disso, o formato da distribuição de ambas as variáveis sugere a presença de *outliers*."
      ]
    },
    {
      "cell_type": "markdown",
      "metadata": {
        "id": "7x4aw1j5wNmn",
        "colab_type": "text"
      },
      "source": [
        "### **Q4. Há *outliers* presentes?**\n",
        "\n",
        "Pela distribuição do histograma, é possível verificar indícios da presença de *outliers*, onde somente no histograma da variável `availability_365` não há esses indícios. \n",
        "\n",
        "Os valores não seguem uma distruição bem definidia, e distorcem toda a representação gráfica. Para confirmar a presença de *outliers*, há duas maneiras rápidas que auxiliam a detecção. São elas:\n",
        "\n",
        "* Resumo estatístico por meio do método `describe()`\n",
        "* Plotar `boxplots` para a variável."
      ]
    },
    {
      "cell_type": "code",
      "metadata": {
        "id": "ff-8gUahLk-C",
        "colab_type": "code",
        "outputId": "df70a2e3-865c-4394-e216-66767c7a495e",
        "colab": {
          "base_uri": "https://localhost:8080/",
          "height": 297
        }
      },
      "source": [
        "# ver o resumo estatístico das variáveis numéricas que tenham um sentido lógico para a análise\n",
        "df[['calculated_host_listings_count', 'minimum_nights', 'price', 'reviews_per_month', 'number_of_reviews', 'availability_365']].describe()"
      ],
      "execution_count": 0,
      "outputs": [
        {
          "output_type": "execute_result",
          "data": {
            "text/html": [
              "<div>\n",
              "<style scoped>\n",
              "    .dataframe tbody tr th:only-of-type {\n",
              "        vertical-align: middle;\n",
              "    }\n",
              "\n",
              "    .dataframe tbody tr th {\n",
              "        vertical-align: top;\n",
              "    }\n",
              "\n",
              "    .dataframe thead th {\n",
              "        text-align: right;\n",
              "    }\n",
              "</style>\n",
              "<table border=\"1\" class=\"dataframe\">\n",
              "  <thead>\n",
              "    <tr style=\"text-align: right;\">\n",
              "      <th></th>\n",
              "      <th>calculated_host_listings_count</th>\n",
              "      <th>minimum_nights</th>\n",
              "      <th>price</th>\n",
              "      <th>reviews_per_month</th>\n",
              "      <th>number_of_reviews</th>\n",
              "      <th>availability_365</th>\n",
              "    </tr>\n",
              "  </thead>\n",
              "  <tbody>\n",
              "    <tr>\n",
              "      <th>count</th>\n",
              "      <td>23452.000000</td>\n",
              "      <td>23452.000000</td>\n",
              "      <td>23452.000000</td>\n",
              "      <td>17850.000000</td>\n",
              "      <td>23452.000000</td>\n",
              "      <td>23452.000000</td>\n",
              "    </tr>\n",
              "    <tr>\n",
              "      <th>mean</th>\n",
              "      <td>43.081614</td>\n",
              "      <td>5.390628</td>\n",
              "      <td>334.138581</td>\n",
              "      <td>1.407922</td>\n",
              "      <td>24.600461</td>\n",
              "      <td>199.038760</td>\n",
              "    </tr>\n",
              "    <tr>\n",
              "      <th>std</th>\n",
              "      <td>67.593206</td>\n",
              "      <td>10.632728</td>\n",
              "      <td>708.002354</td>\n",
              "      <td>1.526086</td>\n",
              "      <td>44.758354</td>\n",
              "      <td>106.107197</td>\n",
              "    </tr>\n",
              "    <tr>\n",
              "      <th>min</th>\n",
              "      <td>1.000000</td>\n",
              "      <td>1.000000</td>\n",
              "      <td>0.000000</td>\n",
              "      <td>0.010000</td>\n",
              "      <td>0.000000</td>\n",
              "      <td>0.000000</td>\n",
              "    </tr>\n",
              "    <tr>\n",
              "      <th>25%</th>\n",
              "      <td>2.000000</td>\n",
              "      <td>1.000000</td>\n",
              "      <td>126.000000</td>\n",
              "      <td>0.320000</td>\n",
              "      <td>1.000000</td>\n",
              "      <td>127.000000</td>\n",
              "    </tr>\n",
              "    <tr>\n",
              "      <th>50%</th>\n",
              "      <td>7.000000</td>\n",
              "      <td>3.000000</td>\n",
              "      <td>199.000000</td>\n",
              "      <td>0.910000</td>\n",
              "      <td>6.000000</td>\n",
              "      <td>215.000000</td>\n",
              "    </tr>\n",
              "    <tr>\n",
              "      <th>75%</th>\n",
              "      <td>59.000000</td>\n",
              "      <td>5.000000</td>\n",
              "      <td>335.000000</td>\n",
              "      <td>2.020000</td>\n",
              "      <td>29.000000</td>\n",
              "      <td>281.000000</td>\n",
              "    </tr>\n",
              "    <tr>\n",
              "      <th>max</th>\n",
              "      <td>277.000000</td>\n",
              "      <td>186.000000</td>\n",
              "      <td>24999.000000</td>\n",
              "      <td>27.270000</td>\n",
              "      <td>653.000000</td>\n",
              "      <td>365.000000</td>\n",
              "    </tr>\n",
              "  </tbody>\n",
              "</table>\n",
              "</div>"
            ],
            "text/plain": [
              "       calculated_host_listings_count  ...  availability_365\n",
              "count                    23452.000000  ...      23452.000000\n",
              "mean                        43.081614  ...        199.038760\n",
              "std                         67.593206  ...        106.107197\n",
              "min                          1.000000  ...          0.000000\n",
              "25%                          2.000000  ...        127.000000\n",
              "50%                          7.000000  ...        215.000000\n",
              "75%                         59.000000  ...        281.000000\n",
              "max                        277.000000  ...        365.000000\n",
              "\n",
              "[8 rows x 6 columns]"
            ]
          },
          "metadata": {
            "tags": []
          },
          "execution_count": 15
        }
      ]
    },
    {
      "cell_type": "markdown",
      "metadata": {
        "id": "V63n8X8dx99u",
        "colab_type": "text"
      },
      "source": [
        "A partir do resumo estatístico é possível observar que:\n",
        "* A variável `calculated_host_listings_count` possui uma média de aproximadamente 43, sendo que 75% dos valores estão abaixo de 59. Mas o valor máximo é 277. Nesse caso, as informações presentes no quarto quartil da amostra apresentam uma dispersão elevada. Essas características reforçam a hipótese de presença de *outliers*.\n",
        "* A média de `minimum_nights` é aproximadamente 5. Além disso, 75% dos imóveis tem como número mínimo de noites para locação valores menores ou iguais a 5. Mas o *range* de valores dentro do quarto quartil vai de 5 até 186 noites, uma dispersão bastante elevada. Mais uma vez, essa característica reforça a hipótese de *outliers*.\n",
        "* Analisando a variável `price` é possível perceber dois problemas. O primeiro é que as medidas estatísticas da variável reforçam a presença de *outliers*. A média da variável está maior que a mediana, além disso, o *range* do quarto quartil vai de 335 até 24999. Esses valores elevados acabam por elevar a média. O segundo problema está no valor mínimo do preço. Não faz sentido um imóvel ser anunciado com o preço igual a zero.\n",
        "* As medidas para a variável `number_of_reviews` indicam o mesmo problema das variáveis anteriores: valores muito elevados no quarto quartil. Esse problema acaba sendo passado para a variável `reviews_per_month`.\n",
        "* As medidas da variável `availability_365` não apresentam indícios de *outliers*, dado que os valores de *range* nos quartis não são muito dispersos. Porém, assim como na variável `price`, a variável `availability_365` apresenta um valor mínimo de 0. Se um imóvel está sendo anunciado no *Airbnb*, o que se espera é que ele esteja disponível para locação pelo menos em um dia do ano.\n",
        "\n",
        "O método `describe` reforçou a hipótese de *outliers*, além de apresentar outros problemas. Uma outra forma de auxiliar na identificação de *outliers* é pela análise do `boxplot`. O `boxplot` segue a seguinte estrutura: \n",
        "\n",
        "<center><img alt=\"bp\" width=\"60%\" src=\"https://drive.google.com/uc?id=1-5O80O8L3GXNvQD7bI3RmO7EHbn84sJ_\"></center>\n",
        "\n",
        "\n",
        "Nesse caso, se um valor é maior que o valor do terceiro quartil mais uma vez e meia o intervalo interquartil (limite superior) ou menor que o valor do primeiro quartil menos uma vez e meia o intervalo interquartil (limite inferior), o valor é considerado, por definição, um *outlier*. Logo, em um `boxplot` os valores identificados como pontos são *outliers*. Nesse caso, vamos plotar os `boxplots` das variáveis `calculated_host_listings_count`, `minimum_nights`, `price` e `number_of_reviews` para confirmar a presença de *outliers*."
      ]
    },
    {
      "cell_type": "markdown",
      "metadata": {
        "id": "HwY0xu_g69I1",
        "colab_type": "text"
      },
      "source": [
        "#### Boxplot para `calculated_host_listings_count`"
      ]
    },
    {
      "cell_type": "code",
      "metadata": {
        "id": "_YqoolWO7KFa",
        "colab_type": "code",
        "outputId": "2ea1bdc5-f9c9-49d2-880c-da01ba3b4f86",
        "colab": {
          "base_uri": "https://localhost:8080/",
          "height": 299
        }
      },
      "source": [
        "# calculated_host_listings_count\n",
        "df['calculated_host_listings_count'].plot(kind='box', vert=False, figsize=(15, 3))\n",
        "plt.show()\n",
        "\n",
        "# ver quantidade de valores considerados por definição como outliers para calculated_host_listings_count\n",
        "q3_soma_iiq_calculated_host = df['calculated_host_listings_count'].quantile(.75) + 1.5*(df['calculated_host_listings_count'].quantile(.75) - df['calculated_host_listings_count'].quantile(.25))\n",
        "print(\"\\nCálculo de outliers para calculated_host_listings_count\")\n",
        "print(\"Limite superior: {}\".format(q3_soma_iiq_calculated_host))\n",
        "print(\"{} entradas\".format(len(df[df['calculated_host_listings_count'] > q3_soma_iiq_calculated_host])))\n",
        "print(\"{:.4f}%\".format((len(df[df['calculated_host_listings_count'] > q3_soma_iiq_calculated_host]) / df.shape[0])*100))"
      ],
      "execution_count": 0,
      "outputs": [
        {
          "output_type": "display_data",
          "data": {
            "image/png": "[encoded data removed]",
            "text/plain": [
              "<Figure size 1080x216 with 1 Axes>"
            ]
          },
          "metadata": {
            "tags": []
          }
        },
        {
          "output_type": "stream",
          "text": [
            "\n",
            "Cálculo de outliers para calculated_host_listings_count\n",
            "Limite superior: 144.5\n",
            "2636 entradas\n",
            "11.2400%\n"
          ],
          "name": "stdout"
        }
      ]
    },
    {
      "cell_type": "markdown",
      "metadata": {
        "id": "u2tzsFUp9czb",
        "colab_type": "text"
      },
      "source": [
        "De acordo com o `boxplot` da variável é possível observar que valores superiores a 150 foram considerados como *outliers*. Esses valores representam 11.24% das entradas da amostra, uma quantidade bastante expressiva. Pelo fato do Hawaii ser uma região onde o turismo é relevante para a economia local, é esperado que pessoas tenham vários imóveis disponíveis para a locação. "
      ]
    },
    {
      "cell_type": "markdown",
      "metadata": {
        "id": "Y42n1eUo9LF_",
        "colab_type": "text"
      },
      "source": [
        "#### Boxplot para `minimum_nights`"
      ]
    },
    {
      "cell_type": "code",
      "metadata": {
        "id": "z_anOyjl9J_b",
        "colab_type": "code",
        "outputId": "cf51a1a4-6f23-4ba0-e48b-904d9438ab8d",
        "colab": {
          "base_uri": "https://localhost:8080/",
          "height": 299
        }
      },
      "source": [
        "# minimum_nights\n",
        "df.minimum_nights.plot(kind='box', vert=False, figsize=(15, 3))\n",
        "plt.show()\n",
        "\n",
        "# ver quantidade de valores considerados por definição como outliers para minimum_nights\n",
        "q3_soma_iiq_minimum_nights = df['minimum_nights'].quantile(.75) + 1.5*(df['minimum_nights'].quantile(.75) - df['minimum_nights'].quantile(.25))\n",
        "print(\"\\nCálculo de outliers para minimum_nights\")\n",
        "print(\"Limite superior: {}\".format(q3_soma_iiq_minimum_nights))\n",
        "print(\"{} entradas\".format(len(df[df.minimum_nights > q3_soma_iiq_minimum_nights])))\n",
        "print(\"{:.4f}%\".format((len(df[df.minimum_nights > q3_soma_iiq_minimum_nights]) / df.shape[0])*100))"
      ],
      "execution_count": 0,
      "outputs": [
        {
          "output_type": "display_data",
          "data": {
            "image/png": "[encoded data removed]",
            "text/plain": [
              "<Figure size 1080x216 with 1 Axes>"
            ]
          },
          "metadata": {
            "tags": []
          }
        },
        {
          "output_type": "stream",
          "text": [
            "\n",
            "Cálculo de outliers para minimum_nights\n",
            "Limite superior: 11.0\n",
            "1995 entradas\n",
            "8.5067%\n"
          ],
          "name": "stdout"
        }
      ]
    },
    {
      "cell_type": "markdown",
      "metadata": {
        "id": "GQwxuxn2-6Tw",
        "colab_type": "text"
      },
      "source": [
        "No `boxplot`da variável `minimum_nights` é possível observar visualmente como os valores do quarto quartil da amostra são dispersos. Existem desde imóveis onde a locação mínima são de 30 noites até mais de 175. Além disso, temos que aproximadamente 8.5% dos imóveis apresentam *outliers* na variável `minimum_nights`."
      ]
    },
    {
      "cell_type": "markdown",
      "metadata": {
        "id": "LuoYr68A9ZT8",
        "colab_type": "text"
      },
      "source": [
        "#### Boxplot para `price`"
      ]
    },
    {
      "cell_type": "code",
      "metadata": {
        "id": "vcV6ua6b9gg1",
        "colab_type": "code",
        "outputId": "290e2a60-a7ca-4447-e50e-421c62522f04",
        "colab": {
          "base_uri": "https://localhost:8080/",
          "height": 299
        }
      },
      "source": [
        "# price\n",
        "df.price.plot(kind='box', vert=False, figsize=(15, 3),)\n",
        "plt.show()\n",
        "\n",
        "# ver quantidade de valores considerados por definição como outliers para price\n",
        "q3_soma_iiq_price = df['price'].quantile(.75) + 1.5*(df['price'].quantile(.75) - df['price'].quantile(.25))\n",
        "print(\"\\nCálculo de outliers para price\")\n",
        "print(\"Limite superior: {}\".format(q3_soma_iiq_price))\n",
        "print(\"{} entradas\".format(len(df[df.price > q3_soma_iiq_price])))\n",
        "print(\"{:.4f}%\".format((len(df[df.price > q3_soma_iiq_price]) / df.shape[0])*100))"
      ],
      "execution_count": 0,
      "outputs": [
        {
          "output_type": "display_data",
          "data": {
            "image/png": "[encoded data removed]",
            "text/plain": [
              "<Figure size 1080x216 with 1 Axes>"
            ]
          },
          "metadata": {
            "tags": []
          }
        },
        {
          "output_type": "stream",
          "text": [
            "\n",
            "Cálculo de outliers para price\n",
            "Limite superior: 648.5\n",
            "1912 entradas\n",
            "8.1528%\n"
          ],
          "name": "stdout"
        }
      ]
    },
    {
      "cell_type": "markdown",
      "metadata": {
        "id": "v7Zo1Gp8ADN6",
        "colab_type": "text"
      },
      "source": [
        "Pelo `boxplot`da variável `price` é possível observar a dispersão dos valores no quarto quartil. Existe uma maior concentração da imóveis com preço da diária abaixo de 5000, após esse preço as entradas ficam mais dispersas. Além disso, aproximadamente 8% das entradas são consideradas como `outliers` para a variável `price`. "
      ]
    },
    {
      "cell_type": "markdown",
      "metadata": {
        "id": "kz6xfWVH-Kbo",
        "colab_type": "text"
      },
      "source": [
        "#### Boxplot para `number_of_reviews`"
      ]
    },
    {
      "cell_type": "code",
      "metadata": {
        "id": "k7FUq5oX-Pmc",
        "colab_type": "code",
        "outputId": "bcdc620e-7941-4c54-c061-f05fb8f2efcc",
        "colab": {
          "base_uri": "https://localhost:8080/",
          "height": 299
        }
      },
      "source": [
        "# number_of_reviews\n",
        "df['number_of_reviews'].plot(kind='box', vert=False, figsize=(15, 3),)\n",
        "plt.show()\n",
        "\n",
        "# ver quantidade de valores considerados por definição como outliers para price\n",
        "q3_soma_iiq_number_of_reviews = df['number_of_reviews'].quantile(.75) + 1.5*(df['number_of_reviews'].quantile(.75) - df['number_of_reviews'].quantile(.25))\n",
        "print(\"\\nCálculo de outliers para number_of_reviews\")\n",
        "print(\"Limite superior: {}\".format(q3_soma_iiq_number_of_reviews))\n",
        "print(\"{} entradas\".format(len(df[df.number_of_reviews > q3_soma_iiq_number_of_reviews])))\n",
        "print(\"{:.4f}%\".format((len(df[df.number_of_reviews > q3_soma_iiq_number_of_reviews]) / df.shape[0])*100))"
      ],
      "execution_count": 0,
      "outputs": [
        {
          "output_type": "display_data",
          "data": {
            "image/png": "[encoded data removed]",
            "text/plain": [
              "<Figure size 1080x216 with 1 Axes>"
            ]
          },
          "metadata": {
            "tags": []
          }
        },
        {
          "output_type": "stream",
          "text": [
            "\n",
            "Cálculo de outliers para number_of_reviews\n",
            "Limite superior: 71.0\n",
            "2410 entradas\n",
            "10.2763%\n"
          ],
          "name": "stdout"
        }
      ]
    },
    {
      "cell_type": "markdown",
      "metadata": {
        "id": "Uutqx-2bCbUC",
        "colab_type": "text"
      },
      "source": [
        "Pelo `boxplot` do número de reviews observa-se uma forte concentração de entradas com menos de 300 reviews dentro quarto quartil. Aproximadamente 10% dos imóveis possuem `outliers` para a variável `number_of_reviews`."
      ]
    },
    {
      "cell_type": "markdown",
      "metadata": {
        "id": "Wdf6p0KwC9-9",
        "colab_type": "text"
      },
      "source": [
        "#### Tratamento para *outliers*\n",
        "\n",
        "O tratamento comum para *outliers* é a remoção desse valor discrepante da amostra. Porém, esse tratamento tem de ser feito com cautela. Por exemplo, se consideramos que os *outliers* da variável `price` não são os mesmos da varíavel `minimum_nights`, e que também não são os mesmos da variável `calculated_host_listings_count`, podemos excluir aproximadamente 27% das nossas observações. Isso é muita perda de informação! Nesse caso, é mais interessante excluir somente os *outliers* das variáveis de interesse, logo, é importante analisar cada caso separadamente.\n",
        "\n",
        "Considerando o contexto turístico do Hawaii, é esperado que pessoas tenham vários imóveis para locação. Nesse caso, os *outliers* para a variável `calculated_host_listings_count` não serão removidos da amostra.\n",
        "\n",
        "Para a variável `minimum_nights` serão excluídos somente os valores que não fazem sentido no contexto de locação. Por exemplo, não faz muito sentido ter imóveis em que a quantidade mínina de dias para locação seja maior que 30. Dificilmente um turista vai passar mais de 30 dias viajando pelo Hawaii. Nesse caso, os valores para `minimum_nights` que serão removidos da amostra serão aqueles superiores a 30.\n",
        "\n",
        "Para a variável `price` serão excluídos somente os imóveis com preço superior a 5000. Ao analisarmos graficamente o `boxplot` da variável `price` é possível observar uma alta concentração de imóveis com preço abaixo desse valor, mesmo sendo considerados como *outliers*. Além disso, um imóvel em que a diária é 2500, por exemplo, pode ser considerado como *outlier* ao considerar todos os imóveis, mas talvez no bairro em que ele esteja incluído esse valor seja a média. \n",
        "\n",
        "Como a variável `number_of_reviews` não será considerada como objeto de análise,não serão feitas exclusões.\n",
        "\n",
        "Além de *outliers* serão excluidos os imóveis onde `price` e `availability_365` são iguais a zero. "
      ]
    },
    {
      "cell_type": "code",
      "metadata": {
        "id": "jUeJA3k-Y3VD",
        "colab_type": "code",
        "outputId": "44eca2d6-2e6b-403d-c3fc-1b232b48be43",
        "colab": {
          "base_uri": "https://localhost:8080/",
          "height": 297
        }
      },
      "source": [
        "# remover os *outliers* em um novo DataFrame\n",
        "df_clean = df.copy()\n",
        "df_clean.drop(df_clean[df_clean['minimum_nights'] > 30].index, axis=0, inplace=True)\n",
        "df_clean.drop(df_clean[df_clean['price'] > 5000].index, axis=0, inplace=True)\n",
        "\n",
        "df_clean.drop(df_clean[df_clean['availability_365'] == 0].index, axis=0, inplace=True)\n",
        "df_clean.drop(df_clean[df_clean['price'] == 0].index, axis=0, inplace=True)\n",
        "\n",
        "# fazendo o describe\n",
        "df_clean[['calculated_host_listings_count', 'minimum_nights', 'price', 'reviews_per_month', 'number_of_reviews', 'availability_365']].describe()"
      ],
      "execution_count": 0,
      "outputs": [
        {
          "output_type": "execute_result",
          "data": {
            "text/html": [
              "<div>\n",
              "<style scoped>\n",
              "    .dataframe tbody tr th:only-of-type {\n",
              "        vertical-align: middle;\n",
              "    }\n",
              "\n",
              "    .dataframe tbody tr th {\n",
              "        vertical-align: top;\n",
              "    }\n",
              "\n",
              "    .dataframe thead th {\n",
              "        text-align: right;\n",
              "    }\n",
              "</style>\n",
              "<table border=\"1\" class=\"dataframe\">\n",
              "  <thead>\n",
              "    <tr style=\"text-align: right;\">\n",
              "      <th></th>\n",
              "      <th>calculated_host_listings_count</th>\n",
              "      <th>minimum_nights</th>\n",
              "      <th>price</th>\n",
              "      <th>reviews_per_month</th>\n",
              "      <th>number_of_reviews</th>\n",
              "      <th>availability_365</th>\n",
              "    </tr>\n",
              "  </thead>\n",
              "  <tbody>\n",
              "    <tr>\n",
              "      <th>count</th>\n",
              "      <td>21831.000000</td>\n",
              "      <td>21831.000000</td>\n",
              "      <td>21831.000000</td>\n",
              "      <td>16835.000000</td>\n",
              "      <td>21831.000000</td>\n",
              "      <td>21831.000000</td>\n",
              "    </tr>\n",
              "    <tr>\n",
              "      <th>mean</th>\n",
              "      <td>44.097064</td>\n",
              "      <td>4.863314</td>\n",
              "      <td>304.715909</td>\n",
              "      <td>1.426299</td>\n",
              "      <td>25.390637</td>\n",
              "      <td>210.927076</td>\n",
              "    </tr>\n",
              "    <tr>\n",
              "      <th>std</th>\n",
              "      <td>68.253431</td>\n",
              "      <td>7.318537</td>\n",
              "      <td>381.190155</td>\n",
              "      <td>1.522625</td>\n",
              "      <td>45.358307</td>\n",
              "      <td>96.483113</td>\n",
              "    </tr>\n",
              "    <tr>\n",
              "      <th>min</th>\n",
              "      <td>1.000000</td>\n",
              "      <td>1.000000</td>\n",
              "      <td>10.000000</td>\n",
              "      <td>0.010000</td>\n",
              "      <td>0.000000</td>\n",
              "      <td>1.000000</td>\n",
              "    </tr>\n",
              "    <tr>\n",
              "      <th>25%</th>\n",
              "      <td>2.000000</td>\n",
              "      <td>1.000000</td>\n",
              "      <td>129.000000</td>\n",
              "      <td>0.330000</td>\n",
              "      <td>1.000000</td>\n",
              "      <td>147.000000</td>\n",
              "    </tr>\n",
              "    <tr>\n",
              "      <th>50%</th>\n",
              "      <td>7.000000</td>\n",
              "      <td>3.000000</td>\n",
              "      <td>199.000000</td>\n",
              "      <td>0.930000</td>\n",
              "      <td>6.000000</td>\n",
              "      <td>223.000000</td>\n",
              "    </tr>\n",
              "    <tr>\n",
              "      <th>75%</th>\n",
              "      <td>60.000000</td>\n",
              "      <td>4.000000</td>\n",
              "      <td>332.000000</td>\n",
              "      <td>2.050000</td>\n",
              "      <td>30.000000</td>\n",
              "      <td>284.000000</td>\n",
              "    </tr>\n",
              "    <tr>\n",
              "      <th>max</th>\n",
              "      <td>277.000000</td>\n",
              "      <td>30.000000</td>\n",
              "      <td>5000.000000</td>\n",
              "      <td>23.770000</td>\n",
              "      <td>653.000000</td>\n",
              "      <td>365.000000</td>\n",
              "    </tr>\n",
              "  </tbody>\n",
              "</table>\n",
              "</div>"
            ],
            "text/plain": [
              "       calculated_host_listings_count  ...  availability_365\n",
              "count                    21831.000000  ...      21831.000000\n",
              "mean                        44.097064  ...        210.927076\n",
              "std                         68.253431  ...         96.483113\n",
              "min                          1.000000  ...          1.000000\n",
              "25%                          2.000000  ...        147.000000\n",
              "50%                          7.000000  ...        223.000000\n",
              "75%                         60.000000  ...        284.000000\n",
              "max                        277.000000  ...        365.000000\n",
              "\n",
              "[8 rows x 6 columns]"
            ]
          },
          "metadata": {
            "tags": []
          },
          "execution_count": 20
        }
      ]
    },
    {
      "cell_type": "markdown",
      "metadata": {
        "id": "q0JnhVw8aoOt",
        "colab_type": "text"
      },
      "source": [
        "Ao excluir da amostra os *outliers* das variáveis `minimum_nights` e `price`, é possível observar que a média de ambas as variáveis se aproximam mais da mediana.\n",
        "\n",
        "\n",
        "#### Histograma para as variáveis após tratamento de *outliers*"
      ]
    },
    {
      "cell_type": "code",
      "metadata": {
        "id": "lJ4YiCXIbb8L",
        "colab_type": "code",
        "outputId": "d84d4e06-d365-4876-c339-27d3c6afb937",
        "colab": {
          "base_uri": "https://localhost:8080/",
          "height": 607
        }
      },
      "source": [
        "# plotar o histograma para as variáveis numéricas\n",
        "df_clean[['calculated_host_listings_count', 'minimum_nights', 'price', 'reviews_per_month', 'number_of_reviews', 'availability_365']].hist(bins=15, figsize=(15,10));"
      ],
      "execution_count": 0,
      "outputs": [
        {
          "output_type": "display_data",
          "data": {
            "image/png": "[encoded data removed]",
            "text/plain": [
              "<Figure size 1080x720 with 6 Axes>"
            ]
          },
          "metadata": {
            "tags": []
          }
        }
      ]
    },
    {
      "cell_type": "markdown",
      "metadata": {
        "id": "O_-BXs67bz6O",
        "colab_type": "text"
      },
      "source": [
        "Através do histograma de `minimum_nights` e `price` é possível observar que a distribuição ainda está apresentando indícios de *outliers*, o que era esperado já que só retiramos os *outliers* que eram muito discrepantes ou que não faziam sentido no contexto dos dados. "
      ]
    },
    {
      "cell_type": "markdown",
      "metadata": {
        "id": "IXn2oIo5qx-w",
        "colab_type": "text"
      },
      "source": [
        "### **Q5. Qual a correlação existente entre as variáveis**\n",
        "\n",
        "Se dizemos que duas coisas são correlacionadas significa que existe uma relação entre essas duas coisas. No nosso contexto, estamos buscando relação ou semelhança entre duas variáveis.\n",
        "\n",
        "Essa relação pode ser medida, e é função do coeficiente de correlação estabelecer qual a intensidade dela. Para identificar as correlações existentes entre as variáveis de interesse, vamos:\n",
        "\n",
        "* Criar uma matriz de correlação.\n",
        "* Gerar um *heatmap* a partir dessa matriz, usando a biblioteca `seaborn`.\n",
        "\n",
        "Assim como para as análises feitas anteriormente, serão utilizadas somente as variáveis númericas `calculated_host_listings_count`, `minimum_nights`, `price`, `reviews_per_month`, `number_of_reviews`, `availability_365`.\n",
        "\n"
      ]
    },
    {
      "cell_type": "code",
      "metadata": {
        "id": "x2ayzBajqxyd",
        "colab_type": "code",
        "outputId": "e2d579ee-d1c1-4f53-9e67-b952874a9b8f",
        "colab": {
          "base_uri": "https://localhost:8080/",
          "height": 235
        }
      },
      "source": [
        "# criar uma matriz de correlação\n",
        "corr = df_clean[['calculated_host_listings_count', 'minimum_nights', 'price', 'reviews_per_month', 'number_of_reviews', 'availability_365']].corr()\n",
        "# mostrar a matriz de correlação\n",
        "display(corr)"
      ],
      "execution_count": 0,
      "outputs": [
        {
          "output_type": "display_data",
          "data": {
            "text/html": [
              "<div>\n",
              "<style scoped>\n",
              "    .dataframe tbody tr th:only-of-type {\n",
              "        vertical-align: middle;\n",
              "    }\n",
              "\n",
              "    .dataframe tbody tr th {\n",
              "        vertical-align: top;\n",
              "    }\n",
              "\n",
              "    .dataframe thead th {\n",
              "        text-align: right;\n",
              "    }\n",
              "</style>\n",
              "<table border=\"1\" class=\"dataframe\">\n",
              "  <thead>\n",
              "    <tr style=\"text-align: right;\">\n",
              "      <th></th>\n",
              "      <th>calculated_host_listings_count</th>\n",
              "      <th>minimum_nights</th>\n",
              "      <th>price</th>\n",
              "      <th>reviews_per_month</th>\n",
              "      <th>number_of_reviews</th>\n",
              "      <th>availability_365</th>\n",
              "    </tr>\n",
              "  </thead>\n",
              "  <tbody>\n",
              "    <tr>\n",
              "      <th>calculated_host_listings_count</th>\n",
              "      <td>1.000000</td>\n",
              "      <td>-0.102610</td>\n",
              "      <td>0.150126</td>\n",
              "      <td>-0.293744</td>\n",
              "      <td>-0.269901</td>\n",
              "      <td>0.103886</td>\n",
              "    </tr>\n",
              "    <tr>\n",
              "      <th>minimum_nights</th>\n",
              "      <td>-0.102610</td>\n",
              "      <td>1.000000</td>\n",
              "      <td>0.001126</td>\n",
              "      <td>-0.091046</td>\n",
              "      <td>-0.041532</td>\n",
              "      <td>-0.026635</td>\n",
              "    </tr>\n",
              "    <tr>\n",
              "      <th>price</th>\n",
              "      <td>0.150126</td>\n",
              "      <td>0.001126</td>\n",
              "      <td>1.000000</td>\n",
              "      <td>-0.254276</td>\n",
              "      <td>-0.206463</td>\n",
              "      <td>0.059383</td>\n",
              "    </tr>\n",
              "    <tr>\n",
              "      <th>reviews_per_month</th>\n",
              "      <td>-0.293744</td>\n",
              "      <td>-0.091046</td>\n",
              "      <td>-0.254276</td>\n",
              "      <td>1.000000</td>\n",
              "      <td>0.618039</td>\n",
              "      <td>-0.101356</td>\n",
              "    </tr>\n",
              "    <tr>\n",
              "      <th>number_of_reviews</th>\n",
              "      <td>-0.269901</td>\n",
              "      <td>-0.041532</td>\n",
              "      <td>-0.206463</td>\n",
              "      <td>0.618039</td>\n",
              "      <td>1.000000</td>\n",
              "      <td>-0.018126</td>\n",
              "    </tr>\n",
              "    <tr>\n",
              "      <th>availability_365</th>\n",
              "      <td>0.103886</td>\n",
              "      <td>-0.026635</td>\n",
              "      <td>0.059383</td>\n",
              "      <td>-0.101356</td>\n",
              "      <td>-0.018126</td>\n",
              "      <td>1.000000</td>\n",
              "    </tr>\n",
              "  </tbody>\n",
              "</table>\n",
              "</div>"
            ],
            "text/plain": [
              "                                calculated_host_listings_count  ...  availability_365\n",
              "calculated_host_listings_count                        1.000000  ...          0.103886\n",
              "minimum_nights                                       -0.102610  ...         -0.026635\n",
              "price                                                 0.150126  ...          0.059383\n",
              "reviews_per_month                                    -0.293744  ...         -0.101356\n",
              "number_of_reviews                                    -0.269901  ...         -0.018126\n",
              "availability_365                                      0.103886  ...          1.000000\n",
              "\n",
              "[6 rows x 6 columns]"
            ]
          },
          "metadata": {
            "tags": []
          }
        }
      ]
    },
    {
      "cell_type": "markdown",
      "metadata": {
        "id": "1YvMy57TGOZd",
        "colab_type": "text"
      },
      "source": [
        "Utilizando a tabela de correlações é possível tirar *insights* da relação entre as variáveis. Porém, o gráfico de *heatmap* nos apresenta os mesmos valores e com a possibilidade de analisar visualmente."
      ]
    },
    {
      "cell_type": "code",
      "metadata": {
        "id": "91UujDr6ueqE",
        "colab_type": "code",
        "outputId": "f67f8a62-95fb-45fa-f933-3ed2e6fcddb3",
        "colab": {
          "base_uri": "https://localhost:8080/",
          "height": 411
        }
      },
      "source": [
        "# plotar um heatmap a partir das correlações\n",
        "sns.heatmap(corr, cmap='RdBu', fmt='.2f', square=True, linecolor='white', annot=True);"
      ],
      "execution_count": 0,
      "outputs": [
        {
          "output_type": "display_data",
          "data": {
            "image/png": "[encoded data removed]",
            "text/plain": [
              "<Figure size 432x288 with 2 Axes>"
            ]
          },
          "metadata": {
            "tags": []
          }
        }
      ]
    },
    {
      "cell_type": "markdown",
      "metadata": {
        "id": "XXLKhhZ0GrMe",
        "colab_type": "text"
      },
      "source": [
        "Analisando o *heatmap* é possível inferir que:\n",
        "* A diagonal do gráfico tem valor 1 porquê está calculando a correlação da variável com ela mesma.\n",
        "* A variável `price` apresenta uma correlação negativa com `reviews_per_month` e `number_of_reviews`. Isso nos permite observar que imóveis anunciados que são mais caros possuem um número menor de reviews.\n",
        "* As variáveis `reviews_per_month` e `number_of_reviews` possuem uma relação negativa com `calculated_host_listings_count`, ou seja, imóveis anunciados por anfitriões que possuem vários imóveis estão associados a anúncios com menos reviews.\n",
        "* A variável `price`e `calculated_host_listings_count` possuem uma correlação positiva, imóveis mais caros estão associados a anfitriões que possuem um maior número de anúncios. O que faz sentido, de acordo com as duas afirmações anteriores.\n",
        "* As demais correlações não são tão intensas quuanto as anteriores. Mas cabe ressaltar que a variável `calculated_host_listings_count` possui uma correlação negativa com `minimum_nights`. Imóveis associados a anfitriões que possuem mais anúncios são aqueles com um número menor de noites mínimas necessárias para a locação. Além disso, `calculated_host_listings_count` possui uma correlação positiva com `availability_365`, ou seja, imóveis de anfitriões com vários anúncios estão associados com uma disponibilidade maior durante o ano."
      ]
    },
    {
      "cell_type": "markdown",
      "metadata": {
        "id": "7b6RMWpuHKN-",
        "colab_type": "text"
      },
      "source": [
        "### **Q6. Qual o tipo de imóvel mais alugado no Airbnb?**\n",
        "\n",
        "A coluna da variável `room_type` indica o tipo de locação que está anunciada no Airbnb. Se você já alugou no site, sabe que existem opções de apartamentos/casas inteiras, apenas o aluguel de um quarto ou mesmo dividir o quarto com outras pessoas.\n",
        "\n",
        "Vamos contar a quantidade de ocorrências de cada tipo de aluguel, usando o método `value_counts()`."
      ]
    },
    {
      "cell_type": "code",
      "metadata": {
        "id": "ueLPNWvPHgfB",
        "colab_type": "code",
        "outputId": "4ec54a23-40f0-4a13-f474-20af0533de88",
        "colab": {
          "base_uri": "https://localhost:8080/",
          "height": 102
        }
      },
      "source": [
        "# mostrar a quantidade de cada tipo de imóvel disponível\n",
        "df_clean['room_type'].value_counts().sort_values(ascending = False)\n"
      ],
      "execution_count": 0,
      "outputs": [
        {
          "output_type": "execute_result",
          "data": {
            "text/plain": [
              "Entire home/apt    19334\n",
              "Private room        2142\n",
              "Hotel room           267\n",
              "Shared room           88\n",
              "Name: room_type, dtype: int64"
            ]
          },
          "metadata": {
            "tags": []
          },
          "execution_count": 25
        }
      ]
    },
    {
      "cell_type": "markdown",
      "metadata": {
        "id": "46K1Fql0LVRf",
        "colab_type": "text"
      },
      "source": [
        "O tipo de imóvel mais disponível para locação no Airbnb é do tipo apartamentos/casas inteiras. Enquanto os quartos compartilhados é o tipo com menos imóvel disponível para locação."
      ]
    },
    {
      "cell_type": "code",
      "metadata": {
        "id": "EvwoO-XAHhIm",
        "colab_type": "code",
        "outputId": "e5b0e102-6c8d-4b68-b690-8f496d53c0e9",
        "colab": {
          "base_uri": "https://localhost:8080/",
          "height": 102
        }
      },
      "source": [
        "# mostrar a porcentagem de cada tipo de imóvel disponível\n",
        "(df_clean['room_type'].value_counts() / df_clean.shape[0]).sort_values(ascending = False)\n"
      ],
      "execution_count": 0,
      "outputs": [
        {
          "output_type": "execute_result",
          "data": {
            "text/plain": [
              "Entire home/apt    0.885621\n",
              "Private room       0.098117\n",
              "Hotel room         0.012230\n",
              "Shared room        0.004031\n",
              "Name: room_type, dtype: float64"
            ]
          },
          "metadata": {
            "tags": []
          },
          "execution_count": 26
        }
      ]
    },
    {
      "cell_type": "markdown",
      "metadata": {
        "id": "Uw1lG6zpMkdO",
        "colab_type": "text"
      },
      "source": [
        "Aproximadamente 90% dos imóveis disponíveis no Airbnb no Hawaii são apartamentos/casas inteiras. Enquanto isso quartos de hoteis anúnciados no Airbnb são pouco mais de 1%.\n",
        "\n",
        "No breve histórico sobre o Hawaii, foi mostrado que o arquipélago é composto de seis grandes ilhas: Kauai, Oahu, Molokai, Maui, Lanai e Ilha do Hawaii. No dataset nos temos que a variável `neighbourhood_group` , que nos diz o nome do grupo no qual o bairro do imóvel em questão está localizado. "
      ]
    },
    {
      "cell_type": "code",
      "metadata": {
        "id": "a52c3aXGCZ4B",
        "colab_type": "code",
        "outputId": "182cfe63-64f3-4683-9d72-30941b14b885",
        "colab": {
          "base_uri": "https://localhost:8080/",
          "height": 34
        }
      },
      "source": [
        "df_clean['neighbourhood_group'].unique()"
      ],
      "execution_count": 0,
      "outputs": [
        {
          "output_type": "execute_result",
          "data": {
            "text/plain": [
              "array(['Honolulu', 'Hawaii', 'Kauai', 'Maui'], dtype=object)"
            ]
          },
          "metadata": {
            "tags": []
          },
          "execution_count": 28
        }
      ]
    },
    {
      "cell_type": "markdown",
      "metadata": {
        "id": "vN8io1LYN43O",
        "colab_type": "text"
      },
      "source": [
        "No caso, o dataset está mostrando em qual ilha está inserido o imóvel. No caso a ilha de Molokai e Lanai não possuem nenhum imóvel disponível. Pelo contexto faz sentido, dado que a ilha de Molokai é uma ilha mais preservada e Lanai é mais conhecida por grandes resorts. \n",
        "\n",
        "O grupo *Honolulu* se refere a ilha Oahu, onde está a capital Honolulu, e o grupo *Hawaii* se refere a Ilha do Hawaii.\n",
        "\n",
        "Tendo essa informação, é interessante observar qual ilha possui mais imóveis anunciados e qual sua proporção no total dos imóveis."
      ]
    },
    {
      "cell_type": "code",
      "metadata": {
        "id": "OqyJTKNFO-gY",
        "colab_type": "code",
        "outputId": "eb1c80e4-e476-4cb0-94e4-685c75882c90",
        "colab": {
          "base_uri": "https://localhost:8080/",
          "height": 102
        }
      },
      "source": [
        "df_clean['neighbourhood_group'].value_counts().sort_values(ascending = False)"
      ],
      "execution_count": 0,
      "outputs": [
        {
          "output_type": "execute_result",
          "data": {
            "text/plain": [
              "Maui        7335\n",
              "Honolulu    6220\n",
              "Hawaii      5308\n",
              "Kauai       2968\n",
              "Name: neighbourhood_group, dtype: int64"
            ]
          },
          "metadata": {
            "tags": []
          },
          "execution_count": 34
        }
      ]
    },
    {
      "cell_type": "code",
      "metadata": {
        "id": "pYQriPRxQxLi",
        "colab_type": "code",
        "outputId": "9303dc33-f047-4b13-e6c6-afae7fd9906a",
        "colab": {
          "base_uri": "https://localhost:8080/",
          "height": 102
        }
      },
      "source": [
        "(df_clean['neighbourhood_group'].value_counts() / df_clean.shape[0]).sort_values(ascending = False)"
      ],
      "execution_count": 0,
      "outputs": [
        {
          "output_type": "execute_result",
          "data": {
            "text/plain": [
              "Maui        0.335990\n",
              "Honolulu    0.284916\n",
              "Hawaii      0.243140\n",
              "Kauai       0.135953\n",
              "Name: neighbourhood_group, dtype: float64"
            ]
          },
          "metadata": {
            "tags": []
          },
          "execution_count": 35
        }
      ]
    },
    {
      "cell_type": "markdown",
      "metadata": {
        "id": "sq6QbmcpQ1q0",
        "colab_type": "text"
      },
      "source": [
        "Pelos resultados, a ilha que possui o maior número de imóveis disponíveis é a ilha Maui, seguida da ilha Oahu, Ilha do Hawaii e ilha Kauai. \n",
        "\n",
        "Como temos as informações relativas a latitude e longitude, iremos plotar o mapa da localização dos imóveis, identificado os imóveis por ilha."
      ]
    },
    {
      "cell_type": "code",
      "metadata": {
        "id": "r3VJBA-3R0NL",
        "colab_type": "code",
        "outputId": "bcd2d6e0-f22b-4a9f-a8ec-16b7b9f08a67",
        "colab": {
          "base_uri": "https://localhost:8080/",
          "height": 283
        }
      },
      "source": [
        "# plotar os imóveis pela latitude-longitude, separado por ilhas\n",
        "sns.scatterplot(y='latitude',x='longitude', hue='neighbourhood_group', data=df_clean,alpha=0.3);"
      ],
      "execution_count": 0,
      "outputs": [
        {
          "output_type": "display_data",
          "data": {
            "image/png": "[encoded data removed]",
            "text/plain": [
              "<Figure size 432x288 with 1 Axes>"
            ]
          },
          "metadata": {
            "tags": []
          }
        }
      ]
    },
    {
      "cell_type": "markdown",
      "metadata": {
        "id": "MFa5NbnLJMcd",
        "colab_type": "text"
      },
      "source": [
        "### **Q7. Qual a localidade mais cara do dataset?**\n",
        "\n",
        "Uma maneira de se verificar uma variável em função da outra é usando `groupby()`. No caso, queremos comparar as ilhas (`neighbourhoods_groups`) a partir do preço de locação.\n",
        "\n"
      ]
    },
    {
      "cell_type": "code",
      "metadata": {
        "id": "MD_xa143JZpi",
        "colab_type": "code",
        "outputId": "182e8306-77d7-4be5-de67-410c28b87794",
        "colab": {
          "base_uri": "https://localhost:8080/",
          "height": 119
        }
      },
      "source": [
        "# ver preços por ilha, na média\n",
        "df_clean.groupby(['neighbourhood_group'])['price'].mean().sort_values(ascending=False)\n"
      ],
      "execution_count": 0,
      "outputs": [
        {
          "output_type": "execute_result",
          "data": {
            "text/plain": [
              "neighbourhood_group\n",
              "Maui        363.212134\n",
              "Kauai       349.360849\n",
              "Hawaii      271.210437\n",
              "Honolulu    243.023151\n",
              "Name: price, dtype: float64"
            ]
          },
          "metadata": {
            "tags": []
          },
          "execution_count": 56
        }
      ]
    },
    {
      "cell_type": "markdown",
      "metadata": {
        "id": "Yf4pi4bDVZei",
        "colab_type": "text"
      },
      "source": [
        "No caso, a ilha que tem a maior média de preço de imóveis é a ilha Maui. Curiosamente, é a ilha que tem o maior número de imóveis anunciados também.\n",
        "\n",
        "Ao analisar as estatísticas descritivas do dataset, vimos que o imóvel mais caro custa 5000 por dia. "
      ]
    },
    {
      "cell_type": "code",
      "metadata": {
        "id": "0caHdN2GWT6f",
        "colab_type": "code",
        "outputId": "b577cecb-5c70-44e6-d866-cebd62a91566",
        "colab": {
          "base_uri": "https://localhost:8080/",
          "height": 117
        }
      },
      "source": [
        "df_clean[df_clean['price'] == 5000]"
      ],
      "execution_count": 0,
      "outputs": [
        {
          "output_type": "execute_result",
          "data": {
            "text/html": [
              "<div>\n",
              "<style scoped>\n",
              "    .dataframe tbody tr th:only-of-type {\n",
              "        vertical-align: middle;\n",
              "    }\n",
              "\n",
              "    .dataframe tbody tr th {\n",
              "        vertical-align: top;\n",
              "    }\n",
              "\n",
              "    .dataframe thead th {\n",
              "        text-align: right;\n",
              "    }\n",
              "</style>\n",
              "<table border=\"1\" class=\"dataframe\">\n",
              "  <thead>\n",
              "    <tr style=\"text-align: right;\">\n",
              "      <th></th>\n",
              "      <th>id</th>\n",
              "      <th>name</th>\n",
              "      <th>host_id</th>\n",
              "      <th>host_name</th>\n",
              "      <th>neighbourhood_group</th>\n",
              "      <th>neighbourhood</th>\n",
              "      <th>latitude</th>\n",
              "      <th>longitude</th>\n",
              "      <th>room_type</th>\n",
              "      <th>price</th>\n",
              "      <th>minimum_nights</th>\n",
              "      <th>number_of_reviews</th>\n",
              "      <th>last_review</th>\n",
              "      <th>reviews_per_month</th>\n",
              "      <th>calculated_host_listings_count</th>\n",
              "      <th>availability_365</th>\n",
              "    </tr>\n",
              "  </thead>\n",
              "  <tbody>\n",
              "    <tr>\n",
              "      <th>5835</th>\n",
              "      <td>14823754</td>\n",
              "      <td>Mele Komo</td>\n",
              "      <td>92684687</td>\n",
              "      <td>Bj</td>\n",
              "      <td>Honolulu</td>\n",
              "      <td>Koolaupoko</td>\n",
              "      <td>21.40193</td>\n",
              "      <td>-157.73828</td>\n",
              "      <td>Entire home/apt</td>\n",
              "      <td>5000</td>\n",
              "      <td>30</td>\n",
              "      <td>2</td>\n",
              "      <td>2017-08-24</td>\n",
              "      <td>0.06</td>\n",
              "      <td>2</td>\n",
              "      <td>346</td>\n",
              "    </tr>\n",
              "  </tbody>\n",
              "</table>\n",
              "</div>"
            ],
            "text/plain": [
              "            id       name  ...  calculated_host_listings_count availability_365\n",
              "5835  14823754  Mele Komo  ...                               2              346\n",
              "\n",
              "[1 rows x 16 columns]"
            ]
          },
          "metadata": {
            "tags": []
          },
          "execution_count": 55
        }
      ]
    },
    {
      "cell_type": "markdown",
      "metadata": {
        "id": "hSg-nM7CWkaV",
        "colab_type": "text"
      },
      "source": [
        "Ao ver o anúncio do imóvel observamos que o mesmo está localizado na ilha Oahu (Honolulu). Mas ao analisar a média do preço de imóveis por ilha, vimos que a ilha Oahu tem a menor média de preço da diária. \n",
        "\n",
        "Mais uma vez, como temos as informações relativas a latitude e longitude, iremos plotar o mapa da localização dos imóveis, mas dessa vez classificando pelo preço dos imóveis."
      ]
    },
    {
      "cell_type": "code",
      "metadata": {
        "id": "UxVJqJ_3W59I",
        "colab_type": "code",
        "outputId": "05b062c2-b4c9-4a77-c68c-78d50c85a2d6",
        "colab": {
          "base_uri": "https://localhost:8080/",
          "height": 473
        }
      },
      "source": [
        "# plotar os imóveis pela latitude-longitude\n",
        "df_clean.plot(kind=\"scatter\", x='longitude', y='latitude', alpha=0.4, c=df_clean['price'], s=8,\n",
        "              cmap=plt.get_cmap('jet'), figsize=(12,8));"
      ],
      "execution_count": 0,
      "outputs": [
        {
          "output_type": "display_data",
          "data": {
            "image/png": "[encoded data removed]",
            "text/plain": [
              "<Figure size 864x576 with 2 Axes>"
            ]
          },
          "metadata": {
            "tags": []
          }
        }
      ]
    },
    {
      "cell_type": "markdown",
      "metadata": {
        "id": "GkvAg623RjoR",
        "colab_type": "text"
      },
      "source": [
        "## Conclusões\n"
      ]
    },
    {
      "cell_type": "markdown",
      "metadata": {
        "id": "rbZ3Hsy9Ypw8",
        "colab_type": "text"
      },
      "source": [
        "O objetivo do *notebook* era realizar uma análise exploratória nos dados dos imóveis anunciados no Airbnb para o estado de Hawaii. Dentro da análise foi visto que o dataset disponibilizado é bem completo, tendo poucos valores ausentes. Caso o objeto de uma análise qualquer não seja relacionado às reviews feitas pelas pessoas que alugaram os imóveis, teríamos somente dois valores ausentes em mais de 20000 entradas.\n",
        "\n",
        "Foi visto também que algumas variáveis numéricas possuem *outliers*. Mas cabe ao usuário dos dados decidir qual o melhor procedimento quanto a isso. O procedimento feito nesse *notebook* foi remover da amostra somente os valores muito discrepantes ou que não faziam sentido no contexto. Além disso, houve a exclusão de algumas entradas com problemas na variável `price` e `availability_365`, de acordo também com o contexto dos dados.\n",
        "\n",
        "Na análise da correlação, o *insight* tirado foi na relação entre preço, reviews e número de imóveis do mesmo anfitrião. Imóveis de anfitriões que possuem outros imóveis anunciados tendem a serem mais caros e terem menos reviews. Provavelmente, como são mais caros, os imóveis são alugados com menos frequência, logo terão menos reviews. Como o anfitrião tem muitos imóveis, ele pode anunciar os imóveis com um preço mais alto, ele perde dinheiro na frequência de locação dos imóveis mas ganha na quantidade.\n",
        "\n",
        "O arquipélago do Hawaii é composto por seis ilhas principais, mas só quatro delas tem imóveis disponíveis para locação pelo Airbnb. A ilha de Maui possui o maior número de imóveis disponível para locação e a maior média de preço na diária. Porém, o imóvel mais caro está na ilha Oahu, onde a capital Honolulu está localizada.\n",
        "\n",
        "Mas se analisarmos a média do preço da diária dos imóveis, percebemos que a diferença não é muito grande. Nesse caso, é interessante realizar um teste estatístico para inferir se a diferença na média de preço é estatísticamente significativa. Ou seja, se realmente a média de preço na diária é maior ou menor dependendo da ilha."
      ]
    }
  ]
}