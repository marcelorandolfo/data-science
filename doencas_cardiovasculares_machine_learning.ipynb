{
  "nbformat": 4,
  "nbformat_minor": 0,
  "metadata": {
    "colab": {
      "name": "Doenças Cardiovasculares - Machine Learning.ipynb",
      "provenance": [],
      "collapsed_sections": [],
      "include_colab_link": true
    },
    "kernelspec": {
      "name": "python3",
      "display_name": "Python 3"
    },
    "widgets": {
      "application/vnd.jupyter.widget-state+json": {
        "73cd7ef3dcdc42cf96d22129c159c2ea": {
          "model_module": "@jupyter-widgets/controls",
          "model_name": "HBoxModel",
          "state": {
            "_view_name": "HBoxView",
            "_dom_classes": [],
            "_model_name": "HBoxModel",
            "_view_module": "@jupyter-widgets/controls",
            "_model_module_version": "1.5.0",
            "_view_count": null,
            "_view_module_version": "1.5.0",
            "box_style": "",
            "layout": "IPY_MODEL_9c245278352340f68c6f3d7c473bd690",
            "_model_module": "@jupyter-widgets/controls",
            "children": [
              "IPY_MODEL_5846d906963f45978f70b0bf22c4a7fe",
              "IPY_MODEL_c6a8d20f65f34c46abb6d3efbf6c19c6"
            ]
          }
        },
        "9c245278352340f68c6f3d7c473bd690": {
          "model_module": "@jupyter-widgets/base",
          "model_name": "LayoutModel",
          "state": {
            "_view_name": "LayoutView",
            "grid_template_rows": null,
            "right": null,
            "justify_content": null,
            "_view_module": "@jupyter-widgets/base",
            "overflow": null,
            "_model_module_version": "1.2.0",
            "_view_count": null,
            "flex_flow": null,
            "width": null,
            "min_width": null,
            "border": null,
            "align_items": null,
            "bottom": null,
            "_model_module": "@jupyter-widgets/base",
            "top": null,
            "grid_column": null,
            "overflow_y": null,
            "overflow_x": null,
            "grid_auto_flow": null,
            "grid_area": null,
            "grid_template_columns": null,
            "flex": null,
            "_model_name": "LayoutModel",
            "justify_items": null,
            "grid_row": null,
            "max_height": null,
            "align_content": null,
            "visibility": null,
            "align_self": null,
            "height": null,
            "min_height": null,
            "padding": null,
            "grid_auto_rows": null,
            "grid_gap": null,
            "max_width": null,
            "order": null,
            "_view_module_version": "1.2.0",
            "grid_template_areas": null,
            "object_position": null,
            "object_fit": null,
            "grid_auto_columns": null,
            "margin": null,
            "display": null,
            "left": null
          }
        },
        "5846d906963f45978f70b0bf22c4a7fe": {
          "model_module": "@jupyter-widgets/controls",
          "model_name": "VBoxModel",
          "state": {
            "_view_name": "VBoxView",
            "_dom_classes": [],
            "_model_name": "VBoxModel",
            "_view_module": "@jupyter-widgets/controls",
            "_model_module_version": "1.5.0",
            "_view_count": null,
            "_view_module_version": "1.5.0",
            "box_style": "",
            "layout": "IPY_MODEL_a1a937f0c5694e79bad54000c573d9da",
            "_model_module": "@jupyter-widgets/controls",
            "children": [
              "IPY_MODEL_3fa74c948a1a497297219e481b5a654f",
              "IPY_MODEL_2e4db4b4f8fc4380ab46a28b5d3d5659",
              "IPY_MODEL_9eb432aaa95347bd93086deccc0a8ef4",
              "IPY_MODEL_9c0cf7cc4e27416995c5e098655980e3",
              "IPY_MODEL_41afe880a3ee4c15a9345e44748b8f23",
              "IPY_MODEL_cdde6a468aa0440fa1e30ba616cbc09d",
              "IPY_MODEL_482190adfaa945428bbc04620f13b05f"
            ]
          }
        },
        "c6a8d20f65f34c46abb6d3efbf6c19c6": {
          "model_module": "@jupyter-widgets/controls",
          "model_name": "VBoxModel",
          "state": {
            "_view_name": "VBoxView",
            "_dom_classes": [],
            "_model_name": "VBoxModel",
            "_view_module": "@jupyter-widgets/controls",
            "_model_module_version": "1.5.0",
            "_view_count": null,
            "_view_module_version": "1.5.0",
            "box_style": "",
            "layout": "IPY_MODEL_3ec7a9d7a53441e8aa496f14ceb4fa67",
            "_model_module": "@jupyter-widgets/controls",
            "children": [
              "IPY_MODEL_e390652d0efd469d9fa12cb68f8ff599",
              "IPY_MODEL_d64033a9de6840ff8dd72f3217840747",
              "IPY_MODEL_12a7bb794626498183aa910b35311ff1",
              "IPY_MODEL_be4be207a82b4db8824f3a30a8cdf0a9",
              "IPY_MODEL_197429658ca640b69fd72e2b82f0852c"
            ]
          }
        },
        "a1a937f0c5694e79bad54000c573d9da": {
          "model_module": "@jupyter-widgets/base",
          "model_name": "LayoutModel",
          "state": {
            "_view_name": "LayoutView",
            "grid_template_rows": null,
            "right": null,
            "justify_content": null,
            "_view_module": "@jupyter-widgets/base",
            "overflow": null,
            "_model_module_version": "1.2.0",
            "_view_count": null,
            "flex_flow": null,
            "width": "50%",
            "min_width": null,
            "border": null,
            "align_items": null,
            "bottom": null,
            "_model_module": "@jupyter-widgets/base",
            "top": null,
            "grid_column": null,
            "overflow_y": null,
            "overflow_x": null,
            "grid_auto_flow": null,
            "grid_area": null,
            "grid_template_columns": null,
            "flex": null,
            "_model_name": "LayoutModel",
            "justify_items": null,
            "grid_row": null,
            "max_height": null,
            "align_content": null,
            "visibility": null,
            "align_self": null,
            "height": null,
            "min_height": null,
            "padding": null,
            "grid_auto_rows": null,
            "grid_gap": null,
            "max_width": null,
            "order": null,
            "_view_module_version": "1.2.0",
            "grid_template_areas": null,
            "object_position": null,
            "object_fit": null,
            "grid_auto_columns": null,
            "margin": null,
            "display": null,
            "left": null
          }
        },
        "3fa74c948a1a497297219e481b5a654f": {
          "model_module": "@jupyter-widgets/controls",
          "model_name": "TextModel",
          "state": {
            "_view_name": "TextView",
            "style": "IPY_MODEL_fd69bcc19a30497c89db234c9bf7570b",
            "_dom_classes": [],
            "description": "Idade (anos):",
            "_model_name": "TextModel",
            "placeholder": "​",
            "_view_module": "@jupyter-widgets/controls",
            "_model_module_version": "1.5.0",
            "value": "27",
            "_view_count": null,
            "disabled": false,
            "_view_module_version": "1.5.0",
            "continuous_update": true,
            "description_tooltip": null,
            "_model_module": "@jupyter-widgets/controls",
            "layout": "IPY_MODEL_4a4267fd4b384a528e0b95609ce7c194"
          }
        },
        "2e4db4b4f8fc4380ab46a28b5d3d5659": {
          "model_module": "@jupyter-widgets/controls",
          "model_name": "TextModel",
          "state": {
            "_view_name": "TextView",
            "style": "IPY_MODEL_4df0318ff8aa45c7bbb580a0e4b5ab85",
            "_dom_classes": [],
            "description": "Pressão arterial (mm/Hg):",
            "_model_name": "TextModel",
            "placeholder": "​",
            "_view_module": "@jupyter-widgets/controls",
            "_model_module_version": "1.5.0",
            "value": "110",
            "_view_count": null,
            "disabled": false,
            "_view_module_version": "1.5.0",
            "continuous_update": true,
            "description_tooltip": null,
            "_model_module": "@jupyter-widgets/controls",
            "layout": "IPY_MODEL_e192183cd89444ae86cf092caffc6777"
          }
        },
        "9eb432aaa95347bd93086deccc0a8ef4": {
          "model_module": "@jupyter-widgets/controls",
          "model_name": "TextModel",
          "state": {
            "_view_name": "TextView",
            "style": "IPY_MODEL_59c8342d03f6477c87095283c1fe5d48",
            "_dom_classes": [],
            "description": "Colesterol (mg/dl):",
            "_model_name": "TextModel",
            "placeholder": "​",
            "_view_module": "@jupyter-widgets/controls",
            "_model_module_version": "1.5.0",
            "value": "52",
            "_view_count": null,
            "disabled": false,
            "_view_module_version": "1.5.0",
            "continuous_update": true,
            "description_tooltip": null,
            "_model_module": "@jupyter-widgets/controls",
            "layout": "IPY_MODEL_48f1aae1c2914ffd839b23bab750d6e5"
          }
        },
        "9c0cf7cc4e27416995c5e098655980e3": {
          "model_module": "@jupyter-widgets/controls",
          "model_name": "TextModel",
          "state": {
            "_view_name": "TextView",
            "style": "IPY_MODEL_23ede16df22f4392a8e220b4cc3aa103",
            "_dom_classes": [],
            "description": "Frequência cardíaca (bpm):",
            "_model_name": "TextModel",
            "placeholder": "​",
            "_view_module": "@jupyter-widgets/controls",
            "_model_module_version": "1.5.0",
            "value": "100",
            "_view_count": null,
            "disabled": false,
            "_view_module_version": "1.5.0",
            "continuous_update": true,
            "description_tooltip": null,
            "_model_module": "@jupyter-widgets/controls",
            "layout": "IPY_MODEL_9816ccb2e6674b83b5a664860ea9741f"
          }
        },
        "41afe880a3ee4c15a9345e44748b8f23": {
          "model_module": "@jupyter-widgets/controls",
          "model_name": "TextModel",
          "state": {
            "_view_name": "TextView",
            "style": "IPY_MODEL_b16a0ea52f424237853cd95f25c6c6c3",
            "_dom_classes": [],
            "description": "Depressão do Segmento ST (mm):",
            "_model_name": "TextModel",
            "placeholder": "​",
            "_view_module": "@jupyter-widgets/controls",
            "_model_module_version": "1.5.0",
            "value": "1",
            "_view_count": null,
            "disabled": false,
            "_view_module_version": "1.5.0",
            "continuous_update": true,
            "description_tooltip": null,
            "_model_module": "@jupyter-widgets/controls",
            "layout": "IPY_MODEL_a1de036d149040ee93e4325575e2966d"
          }
        },
        "cdde6a468aa0440fa1e30ba616cbc09d": {
          "model_module": "@jupyter-widgets/controls",
          "model_name": "TextModel",
          "state": {
            "_view_name": "TextView",
            "style": "IPY_MODEL_e95e71575455499f9c5081ed9e9fdc99",
            "_dom_classes": [],
            "description": "Vasos color. por fluoroscopia (quant.):",
            "_model_name": "TextModel",
            "placeholder": "​",
            "_view_module": "@jupyter-widgets/controls",
            "_model_module_version": "1.5.0",
            "value": "0",
            "_view_count": null,
            "disabled": false,
            "_view_module_version": "1.5.0",
            "continuous_update": true,
            "description_tooltip": null,
            "_model_module": "@jupyter-widgets/controls",
            "layout": "IPY_MODEL_eb6a5c8bdad740478de9661b68351c74"
          }
        },
        "482190adfaa945428bbc04620f13b05f": {
          "model_module": "@jupyter-widgets/controls",
          "model_name": "RadioButtonsModel",
          "state": {
            "_options_labels": [
              "Ascendente",
              "Plana",
              "Descendente"
            ],
            "_view_name": "RadioButtonsView",
            "style": "IPY_MODEL_6d138f9b3bbe4e8696f621f27ddd8810",
            "_dom_classes": [],
            "description": "Inclinação do segmento ST-T:",
            "_model_name": "RadioButtonsModel",
            "index": 0,
            "_view_module": "@jupyter-widgets/controls",
            "_model_module_version": "1.5.0",
            "_view_count": null,
            "disabled": false,
            "_view_module_version": "1.5.0",
            "description_tooltip": null,
            "_model_module": "@jupyter-widgets/controls",
            "layout": "IPY_MODEL_01d56cd48d664529973db1e8bf06f27d"
          }
        },
        "3ec7a9d7a53441e8aa496f14ceb4fa67": {
          "model_module": "@jupyter-widgets/base",
          "model_name": "LayoutModel",
          "state": {
            "_view_name": "LayoutView",
            "grid_template_rows": null,
            "right": null,
            "justify_content": null,
            "_view_module": "@jupyter-widgets/base",
            "overflow": null,
            "_model_module_version": "1.2.0",
            "_view_count": null,
            "flex_flow": null,
            "width": null,
            "min_width": null,
            "border": null,
            "align_items": null,
            "bottom": null,
            "_model_module": "@jupyter-widgets/base",
            "top": null,
            "grid_column": null,
            "overflow_y": null,
            "overflow_x": null,
            "grid_auto_flow": null,
            "grid_area": null,
            "grid_template_columns": null,
            "flex": null,
            "_model_name": "LayoutModel",
            "justify_items": null,
            "grid_row": null,
            "max_height": null,
            "align_content": null,
            "visibility": null,
            "align_self": null,
            "height": null,
            "min_height": null,
            "padding": null,
            "grid_auto_rows": null,
            "grid_gap": null,
            "max_width": null,
            "order": null,
            "_view_module_version": "1.2.0",
            "grid_template_areas": null,
            "object_position": null,
            "object_fit": null,
            "grid_auto_columns": null,
            "margin": null,
            "display": null,
            "left": null
          }
        },
        "e390652d0efd469d9fa12cb68f8ff599": {
          "model_module": "@jupyter-widgets/controls",
          "model_name": "RadioButtonsModel",
          "state": {
            "_options_labels": [
              "Homem",
              "Mulher"
            ],
            "_view_name": "RadioButtonsView",
            "style": "IPY_MODEL_cc61cbd1f55a47f7876ba7f1b30fb8d9",
            "_dom_classes": [],
            "description": "Sexo:",
            "_model_name": "RadioButtonsModel",
            "index": 0,
            "_view_module": "@jupyter-widgets/controls",
            "_model_module_version": "1.5.0",
            "_view_count": null,
            "disabled": false,
            "_view_module_version": "1.5.0",
            "description_tooltip": null,
            "_model_module": "@jupyter-widgets/controls",
            "layout": "IPY_MODEL_15d52b4f3ce44eddb9291770bc6bb541"
          }
        },
        "d64033a9de6840ff8dd72f3217840747": {
          "model_module": "@jupyter-widgets/controls",
          "model_name": "RadioButtonsModel",
          "state": {
            "_options_labels": [
              "Não",
              "Sim"
            ],
            "_view_name": "RadioButtonsView",
            "style": "IPY_MODEL_683ba863b1b8462b99189a551b56644f",
            "_dom_classes": [],
            "description": "Angina após exercício:",
            "_model_name": "RadioButtonsModel",
            "index": 0,
            "_view_module": "@jupyter-widgets/controls",
            "_model_module_version": "1.5.0",
            "_view_count": null,
            "disabled": false,
            "_view_module_version": "1.5.0",
            "description_tooltip": null,
            "_model_module": "@jupyter-widgets/controls",
            "layout": "IPY_MODEL_c26488fd4b084a7f88530d8d199cccc3"
          }
        },
        "12a7bb794626498183aa910b35311ff1": {
          "model_module": "@jupyter-widgets/controls",
          "model_name": "RadioButtonsModel",
          "state": {
            "_options_labels": [
              "Normal",
              "Defeito fixo",
              "Defeito reversível"
            ],
            "_view_name": "RadioButtonsView",
            "style": "IPY_MODEL_7b2f111ce91449c6b146e9985c6985b3",
            "_dom_classes": [],
            "description": "Teste de stress cardíaco:",
            "_model_name": "RadioButtonsModel",
            "index": 0,
            "_view_module": "@jupyter-widgets/controls",
            "_model_module_version": "1.5.0",
            "_view_count": null,
            "disabled": false,
            "_view_module_version": "1.5.0",
            "description_tooltip": null,
            "_model_module": "@jupyter-widgets/controls",
            "layout": "IPY_MODEL_182d6da4f1fc486eb154711a5bdbba0b"
          }
        },
        "be4be207a82b4db8824f3a30a8cdf0a9": {
          "model_module": "@jupyter-widgets/controls",
          "model_name": "RadioButtonsModel",
          "state": {
            "_options_labels": [
              "Angina",
              "Angina atípica",
              "Dor não cardíaca",
              "Sem sintomas"
            ],
            "_view_name": "RadioButtonsView",
            "style": "IPY_MODEL_401f7a3e506743939fe0848ca5b1df2d",
            "_dom_classes": [],
            "description": "Tipo de dor torácica:",
            "_model_name": "RadioButtonsModel",
            "index": 3,
            "_view_module": "@jupyter-widgets/controls",
            "_model_module_version": "1.5.0",
            "_view_count": null,
            "disabled": false,
            "_view_module_version": "1.5.0",
            "description_tooltip": null,
            "_model_module": "@jupyter-widgets/controls",
            "layout": "IPY_MODEL_8a4e4db900ee487c86bf7e4af7a78e26"
          }
        },
        "197429658ca640b69fd72e2b82f0852c": {
          "model_module": "@jupyter-widgets/controls",
          "model_name": "RadioButtonsModel",
          "state": {
            "_options_labels": [
              "Normal",
              "Anormalidade do ST-T",
              "Hipertrofia ventricular"
            ],
            "_view_name": "RadioButtonsView",
            "style": "IPY_MODEL_a3425a1cc21040f28f4d25ec5b8de2a0",
            "_dom_classes": [],
            "description": "Eletrocardiografia:",
            "_model_name": "RadioButtonsModel",
            "index": 0,
            "_view_module": "@jupyter-widgets/controls",
            "_model_module_version": "1.5.0",
            "_view_count": null,
            "disabled": false,
            "_view_module_version": "1.5.0",
            "description_tooltip": null,
            "_model_module": "@jupyter-widgets/controls",
            "layout": "IPY_MODEL_65b6fb8d73d9456885d844461ef38cb4"
          }
        },
        "fd69bcc19a30497c89db234c9bf7570b": {
          "model_module": "@jupyter-widgets/controls",
          "model_name": "DescriptionStyleModel",
          "state": {
            "_view_name": "StyleView",
            "_model_name": "DescriptionStyleModel",
            "description_width": "150px",
            "_view_module": "@jupyter-widgets/base",
            "_model_module_version": "1.5.0",
            "_view_count": null,
            "_view_module_version": "1.2.0",
            "_model_module": "@jupyter-widgets/controls"
          }
        },
        "4a4267fd4b384a528e0b95609ce7c194": {
          "model_module": "@jupyter-widgets/base",
          "model_name": "LayoutModel",
          "state": {
            "_view_name": "LayoutView",
            "grid_template_rows": null,
            "right": null,
            "justify_content": null,
            "_view_module": "@jupyter-widgets/base",
            "overflow": null,
            "_model_module_version": "1.2.0",
            "_view_count": null,
            "flex_flow": null,
            "width": "400px",
            "min_width": null,
            "border": null,
            "align_items": null,
            "bottom": null,
            "_model_module": "@jupyter-widgets/base",
            "top": null,
            "grid_column": null,
            "overflow_y": null,
            "overflow_x": null,
            "grid_auto_flow": null,
            "grid_area": null,
            "grid_template_columns": null,
            "flex": null,
            "_model_name": "LayoutModel",
            "justify_items": null,
            "grid_row": null,
            "max_height": null,
            "align_content": null,
            "visibility": null,
            "align_self": null,
            "height": null,
            "min_height": null,
            "padding": null,
            "grid_auto_rows": null,
            "grid_gap": null,
            "max_width": null,
            "order": null,
            "_view_module_version": "1.2.0",
            "grid_template_areas": null,
            "object_position": null,
            "object_fit": null,
            "grid_auto_columns": null,
            "margin": null,
            "display": null,
            "left": null
          }
        },
        "4df0318ff8aa45c7bbb580a0e4b5ab85": {
          "model_module": "@jupyter-widgets/controls",
          "model_name": "DescriptionStyleModel",
          "state": {
            "_view_name": "StyleView",
            "_model_name": "DescriptionStyleModel",
            "description_width": "150px",
            "_view_module": "@jupyter-widgets/base",
            "_model_module_version": "1.5.0",
            "_view_count": null,
            "_view_module_version": "1.2.0",
            "_model_module": "@jupyter-widgets/controls"
          }
        },
        "e192183cd89444ae86cf092caffc6777": {
          "model_module": "@jupyter-widgets/base",
          "model_name": "LayoutModel",
          "state": {
            "_view_name": "LayoutView",
            "grid_template_rows": null,
            "right": null,
            "justify_content": null,
            "_view_module": "@jupyter-widgets/base",
            "overflow": null,
            "_model_module_version": "1.2.0",
            "_view_count": null,
            "flex_flow": null,
            "width": "400px",
            "min_width": null,
            "border": null,
            "align_items": null,
            "bottom": null,
            "_model_module": "@jupyter-widgets/base",
            "top": null,
            "grid_column": null,
            "overflow_y": null,
            "overflow_x": null,
            "grid_auto_flow": null,
            "grid_area": null,
            "grid_template_columns": null,
            "flex": null,
            "_model_name": "LayoutModel",
            "justify_items": null,
            "grid_row": null,
            "max_height": null,
            "align_content": null,
            "visibility": null,
            "align_self": null,
            "height": null,
            "min_height": null,
            "padding": null,
            "grid_auto_rows": null,
            "grid_gap": null,
            "max_width": null,
            "order": null,
            "_view_module_version": "1.2.0",
            "grid_template_areas": null,
            "object_position": null,
            "object_fit": null,
            "grid_auto_columns": null,
            "margin": null,
            "display": null,
            "left": null
          }
        },
        "59c8342d03f6477c87095283c1fe5d48": {
          "model_module": "@jupyter-widgets/controls",
          "model_name": "DescriptionStyleModel",
          "state": {
            "_view_name": "StyleView",
            "_model_name": "DescriptionStyleModel",
            "description_width": "150px",
            "_view_module": "@jupyter-widgets/base",
            "_model_module_version": "1.5.0",
            "_view_count": null,
            "_view_module_version": "1.2.0",
            "_model_module": "@jupyter-widgets/controls"
          }
        },
        "48f1aae1c2914ffd839b23bab750d6e5": {
          "model_module": "@jupyter-widgets/base",
          "model_name": "LayoutModel",
          "state": {
            "_view_name": "LayoutView",
            "grid_template_rows": null,
            "right": null,
            "justify_content": null,
            "_view_module": "@jupyter-widgets/base",
            "overflow": null,
            "_model_module_version": "1.2.0",
            "_view_count": null,
            "flex_flow": null,
            "width": "400px",
            "min_width": null,
            "border": null,
            "align_items": null,
            "bottom": null,
            "_model_module": "@jupyter-widgets/base",
            "top": null,
            "grid_column": null,
            "overflow_y": null,
            "overflow_x": null,
            "grid_auto_flow": null,
            "grid_area": null,
            "grid_template_columns": null,
            "flex": null,
            "_model_name": "LayoutModel",
            "justify_items": null,
            "grid_row": null,
            "max_height": null,
            "align_content": null,
            "visibility": null,
            "align_self": null,
            "height": null,
            "min_height": null,
            "padding": null,
            "grid_auto_rows": null,
            "grid_gap": null,
            "max_width": null,
            "order": null,
            "_view_module_version": "1.2.0",
            "grid_template_areas": null,
            "object_position": null,
            "object_fit": null,
            "grid_auto_columns": null,
            "margin": null,
            "display": null,
            "left": null
          }
        },
        "23ede16df22f4392a8e220b4cc3aa103": {
          "model_module": "@jupyter-widgets/controls",
          "model_name": "DescriptionStyleModel",
          "state": {
            "_view_name": "StyleView",
            "_model_name": "DescriptionStyleModel",
            "description_width": "210px",
            "_view_module": "@jupyter-widgets/base",
            "_model_module_version": "1.5.0",
            "_view_count": null,
            "_view_module_version": "1.2.0",
            "_model_module": "@jupyter-widgets/controls"
          }
        },
        "9816ccb2e6674b83b5a664860ea9741f": {
          "model_module": "@jupyter-widgets/base",
          "model_name": "LayoutModel",
          "state": {
            "_view_name": "LayoutView",
            "grid_template_rows": null,
            "right": null,
            "justify_content": null,
            "_view_module": "@jupyter-widgets/base",
            "overflow": null,
            "_model_module_version": "1.2.0",
            "_view_count": null,
            "flex_flow": null,
            "width": "400px",
            "min_width": null,
            "border": null,
            "align_items": null,
            "bottom": null,
            "_model_module": "@jupyter-widgets/base",
            "top": null,
            "grid_column": null,
            "overflow_y": null,
            "overflow_x": null,
            "grid_auto_flow": null,
            "grid_area": null,
            "grid_template_columns": null,
            "flex": null,
            "_model_name": "LayoutModel",
            "justify_items": null,
            "grid_row": null,
            "max_height": null,
            "align_content": null,
            "visibility": null,
            "align_self": null,
            "height": null,
            "min_height": null,
            "padding": null,
            "grid_auto_rows": null,
            "grid_gap": null,
            "max_width": null,
            "order": null,
            "_view_module_version": "1.2.0",
            "grid_template_areas": null,
            "object_position": null,
            "object_fit": null,
            "grid_auto_columns": null,
            "margin": null,
            "display": null,
            "left": null
          }
        },
        "b16a0ea52f424237853cd95f25c6c6c3": {
          "model_module": "@jupyter-widgets/controls",
          "model_name": "DescriptionStyleModel",
          "state": {
            "_view_name": "StyleView",
            "_model_name": "DescriptionStyleModel",
            "description_width": "210px",
            "_view_module": "@jupyter-widgets/base",
            "_model_module_version": "1.5.0",
            "_view_count": null,
            "_view_module_version": "1.2.0",
            "_model_module": "@jupyter-widgets/controls"
          }
        },
        "a1de036d149040ee93e4325575e2966d": {
          "model_module": "@jupyter-widgets/base",
          "model_name": "LayoutModel",
          "state": {
            "_view_name": "LayoutView",
            "grid_template_rows": null,
            "right": null,
            "justify_content": null,
            "_view_module": "@jupyter-widgets/base",
            "overflow": null,
            "_model_module_version": "1.2.0",
            "_view_count": null,
            "flex_flow": null,
            "width": "400px",
            "min_width": null,
            "border": null,
            "align_items": null,
            "bottom": null,
            "_model_module": "@jupyter-widgets/base",
            "top": null,
            "grid_column": null,
            "overflow_y": null,
            "overflow_x": null,
            "grid_auto_flow": null,
            "grid_area": null,
            "grid_template_columns": null,
            "flex": null,
            "_model_name": "LayoutModel",
            "justify_items": null,
            "grid_row": null,
            "max_height": null,
            "align_content": null,
            "visibility": null,
            "align_self": null,
            "height": null,
            "min_height": null,
            "padding": null,
            "grid_auto_rows": null,
            "grid_gap": null,
            "max_width": null,
            "order": null,
            "_view_module_version": "1.2.0",
            "grid_template_areas": null,
            "object_position": null,
            "object_fit": null,
            "grid_auto_columns": null,
            "margin": null,
            "display": null,
            "left": null
          }
        },
        "e95e71575455499f9c5081ed9e9fdc99": {
          "model_module": "@jupyter-widgets/controls",
          "model_name": "DescriptionStyleModel",
          "state": {
            "_view_name": "StyleView",
            "_model_name": "DescriptionStyleModel",
            "description_width": "230px",
            "_view_module": "@jupyter-widgets/base",
            "_model_module_version": "1.5.0",
            "_view_count": null,
            "_view_module_version": "1.2.0",
            "_model_module": "@jupyter-widgets/controls"
          }
        },
        "eb6a5c8bdad740478de9661b68351c74": {
          "model_module": "@jupyter-widgets/base",
          "model_name": "LayoutModel",
          "state": {
            "_view_name": "LayoutView",
            "grid_template_rows": null,
            "right": null,
            "justify_content": null,
            "_view_module": "@jupyter-widgets/base",
            "overflow": null,
            "_model_module_version": "1.2.0",
            "_view_count": null,
            "flex_flow": null,
            "width": "400px",
            "min_width": null,
            "border": null,
            "align_items": null,
            "bottom": null,
            "_model_module": "@jupyter-widgets/base",
            "top": null,
            "grid_column": null,
            "overflow_y": null,
            "overflow_x": null,
            "grid_auto_flow": null,
            "grid_area": null,
            "grid_template_columns": null,
            "flex": null,
            "_model_name": "LayoutModel",
            "justify_items": null,
            "grid_row": null,
            "max_height": null,
            "align_content": null,
            "visibility": null,
            "align_self": null,
            "height": null,
            "min_height": null,
            "padding": null,
            "grid_auto_rows": null,
            "grid_gap": null,
            "max_width": null,
            "order": null,
            "_view_module_version": "1.2.0",
            "grid_template_areas": null,
            "object_position": null,
            "object_fit": null,
            "grid_auto_columns": null,
            "margin": null,
            "display": null,
            "left": null
          }
        },
        "6d138f9b3bbe4e8696f621f27ddd8810": {
          "model_module": "@jupyter-widgets/controls",
          "model_name": "DescriptionStyleModel",
          "state": {
            "_view_name": "StyleView",
            "_model_name": "DescriptionStyleModel",
            "description_width": "210px",
            "_view_module": "@jupyter-widgets/base",
            "_model_module_version": "1.5.0",
            "_view_count": null,
            "_view_module_version": "1.2.0",
            "_model_module": "@jupyter-widgets/controls"
          }
        },
        "01d56cd48d664529973db1e8bf06f27d": {
          "model_module": "@jupyter-widgets/base",
          "model_name": "LayoutModel",
          "state": {
            "_view_name": "LayoutView",
            "grid_template_rows": null,
            "right": null,
            "justify_content": null,
            "_view_module": "@jupyter-widgets/base",
            "overflow": null,
            "_model_module_version": "1.2.0",
            "_view_count": null,
            "flex_flow": null,
            "width": "400px",
            "min_width": null,
            "border": null,
            "align_items": null,
            "bottom": null,
            "_model_module": "@jupyter-widgets/base",
            "top": null,
            "grid_column": null,
            "overflow_y": null,
            "overflow_x": null,
            "grid_auto_flow": null,
            "grid_area": null,
            "grid_template_columns": null,
            "flex": null,
            "_model_name": "LayoutModel",
            "justify_items": null,
            "grid_row": null,
            "max_height": null,
            "align_content": null,
            "visibility": null,
            "align_self": null,
            "height": null,
            "min_height": null,
            "padding": null,
            "grid_auto_rows": null,
            "grid_gap": null,
            "max_width": null,
            "order": null,
            "_view_module_version": "1.2.0",
            "grid_template_areas": null,
            "object_position": null,
            "object_fit": null,
            "grid_auto_columns": null,
            "margin": null,
            "display": null,
            "left": null
          }
        },
        "cc61cbd1f55a47f7876ba7f1b30fb8d9": {
          "model_module": "@jupyter-widgets/controls",
          "model_name": "DescriptionStyleModel",
          "state": {
            "_view_name": "StyleView",
            "_model_name": "DescriptionStyleModel",
            "description_width": "150px",
            "_view_module": "@jupyter-widgets/base",
            "_model_module_version": "1.5.0",
            "_view_count": null,
            "_view_module_version": "1.2.0",
            "_model_module": "@jupyter-widgets/controls"
          }
        },
        "15d52b4f3ce44eddb9291770bc6bb541": {
          "model_module": "@jupyter-widgets/base",
          "model_name": "LayoutModel",
          "state": {
            "_view_name": "LayoutView",
            "grid_template_rows": null,
            "right": null,
            "justify_content": null,
            "_view_module": "@jupyter-widgets/base",
            "overflow": null,
            "_model_module_version": "1.2.0",
            "_view_count": null,
            "flex_flow": null,
            "width": null,
            "min_width": null,
            "border": null,
            "align_items": null,
            "bottom": null,
            "_model_module": "@jupyter-widgets/base",
            "top": null,
            "grid_column": null,
            "overflow_y": null,
            "overflow_x": null,
            "grid_auto_flow": null,
            "grid_area": null,
            "grid_template_columns": null,
            "flex": null,
            "_model_name": "LayoutModel",
            "justify_items": null,
            "grid_row": null,
            "max_height": null,
            "align_content": null,
            "visibility": null,
            "align_self": null,
            "height": null,
            "min_height": null,
            "padding": null,
            "grid_auto_rows": null,
            "grid_gap": null,
            "max_width": null,
            "order": null,
            "_view_module_version": "1.2.0",
            "grid_template_areas": null,
            "object_position": null,
            "object_fit": null,
            "grid_auto_columns": null,
            "margin": null,
            "display": null,
            "left": null
          }
        },
        "683ba863b1b8462b99189a551b56644f": {
          "model_module": "@jupyter-widgets/controls",
          "model_name": "DescriptionStyleModel",
          "state": {
            "_view_name": "StyleView",
            "_model_name": "DescriptionStyleModel",
            "description_width": "150px",
            "_view_module": "@jupyter-widgets/base",
            "_model_module_version": "1.5.0",
            "_view_count": null,
            "_view_module_version": "1.2.0",
            "_model_module": "@jupyter-widgets/controls"
          }
        },
        "c26488fd4b084a7f88530d8d199cccc3": {
          "model_module": "@jupyter-widgets/base",
          "model_name": "LayoutModel",
          "state": {
            "_view_name": "LayoutView",
            "grid_template_rows": null,
            "right": null,
            "justify_content": null,
            "_view_module": "@jupyter-widgets/base",
            "overflow": null,
            "_model_module_version": "1.2.0",
            "_view_count": null,
            "flex_flow": null,
            "width": "400px",
            "min_width": null,
            "border": null,
            "align_items": null,
            "bottom": null,
            "_model_module": "@jupyter-widgets/base",
            "top": null,
            "grid_column": null,
            "overflow_y": null,
            "overflow_x": null,
            "grid_auto_flow": null,
            "grid_area": null,
            "grid_template_columns": null,
            "flex": null,
            "_model_name": "LayoutModel",
            "justify_items": null,
            "grid_row": null,
            "max_height": null,
            "align_content": null,
            "visibility": null,
            "align_self": null,
            "height": null,
            "min_height": null,
            "padding": null,
            "grid_auto_rows": null,
            "grid_gap": null,
            "max_width": null,
            "order": null,
            "_view_module_version": "1.2.0",
            "grid_template_areas": null,
            "object_position": null,
            "object_fit": null,
            "grid_auto_columns": null,
            "margin": null,
            "display": null,
            "left": null
          }
        },
        "7b2f111ce91449c6b146e9985c6985b3": {
          "model_module": "@jupyter-widgets/controls",
          "model_name": "DescriptionStyleModel",
          "state": {
            "_view_name": "StyleView",
            "_model_name": "DescriptionStyleModel",
            "description_width": "150px",
            "_view_module": "@jupyter-widgets/base",
            "_model_module_version": "1.5.0",
            "_view_count": null,
            "_view_module_version": "1.2.0",
            "_model_module": "@jupyter-widgets/controls"
          }
        },
        "182d6da4f1fc486eb154711a5bdbba0b": {
          "model_module": "@jupyter-widgets/base",
          "model_name": "LayoutModel",
          "state": {
            "_view_name": "LayoutView",
            "grid_template_rows": null,
            "right": null,
            "justify_content": null,
            "_view_module": "@jupyter-widgets/base",
            "overflow": null,
            "_model_module_version": "1.2.0",
            "_view_count": null,
            "flex_flow": null,
            "width": null,
            "min_width": null,
            "border": null,
            "align_items": null,
            "bottom": null,
            "_model_module": "@jupyter-widgets/base",
            "top": null,
            "grid_column": null,
            "overflow_y": null,
            "overflow_x": null,
            "grid_auto_flow": null,
            "grid_area": null,
            "grid_template_columns": null,
            "flex": null,
            "_model_name": "LayoutModel",
            "justify_items": null,
            "grid_row": null,
            "max_height": null,
            "align_content": null,
            "visibility": null,
            "align_self": null,
            "height": null,
            "min_height": null,
            "padding": null,
            "grid_auto_rows": null,
            "grid_gap": null,
            "max_width": null,
            "order": null,
            "_view_module_version": "1.2.0",
            "grid_template_areas": null,
            "object_position": null,
            "object_fit": null,
            "grid_auto_columns": null,
            "margin": null,
            "display": null,
            "left": null
          }
        },
        "401f7a3e506743939fe0848ca5b1df2d": {
          "model_module": "@jupyter-widgets/controls",
          "model_name": "DescriptionStyleModel",
          "state": {
            "_view_name": "StyleView",
            "_model_name": "DescriptionStyleModel",
            "description_width": "150px",
            "_view_module": "@jupyter-widgets/base",
            "_model_module_version": "1.5.0",
            "_view_count": null,
            "_view_module_version": "1.2.0",
            "_model_module": "@jupyter-widgets/controls"
          }
        },
        "8a4e4db900ee487c86bf7e4af7a78e26": {
          "model_module": "@jupyter-widgets/base",
          "model_name": "LayoutModel",
          "state": {
            "_view_name": "LayoutView",
            "grid_template_rows": null,
            "right": null,
            "justify_content": null,
            "_view_module": "@jupyter-widgets/base",
            "overflow": null,
            "_model_module_version": "1.2.0",
            "_view_count": null,
            "flex_flow": null,
            "width": null,
            "min_width": null,
            "border": null,
            "align_items": null,
            "bottom": null,
            "_model_module": "@jupyter-widgets/base",
            "top": null,
            "grid_column": null,
            "overflow_y": null,
            "overflow_x": null,
            "grid_auto_flow": null,
            "grid_area": null,
            "grid_template_columns": null,
            "flex": null,
            "_model_name": "LayoutModel",
            "justify_items": null,
            "grid_row": null,
            "max_height": null,
            "align_content": null,
            "visibility": null,
            "align_self": null,
            "height": null,
            "min_height": null,
            "padding": null,
            "grid_auto_rows": null,
            "grid_gap": null,
            "max_width": null,
            "order": null,
            "_view_module_version": "1.2.0",
            "grid_template_areas": null,
            "object_position": null,
            "object_fit": null,
            "grid_auto_columns": null,
            "margin": null,
            "display": null,
            "left": null
          }
        },
        "a3425a1cc21040f28f4d25ec5b8de2a0": {
          "model_module": "@jupyter-widgets/controls",
          "model_name": "DescriptionStyleModel",
          "state": {
            "_view_name": "StyleView",
            "_model_name": "DescriptionStyleModel",
            "description_width": "150px",
            "_view_module": "@jupyter-widgets/base",
            "_model_module_version": "1.5.0",
            "_view_count": null,
            "_view_module_version": "1.2.0",
            "_model_module": "@jupyter-widgets/controls"
          }
        },
        "65b6fb8d73d9456885d844461ef38cb4": {
          "model_module": "@jupyter-widgets/base",
          "model_name": "LayoutModel",
          "state": {
            "_view_name": "LayoutView",
            "grid_template_rows": null,
            "right": null,
            "justify_content": null,
            "_view_module": "@jupyter-widgets/base",
            "overflow": null,
            "_model_module_version": "1.2.0",
            "_view_count": null,
            "flex_flow": null,
            "width": "400px",
            "min_width": null,
            "border": null,
            "align_items": null,
            "bottom": null,
            "_model_module": "@jupyter-widgets/base",
            "top": null,
            "grid_column": null,
            "overflow_y": null,
            "overflow_x": null,
            "grid_auto_flow": null,
            "grid_area": null,
            "grid_template_columns": null,
            "flex": null,
            "_model_name": "LayoutModel",
            "justify_items": null,
            "grid_row": null,
            "max_height": null,
            "align_content": null,
            "visibility": null,
            "align_self": null,
            "height": null,
            "min_height": null,
            "padding": null,
            "grid_auto_rows": null,
            "grid_gap": null,
            "max_width": null,
            "order": null,
            "_view_module_version": "1.2.0",
            "grid_template_areas": null,
            "object_position": null,
            "object_fit": null,
            "grid_auto_columns": null,
            "margin": null,
            "display": null,
            "left": null
          }
        },
        "e3ba238a8bbc456ea3674933aa257131": {
          "model_module": "@jupyter-widgets/controls",
          "model_name": "ButtonModel",
          "state": {
            "_view_name": "ButtonView",
            "style": "IPY_MODEL_56d19371ce254efe99fad8819684b4f3",
            "_dom_classes": [],
            "description": "Simular",
            "_model_name": "ButtonModel",
            "button_style": "",
            "_view_module": "@jupyter-widgets/controls",
            "_model_module_version": "1.5.0",
            "tooltip": "",
            "_view_count": null,
            "disabled": false,
            "_view_module_version": "1.5.0",
            "layout": "IPY_MODEL_7eca8e2e9545431e894cc3ee00180fef",
            "_model_module": "@jupyter-widgets/controls",
            "icon": ""
          }
        },
        "56d19371ce254efe99fad8819684b4f3": {
          "model_module": "@jupyter-widgets/controls",
          "model_name": "ButtonStyleModel",
          "state": {
            "_view_name": "StyleView",
            "_model_name": "ButtonStyleModel",
            "_view_module": "@jupyter-widgets/base",
            "_model_module_version": "1.5.0",
            "_view_count": null,
            "button_color": null,
            "font_weight": "",
            "_view_module_version": "1.2.0",
            "_model_module": "@jupyter-widgets/controls"
          }
        },
        "7eca8e2e9545431e894cc3ee00180fef": {
          "model_module": "@jupyter-widgets/base",
          "model_name": "LayoutModel",
          "state": {
            "_view_name": "LayoutView",
            "grid_template_rows": null,
            "right": null,
            "justify_content": null,
            "_view_module": "@jupyter-widgets/base",
            "overflow": null,
            "_model_module_version": "1.2.0",
            "_view_count": null,
            "flex_flow": null,
            "width": null,
            "min_width": null,
            "border": null,
            "align_items": null,
            "bottom": null,
            "_model_module": "@jupyter-widgets/base",
            "top": null,
            "grid_column": null,
            "overflow_y": null,
            "overflow_x": null,
            "grid_auto_flow": null,
            "grid_area": null,
            "grid_template_columns": null,
            "flex": null,
            "_model_name": "LayoutModel",
            "justify_items": null,
            "grid_row": null,
            "max_height": null,
            "align_content": null,
            "visibility": null,
            "align_self": null,
            "height": null,
            "min_height": null,
            "padding": null,
            "grid_auto_rows": null,
            "grid_gap": null,
            "max_width": null,
            "order": null,
            "_view_module_version": "1.2.0",
            "grid_template_areas": null,
            "object_position": null,
            "object_fit": null,
            "grid_auto_columns": null,
            "margin": null,
            "display": null,
            "left": null
          }
        }
      }
    }
  },
  "cells": [
    {
      "cell_type": "markdown",
      "metadata": {
        "id": "view-in-github",
        "colab_type": "text"
      },
      "source": [
        "<a href=\"https://colab.research.google.com/github/marcelorandolfo/data-science/blob/master/doencas_cardiovasculares_machine_learning.ipynb\" target=\"_parent\"><img src=\"https://colab.research.google.com/assets/colab-badge.svg\" alt=\"Open In Colab\"/></a>"
      ]
    },
    {
      "cell_type": "markdown",
      "metadata": {
        "id": "FnMOXosW_U4j",
        "colab_type": "text"
      },
      "source": [
        "# Prevendo o diagnóstico de Doenças Cardiovasculares: uma aplicação de *Machine Learning*\n",
        "\n",
        "Doenças cardiovasculares são consideras como um grupo de doenças que afetam o coração e os vasos sanguíneos. Fazem parte do grupo de doenças cardiovasculares, doenças como:\n",
        "\n",
        "* Doença coronariana\n",
        "* Doença cerebrovascular\n",
        "* Doença arterial periférica\n",
        "* Doença cardíaca reumática\n",
        "* Cardiopatia congênita – malformações na estrutura do coração existentes desde o momento do nascimento\n",
        "* Trombose venosa profunda e embolia pulmonar.\n",
        "\n",
        "<center><img src='https://raw.githubusercontent.com/marcelorandolfo/data-science/master/images/heart_medical.jpg'width='450px' ></center>\n",
        "\n",
        "\n",
        "Apesar da cardiopatia congênita ser causada por malformações na estrutura do coração que existem desde o nascimento, as demais doenças cardiovasculares podem ser prevenidas por meio de hábitos mais saudáveis como: não fumar, não beber em excesso, praticar exercícios físicos regularmente, fazer uso de dietas mais nutritivas, entre outros.\n",
        "\n",
        "<center><img src='https://raw.githubusercontent.com/marcelorandolfo/data-science/master/images/heart_disease_health.jpg'width='400px' ></center>\n",
        "\n",
        "\n",
        "Mas segundo um artigo da [Nature](https://www.nature.com/articles/s41551-018-0195-0), a partir de um método de *Machine Learning*, foi observado que características que antes não eram consideradas como fator de risco para doenças cardiovasculares, como idade, sexo, pressão arterial, contribuem sim na chance de se desenvolver uma doença cardíaca.\n",
        "\n",
        "Considerando que doenças cardiovasculares são a principal causa de morte no mundo, segundo a [Organização Pan-Americana da Saúde](https://www.paho.org/bra/index.php?option=com_content&view=article&id=5253:doencas-cardiovasculares&Itemid=1096), é importante entender os principais fatores que levam as pessoas a desenvolveram doenças cardíacas, de forma a realizar um diagnóstico mais preciso e aumentar as chances de sobrevivência dos pacientes. E para isso devemos utilizar técnicas de *Machine Learning* cada vez mais .\n",
        "\n",
        "<center><img src='https://raw.githubusercontent.com/marcelorandolfo/data-science/master/images/ml_medical.jpeg'width='400px' ></center>"
      ]
    },
    {
      "cell_type": "markdown",
      "metadata": {
        "id": "dYxUNIfm_vO0",
        "colab_type": "text"
      },
      "source": [
        "## Obtenção dos dados\n",
        "\n",
        "O *dataset* que será utilizado para estimar o modelo de *Machine Learning* foi obtido atráves da iniciativa [UCI Machine Learning](https://archive.ics.uci.edu/ml/index.php) da *University of California, Irvine*. Neste [link](https://archive.ics.uci.edu/ml/datasets/Heart+Disease) é possível obter as informações, bem como os dados, que serão utilizados. \n",
        "\n",
        "Entretanto, o *dataset* e o dicionário de variáveis disponibilizados não estão formatados em arquivos `csv`. No caso, os dados estão em um arquivo `.data` e o dicionário de variáveis em um arquivo `.name`. Nesse *notebook* nós não iremos trabalhar diretamente com esses dados, e sim a partir de um *dataset* já pré-processado. Caso queira, neste [link](https://github.com/marcelorandolfo/data-science/blob/master/processamento_dados_uci_heart_disease.ipynb) está o *notebook* do passo a passo que foi realizado para pré-processar os dados, além da exposição do dicionário de variáveis.\n",
        "\n",
        "Os dados utilizados têm como fonte primária a *Cleveland Clinic Foundation*, e possuem informações pessoais e médicas de 303 pacientes (não identificados). Essas informações estão divididas em 14 diferentes atributos.\n"
      ]
    },
    {
      "cell_type": "markdown",
      "metadata": {
        "id": "3PYcS2h9_88D",
        "colab_type": "text"
      },
      "source": [
        "### Informações sobre os atributos\n",
        "\n",
        "Segundo o dicionário de variáveis, os atributos estão classificados em:\n",
        "\n",
        "* `age` - idade em anos\n",
        "* `sex` - sexo do paciente\n",
        "  * 0: mulher\n",
        "  * 1: homem\n",
        "* `cp` - tipo da dor torácica\n",
        "  * 1: angina (tipo de dor no peito causada pela redução do fluxo sanguíneo para o coração) típica\n",
        "  * 2: angina atípica\n",
        "  * 3: dor não cardíaca\n",
        "  * 4: assintomática (sem sintomas)\n",
        "* `trestbps` - pressão arterial em repouso medida em mm Hg (milímetros de mércurio) no momento de admissão no hospital (considerada alta caso seja superior a 140 mm Hg)\n",
        "* `chol` - colesterol sérico medido em mg/dl (sérico é um termo usado para se referir a quantidade de uma determinada substância no sangue)\n",
        "* `fbs` - açúcar no sangue em jejum > 120mg/dl\n",
        "  * 0: False\n",
        "  * 1: True\n",
        "* `restecg` - resultado do eletrocardiografia de repouso (eletrocardiografia é o processo de produção de um eletrocardiograma, gráfico de voltagem/tempo, da atividade elétrica do coração)\n",
        "  * 0: normal\n",
        "  * 1: anormalidades de ST-T (inversão da onda T e elevação ou depressão de > 0.05mV)\n",
        "  * 2: hipertrofia ventricular esquerda provável ou definitiva (pelos critérios de Romhilt-Estes)\n",
        "* `thalach` - frequência cardíaca máxima atingida, medida em batimentos por minuto (bpm)\n",
        "* `exang` - angina (tipo de dor no peito causada pela redução do fluxo sanguíneo para o coração) induzida pelo exercício\n",
        "  * 0: não\n",
        "  * 1: sim\n",
        "* `oldpeak` - depressão do segmento ST induzida pelo exercício em relação ao repouso ( segmento ST corresponde ao intervalo entre o fim da despolarização e o início da repolarização ventricular)\n",
        "* `slope` - inclinação do segmento ST no pico do exercício\n",
        "  * 1: ascendente\n",
        "  * 2: plana\n",
        "  * 3: descendente\n",
        "* `ca` - número de vasos principais coloridos por fluoroscopia\n",
        "* `thal` - teste de stress com tálio (teste cardiológico que mede a capacidade do coração de responder ao estresse externo em um ambiente clínico controlado, feito por estimulação farmacológica intravenosa)\n",
        "  * 3: normal\n",
        "  * 6: defeito fixo\n",
        "  * 7: defeito reversível\n",
        "* `num` - diagnóstico de doença cardíaca (diagnóstico angiográfico)\n",
        "  * 0: não há doença cardíaca ( < 50% de estreitamento do diâmetro)\n",
        "  * 1, 2, 3 ou 4: há doença cardíaca ( > 50% de estreitamento do diâmetro)\n",
        "\n",
        "No nosso modelo de *Machine Learning*, a variável `num` será nosso alvo. O objetivo é estimar um modelo que prevê a probabilidade de um paciente desenvolver uma doença cardíaca, dadas as suas características pessoais e de saúde.\n",
        "\n",
        "**Obs.:** informações entre parênteses `()` foram adicionadas para facilitar a compreensão das informações nas variáveis. Qualquer erro ou omissão é de inteira responsabilidade do autor.\n"
      ]
    },
    {
      "cell_type": "markdown",
      "metadata": {
        "id": "tTM8NFaOAJdE",
        "colab_type": "text"
      },
      "source": [
        "### Importando os dados\n",
        "\n",
        "Como já houve um pré-processamento dos dados, a importação do *dataset* será feito a partir do meu diretório no [Github](https://github.com/marcelorandolfo/data-science/blob/master/data/heart_disease.csv)."
      ]
    },
    {
      "cell_type": "code",
      "metadata": {
        "id": "jyQWL66GAOs2",
        "colab_type": "code",
        "outputId": "e33d55b9-cd6d-4bcf-9614-b99a2384e3df",
        "colab": {
          "base_uri": "https://localhost:8080/",
          "height": 204
        }
      },
      "source": [
        "# importar as bibliotecas necessárias\n",
        "import pandas as pd\n",
        "import matplotlib.pyplot as plt\n",
        "import numpy as np\n",
        "import seaborn as sns\n",
        "\n",
        "# estilo do notebook\n",
        "sns.set()\n",
        "\n",
        "# url dos datasets\n",
        "data = 'https://raw.githubusercontent.com/marcelorandolfo/data-science/master/data/heart_disease.csv'\n",
        "\n",
        "# importar dataset da UCI\n",
        "df = pd.read_csv(data)\n",
        "\n",
        "# visualizar as primeiras 5 entradas\n",
        "df.head()"
      ],
      "execution_count": 1,
      "outputs": [
        {
          "output_type": "execute_result",
          "data": {
            "text/html": [
              "<div>\n",
              "<style scoped>\n",
              "    .dataframe tbody tr th:only-of-type {\n",
              "        vertical-align: middle;\n",
              "    }\n",
              "\n",
              "    .dataframe tbody tr th {\n",
              "        vertical-align: top;\n",
              "    }\n",
              "\n",
              "    .dataframe thead th {\n",
              "        text-align: right;\n",
              "    }\n",
              "</style>\n",
              "<table border=\"1\" class=\"dataframe\">\n",
              "  <thead>\n",
              "    <tr style=\"text-align: right;\">\n",
              "      <th></th>\n",
              "      <th>age</th>\n",
              "      <th>sex</th>\n",
              "      <th>cp</th>\n",
              "      <th>trestbps</th>\n",
              "      <th>chol</th>\n",
              "      <th>fbs</th>\n",
              "      <th>restecg</th>\n",
              "      <th>thalach</th>\n",
              "      <th>exang</th>\n",
              "      <th>oldpeak</th>\n",
              "      <th>slope</th>\n",
              "      <th>ca</th>\n",
              "      <th>thal</th>\n",
              "      <th>num</th>\n",
              "    </tr>\n",
              "  </thead>\n",
              "  <tbody>\n",
              "    <tr>\n",
              "      <th>0</th>\n",
              "      <td>63.0</td>\n",
              "      <td>1.0</td>\n",
              "      <td>1.0</td>\n",
              "      <td>145.0</td>\n",
              "      <td>233.0</td>\n",
              "      <td>1.0</td>\n",
              "      <td>2.0</td>\n",
              "      <td>150.0</td>\n",
              "      <td>0.0</td>\n",
              "      <td>2.3</td>\n",
              "      <td>3.0</td>\n",
              "      <td>0.0</td>\n",
              "      <td>6.0</td>\n",
              "      <td>0</td>\n",
              "    </tr>\n",
              "    <tr>\n",
              "      <th>1</th>\n",
              "      <td>67.0</td>\n",
              "      <td>1.0</td>\n",
              "      <td>4.0</td>\n",
              "      <td>160.0</td>\n",
              "      <td>286.0</td>\n",
              "      <td>0.0</td>\n",
              "      <td>2.0</td>\n",
              "      <td>108.0</td>\n",
              "      <td>1.0</td>\n",
              "      <td>1.5</td>\n",
              "      <td>2.0</td>\n",
              "      <td>3.0</td>\n",
              "      <td>3.0</td>\n",
              "      <td>2</td>\n",
              "    </tr>\n",
              "    <tr>\n",
              "      <th>2</th>\n",
              "      <td>67.0</td>\n",
              "      <td>1.0</td>\n",
              "      <td>4.0</td>\n",
              "      <td>120.0</td>\n",
              "      <td>229.0</td>\n",
              "      <td>0.0</td>\n",
              "      <td>2.0</td>\n",
              "      <td>129.0</td>\n",
              "      <td>1.0</td>\n",
              "      <td>2.6</td>\n",
              "      <td>2.0</td>\n",
              "      <td>2.0</td>\n",
              "      <td>7.0</td>\n",
              "      <td>1</td>\n",
              "    </tr>\n",
              "    <tr>\n",
              "      <th>3</th>\n",
              "      <td>37.0</td>\n",
              "      <td>1.0</td>\n",
              "      <td>3.0</td>\n",
              "      <td>130.0</td>\n",
              "      <td>250.0</td>\n",
              "      <td>0.0</td>\n",
              "      <td>0.0</td>\n",
              "      <td>187.0</td>\n",
              "      <td>0.0</td>\n",
              "      <td>3.5</td>\n",
              "      <td>3.0</td>\n",
              "      <td>0.0</td>\n",
              "      <td>3.0</td>\n",
              "      <td>0</td>\n",
              "    </tr>\n",
              "    <tr>\n",
              "      <th>4</th>\n",
              "      <td>41.0</td>\n",
              "      <td>0.0</td>\n",
              "      <td>2.0</td>\n",
              "      <td>130.0</td>\n",
              "      <td>204.0</td>\n",
              "      <td>0.0</td>\n",
              "      <td>2.0</td>\n",
              "      <td>172.0</td>\n",
              "      <td>0.0</td>\n",
              "      <td>1.4</td>\n",
              "      <td>1.0</td>\n",
              "      <td>0.0</td>\n",
              "      <td>3.0</td>\n",
              "      <td>0</td>\n",
              "    </tr>\n",
              "  </tbody>\n",
              "</table>\n",
              "</div>"
            ],
            "text/plain": [
              "    age  sex   cp  trestbps   chol  fbs  ...  exang  oldpeak  slope   ca  thal  num\n",
              "0  63.0  1.0  1.0     145.0  233.0  1.0  ...    0.0      2.3    3.0  0.0   6.0    0\n",
              "1  67.0  1.0  4.0     160.0  286.0  0.0  ...    1.0      1.5    2.0  3.0   3.0    2\n",
              "2  67.0  1.0  4.0     120.0  229.0  0.0  ...    1.0      2.6    2.0  2.0   7.0    1\n",
              "3  37.0  1.0  3.0     130.0  250.0  0.0  ...    0.0      3.5    3.0  0.0   3.0    0\n",
              "4  41.0  0.0  2.0     130.0  204.0  0.0  ...    0.0      1.4    1.0  0.0   3.0    0\n",
              "\n",
              "[5 rows x 14 columns]"
            ]
          },
          "metadata": {
            "tags": []
          },
          "execution_count": 1
        }
      ]
    },
    {
      "cell_type": "markdown",
      "metadata": {
        "id": "7ZzZtM9kARRV",
        "colab_type": "text"
      },
      "source": [
        "Analisando o `DataFrame` temos que o atributo `num` nos diz se o paciente foi diagnosticado como tendo doença cardíaca ou não. Mas se observarmos os valores do atributo, cinco valores são possíveis."
      ]
    },
    {
      "cell_type": "code",
      "metadata": {
        "id": "i6FXZLCHA3LK",
        "colab_type": "code",
        "outputId": "e54c757c-968f-40c0-87cc-dea6fd50f0c6",
        "colab": {
          "base_uri": "https://localhost:8080/",
          "height": 34
        }
      },
      "source": [
        "df['num'].unique()"
      ],
      "execution_count": 2,
      "outputs": [
        {
          "output_type": "execute_result",
          "data": {
            "text/plain": [
              "array([0, 2, 1, 3, 4])"
            ]
          },
          "metadata": {
            "tags": []
          },
          "execution_count": 2
        }
      ]
    },
    {
      "cell_type": "markdown",
      "metadata": {
        "id": "6l571ZEGA3gk",
        "colab_type": "text"
      },
      "source": [
        "Porém, no *dataset* que estamos utilizando não há distinção entre os valores [1, 2, 3, 4], todos representam que o paciente sofre de uma doença cardiovascular. Para nós, não faz sentido manter essa distinção de valores que acabam representando a mesma informação. Logo, utilizaremos a seguinte classificação:\n",
        "\n",
        "* **0** - não há doença cardíaca\n",
        "* **1** - há doença cardíaca\n",
        "\n",
        "Para isso, basta igualar a 1 os valores compreendidos entre 1 e 4.\n"
      ]
    },
    {
      "cell_type": "code",
      "metadata": {
        "id": "DmyzQv4rA9D3",
        "colab_type": "code",
        "outputId": "8d1dc252-c31d-4486-8953-a554504ad061",
        "colab": {
          "base_uri": "https://localhost:8080/",
          "height": 119
        }
      },
      "source": [
        "# variável num antes\n",
        "df['num'].value_counts()"
      ],
      "execution_count": 3,
      "outputs": [
        {
          "output_type": "execute_result",
          "data": {
            "text/plain": [
              "0    164\n",
              "1     55\n",
              "2     36\n",
              "3     35\n",
              "4     13\n",
              "Name: num, dtype: int64"
            ]
          },
          "metadata": {
            "tags": []
          },
          "execution_count": 3
        }
      ]
    },
    {
      "cell_type": "code",
      "metadata": {
        "id": "-_iZFxrlA9js",
        "colab_type": "code",
        "colab": {}
      },
      "source": [
        "# converter valores diferentes de zero em 1\n",
        "df.loc[df.num != 0, 'num'] = 1"
      ],
      "execution_count": 0,
      "outputs": []
    },
    {
      "cell_type": "code",
      "metadata": {
        "id": "CoWP_fJXBAgF",
        "colab_type": "code",
        "outputId": "62ecefda-38e5-4be2-a975-e3d2af61337d",
        "colab": {
          "base_uri": "https://localhost:8080/",
          "height": 68
        }
      },
      "source": [
        "# variável num depois\n",
        "df.num.value_counts()"
      ],
      "execution_count": 5,
      "outputs": [
        {
          "output_type": "execute_result",
          "data": {
            "text/plain": [
              "0    164\n",
              "1    139\n",
              "Name: num, dtype: int64"
            ]
          },
          "metadata": {
            "tags": []
          },
          "execution_count": 5
        }
      ]
    },
    {
      "cell_type": "markdown",
      "metadata": {
        "id": "IjXKRBh6BCtc",
        "colab_type": "text"
      },
      "source": [
        "Com o *dataset* importado, e modificado de forma a ficar mais simples, é interessante analisar a composição do `DataFrame` antes de qualquer análise estatística."
      ]
    },
    {
      "cell_type": "markdown",
      "metadata": {
        "id": "OYKgkP0KBJLs",
        "colab_type": "text"
      },
      "source": [
        "#### Qual o tamanho do `DataFrame`?"
      ]
    },
    {
      "cell_type": "code",
      "metadata": {
        "id": "kusPAHsoBNWc",
        "colab_type": "code",
        "outputId": "0da10ba7-095f-440c-e751-cdf40fe4343d",
        "colab": {
          "base_uri": "https://localhost:8080/",
          "height": 51
        }
      },
      "source": [
        "# obtendo o tamanho do dataframe\n",
        "\n",
        "print('Número de entradas/pacientes:\\t {}'.format(df.shape[0]))\n",
        "print('Número de variáveis/atributos pessoais e médicos:\\t {}'.format(df.shape[1]))"
      ],
      "execution_count": 6,
      "outputs": [
        {
          "output_type": "stream",
          "text": [
            "Número de entradas/pacientes:\t 303\n",
            "Número de variáveis/atributos pessoais e médicos:\t 14\n"
          ],
          "name": "stdout"
        }
      ]
    },
    {
      "cell_type": "markdown",
      "metadata": {
        "id": "bgRW7NOZBPWF",
        "colab_type": "text"
      },
      "source": [
        "#### Quais são os tipos das variáveis?"
      ]
    },
    {
      "cell_type": "code",
      "metadata": {
        "id": "FY7JvLwLBR2N",
        "colab_type": "code",
        "outputId": "a9fb701f-1ae4-4e59-a03a-19370351fe90",
        "colab": {
          "base_uri": "https://localhost:8080/",
          "height": 272
        }
      },
      "source": [
        "# obtendo os tipos\n",
        "\n",
        "df.dtypes.sort_values()"
      ],
      "execution_count": 7,
      "outputs": [
        {
          "output_type": "execute_result",
          "data": {
            "text/plain": [
              "num           int64\n",
              "age         float64\n",
              "sex         float64\n",
              "cp          float64\n",
              "trestbps    float64\n",
              "chol        float64\n",
              "fbs         float64\n",
              "restecg     float64\n",
              "thalach     float64\n",
              "exang       float64\n",
              "oldpeak     float64\n",
              "slope       float64\n",
              "ca          float64\n",
              "thal        float64\n",
              "dtype: object"
            ]
          },
          "metadata": {
            "tags": []
          },
          "execution_count": 7
        }
      ]
    },
    {
      "cell_type": "markdown",
      "metadata": {
        "id": "Cu0MJ73WBV2s",
        "colab_type": "text"
      },
      "source": [
        "Com exceção da variável `num`, todas as demais são do tipo `float`. Mas se olharmos o significado das variáveis, temos dois grupos distintos: variáveis númericas e variáveis categóricas. \n",
        "\n",
        "Por exemplo, a variável `trestbps` é númerica, ela pode assumir qualquer valor, já que mede a pressão arterial do paciente. Mas a variável `fbs` só assume dois valores, *0* se o açúcar no sangue é menor que 120mg/dl  e *1* caso contrário. \n",
        "\n",
        "Nesse caso, as variáveis categóricas, como a variável `fbs`, tem como objetivo classificar o paciente dentro de um determinado grupo, ou seja, se o paciente é do grupo de homens ou mulheres, ou do grupo que tem muito ou pouco açúcar no sangue.\n",
        "\n",
        "É importante destacar essa diferença entre as variáveis pois algumas análises estatísticas, como o boxplot por exemplo, não faz muito sentido para variáveis categóricas. Para esse tipo de variável existem outros tipos de análise que acabam sendo mais eficazes na mensagem que se quer passar.\n",
        "\n",
        "Com isso, as variáveis do `DataFrame` podem ser divididas da seguintes forma:\n",
        "\n",
        "* Numéricas: `age`, `trestbps`, `chol`, `thalach`, `oldpeak` e `ca`\n",
        "* Categóricas: `sex`, `cp`, `fbs`, `restecg`, `exang`, `slope`, `thal`e `num`\n",
        "\n"
      ]
    },
    {
      "cell_type": "markdown",
      "metadata": {
        "id": "BlPID18LBeax",
        "colab_type": "text"
      },
      "source": [
        "#### Qual a porcentagem de valores ausentes?"
      ]
    },
    {
      "cell_type": "code",
      "metadata": {
        "id": "Ul-cq9z9Be31",
        "colab_type": "code",
        "outputId": "c4fb5769-ea96-4ac4-d544-d42aa6ffbf34",
        "colab": {
          "base_uri": "https://localhost:8080/",
          "height": 272
        }
      },
      "source": [
        "# porcentagem de valores ausentes\n",
        "\n",
        "(df.isnull().sum() / df.shape[0]).sort_values(ascending = False)"
      ],
      "execution_count": 8,
      "outputs": [
        {
          "output_type": "execute_result",
          "data": {
            "text/plain": [
              "ca          0.013201\n",
              "thal        0.006601\n",
              "num         0.000000\n",
              "slope       0.000000\n",
              "oldpeak     0.000000\n",
              "exang       0.000000\n",
              "thalach     0.000000\n",
              "restecg     0.000000\n",
              "fbs         0.000000\n",
              "chol        0.000000\n",
              "trestbps    0.000000\n",
              "cp          0.000000\n",
              "sex         0.000000\n",
              "age         0.000000\n",
              "dtype: float64"
            ]
          },
          "metadata": {
            "tags": []
          },
          "execution_count": 8
        }
      ]
    },
    {
      "cell_type": "markdown",
      "metadata": {
        "id": "ibo6buG8Bg_V",
        "colab_type": "text"
      },
      "source": [
        "Podemos observar que o *dataset* é bastante completo, tendo poucos valores ausentes. Somente as variáveis `ca`, número de vasos principais coloridos por fluoroscopia, e `thal`, teste de stress com tálio, apresentam valores ausentes."
      ]
    },
    {
      "cell_type": "code",
      "metadata": {
        "id": "FMYyhmUVBkU5",
        "colab_type": "code",
        "outputId": "e0a5b5fb-5666-4801-a5b3-c25d81afda4e",
        "colab": {
          "base_uri": "https://localhost:8080/",
          "height": 68
        }
      },
      "source": [
        "# quantas entradas são nulas\n",
        "\n",
        "df[['ca','thal']].isnull().sum()"
      ],
      "execution_count": 9,
      "outputs": [
        {
          "output_type": "execute_result",
          "data": {
            "text/plain": [
              "ca      4\n",
              "thal    2\n",
              "dtype: int64"
            ]
          },
          "metadata": {
            "tags": []
          },
          "execution_count": 9
        }
      ]
    },
    {
      "cell_type": "markdown",
      "metadata": {
        "id": "7L0M5IpiBmX7",
        "colab_type": "text"
      },
      "source": [
        "No caso, existem quatro pacientes que não possuem resultado para vasos principais coloridos por fluoroscopia e dois pacientes que não possuem resultado do teste cardiológico de stress com tálio."
      ]
    },
    {
      "cell_type": "code",
      "metadata": {
        "id": "voc3VAdbBtSt",
        "colab_type": "code",
        "outputId": "caaacee4-0fa3-4294-8d4e-31c728f704f2",
        "colab": {
          "base_uri": "https://localhost:8080/",
          "height": 173
        }
      },
      "source": [
        "# valores ausentes de ca\n",
        "\n",
        "df[df['ca'].isnull()]"
      ],
      "execution_count": 10,
      "outputs": [
        {
          "output_type": "execute_result",
          "data": {
            "text/html": [
              "<div>\n",
              "<style scoped>\n",
              "    .dataframe tbody tr th:only-of-type {\n",
              "        vertical-align: middle;\n",
              "    }\n",
              "\n",
              "    .dataframe tbody tr th {\n",
              "        vertical-align: top;\n",
              "    }\n",
              "\n",
              "    .dataframe thead th {\n",
              "        text-align: right;\n",
              "    }\n",
              "</style>\n",
              "<table border=\"1\" class=\"dataframe\">\n",
              "  <thead>\n",
              "    <tr style=\"text-align: right;\">\n",
              "      <th></th>\n",
              "      <th>age</th>\n",
              "      <th>sex</th>\n",
              "      <th>cp</th>\n",
              "      <th>trestbps</th>\n",
              "      <th>chol</th>\n",
              "      <th>fbs</th>\n",
              "      <th>restecg</th>\n",
              "      <th>thalach</th>\n",
              "      <th>exang</th>\n",
              "      <th>oldpeak</th>\n",
              "      <th>slope</th>\n",
              "      <th>ca</th>\n",
              "      <th>thal</th>\n",
              "      <th>num</th>\n",
              "    </tr>\n",
              "  </thead>\n",
              "  <tbody>\n",
              "    <tr>\n",
              "      <th>166</th>\n",
              "      <td>52.0</td>\n",
              "      <td>1.0</td>\n",
              "      <td>3.0</td>\n",
              "      <td>138.0</td>\n",
              "      <td>223.0</td>\n",
              "      <td>0.0</td>\n",
              "      <td>0.0</td>\n",
              "      <td>169.0</td>\n",
              "      <td>0.0</td>\n",
              "      <td>0.0</td>\n",
              "      <td>1.0</td>\n",
              "      <td>NaN</td>\n",
              "      <td>3.0</td>\n",
              "      <td>0</td>\n",
              "    </tr>\n",
              "    <tr>\n",
              "      <th>192</th>\n",
              "      <td>43.0</td>\n",
              "      <td>1.0</td>\n",
              "      <td>4.0</td>\n",
              "      <td>132.0</td>\n",
              "      <td>247.0</td>\n",
              "      <td>1.0</td>\n",
              "      <td>2.0</td>\n",
              "      <td>143.0</td>\n",
              "      <td>1.0</td>\n",
              "      <td>0.1</td>\n",
              "      <td>2.0</td>\n",
              "      <td>NaN</td>\n",
              "      <td>7.0</td>\n",
              "      <td>1</td>\n",
              "    </tr>\n",
              "    <tr>\n",
              "      <th>287</th>\n",
              "      <td>58.0</td>\n",
              "      <td>1.0</td>\n",
              "      <td>2.0</td>\n",
              "      <td>125.0</td>\n",
              "      <td>220.0</td>\n",
              "      <td>0.0</td>\n",
              "      <td>0.0</td>\n",
              "      <td>144.0</td>\n",
              "      <td>0.0</td>\n",
              "      <td>0.4</td>\n",
              "      <td>2.0</td>\n",
              "      <td>NaN</td>\n",
              "      <td>7.0</td>\n",
              "      <td>0</td>\n",
              "    </tr>\n",
              "    <tr>\n",
              "      <th>302</th>\n",
              "      <td>38.0</td>\n",
              "      <td>1.0</td>\n",
              "      <td>3.0</td>\n",
              "      <td>138.0</td>\n",
              "      <td>175.0</td>\n",
              "      <td>0.0</td>\n",
              "      <td>0.0</td>\n",
              "      <td>173.0</td>\n",
              "      <td>0.0</td>\n",
              "      <td>0.0</td>\n",
              "      <td>1.0</td>\n",
              "      <td>NaN</td>\n",
              "      <td>3.0</td>\n",
              "      <td>0</td>\n",
              "    </tr>\n",
              "  </tbody>\n",
              "</table>\n",
              "</div>"
            ],
            "text/plain": [
              "      age  sex   cp  trestbps   chol  fbs  ...  exang  oldpeak  slope  ca  thal  num\n",
              "166  52.0  1.0  3.0     138.0  223.0  0.0  ...    0.0      0.0    1.0 NaN   3.0    0\n",
              "192  43.0  1.0  4.0     132.0  247.0  1.0  ...    1.0      0.1    2.0 NaN   7.0    1\n",
              "287  58.0  1.0  2.0     125.0  220.0  0.0  ...    0.0      0.4    2.0 NaN   7.0    0\n",
              "302  38.0  1.0  3.0     138.0  175.0  0.0  ...    0.0      0.0    1.0 NaN   3.0    0\n",
              "\n",
              "[4 rows x 14 columns]"
            ]
          },
          "metadata": {
            "tags": []
          },
          "execution_count": 10
        }
      ]
    },
    {
      "cell_type": "markdown",
      "metadata": {
        "id": "kYd8c1sgBtwz",
        "colab_type": "text"
      },
      "source": [
        "Para os pacientes que não possuem resultado do teste de vasos coloridos por fluoroscopia, podemos perceber que somente um foi diagnosticado com doença cardiovascular. Além disso, os pacientes que possuem valor ausente no atributo `ca` não são os mesmos que apresentam valor ausente no atributo `thal`."
      ]
    },
    {
      "cell_type": "code",
      "metadata": {
        "id": "ppH6P_5DByPk",
        "colab_type": "code",
        "outputId": "eb0648fb-49ee-4d93-bb4c-05533650ed52",
        "colab": {
          "base_uri": "https://localhost:8080/",
          "height": 111
        }
      },
      "source": [
        "# valores ausentes de thal\n",
        "\n",
        "df[df['thal'].isnull()]"
      ],
      "execution_count": 11,
      "outputs": [
        {
          "output_type": "execute_result",
          "data": {
            "text/html": [
              "<div>\n",
              "<style scoped>\n",
              "    .dataframe tbody tr th:only-of-type {\n",
              "        vertical-align: middle;\n",
              "    }\n",
              "\n",
              "    .dataframe tbody tr th {\n",
              "        vertical-align: top;\n",
              "    }\n",
              "\n",
              "    .dataframe thead th {\n",
              "        text-align: right;\n",
              "    }\n",
              "</style>\n",
              "<table border=\"1\" class=\"dataframe\">\n",
              "  <thead>\n",
              "    <tr style=\"text-align: right;\">\n",
              "      <th></th>\n",
              "      <th>age</th>\n",
              "      <th>sex</th>\n",
              "      <th>cp</th>\n",
              "      <th>trestbps</th>\n",
              "      <th>chol</th>\n",
              "      <th>fbs</th>\n",
              "      <th>restecg</th>\n",
              "      <th>thalach</th>\n",
              "      <th>exang</th>\n",
              "      <th>oldpeak</th>\n",
              "      <th>slope</th>\n",
              "      <th>ca</th>\n",
              "      <th>thal</th>\n",
              "      <th>num</th>\n",
              "    </tr>\n",
              "  </thead>\n",
              "  <tbody>\n",
              "    <tr>\n",
              "      <th>87</th>\n",
              "      <td>53.0</td>\n",
              "      <td>0.0</td>\n",
              "      <td>3.0</td>\n",
              "      <td>128.0</td>\n",
              "      <td>216.0</td>\n",
              "      <td>0.0</td>\n",
              "      <td>2.0</td>\n",
              "      <td>115.0</td>\n",
              "      <td>0.0</td>\n",
              "      <td>0.0</td>\n",
              "      <td>1.0</td>\n",
              "      <td>0.0</td>\n",
              "      <td>NaN</td>\n",
              "      <td>0</td>\n",
              "    </tr>\n",
              "    <tr>\n",
              "      <th>266</th>\n",
              "      <td>52.0</td>\n",
              "      <td>1.0</td>\n",
              "      <td>4.0</td>\n",
              "      <td>128.0</td>\n",
              "      <td>204.0</td>\n",
              "      <td>1.0</td>\n",
              "      <td>0.0</td>\n",
              "      <td>156.0</td>\n",
              "      <td>1.0</td>\n",
              "      <td>1.0</td>\n",
              "      <td>2.0</td>\n",
              "      <td>0.0</td>\n",
              "      <td>NaN</td>\n",
              "      <td>1</td>\n",
              "    </tr>\n",
              "  </tbody>\n",
              "</table>\n",
              "</div>"
            ],
            "text/plain": [
              "      age  sex   cp  trestbps   chol  ...  oldpeak  slope   ca  thal  num\n",
              "87   53.0  0.0  3.0     128.0  216.0  ...      0.0    1.0  0.0   NaN    0\n",
              "266  52.0  1.0  4.0     128.0  204.0  ...      1.0    2.0  0.0   NaN    1\n",
              "\n",
              "[2 rows x 14 columns]"
            ]
          },
          "metadata": {
            "tags": []
          },
          "execution_count": 11
        }
      ]
    },
    {
      "cell_type": "markdown",
      "metadata": {
        "id": "JC-0NFmKB0Kt",
        "colab_type": "text"
      },
      "source": [
        "Entre os dois pacientes que não possuem o resultado do teste de stress cardíaco por tálio, um foi diagnosticado com doença cardiovascular.\n",
        "\n",
        "Quando nos deparamos com valores ausentes em um *dataset* a primeira dúvida que aparece é: como lidar com eles? Podemos substituir o valor utilizando a média, a mediana, tentar modelar esse atributo e estimar um valor possível ou simplesmente apagar essa entrada do `DataFrame`.\n",
        "\n",
        "No caso, optarei pela última opção. Normalmente não se exclui uma entrada inteira por causa de um valor ausente, pois ao excluir essa entrada você está perdendo informação. Mas para o `DataFrame` em questão serão perdidas poucas informações."
      ]
    },
    {
      "cell_type": "code",
      "metadata": {
        "id": "fOjLZ_7dB38m",
        "colab_type": "code",
        "outputId": "fb329a15-4c11-4a20-dddf-9cf3b6cc17e1",
        "colab": {
          "base_uri": "https://localhost:8080/",
          "height": 34
        }
      },
      "source": [
        "# porcentagem de entradas perdidas\n",
        "\n",
        "print('Porcentagem de entradas perdidas:\\t {0:.2f}%'.format(((df['ca'].isnull().sum() + df['thal'].isnull().sum())/ df.shape[0])*100))"
      ],
      "execution_count": 12,
      "outputs": [
        {
          "output_type": "stream",
          "text": [
            "Porcentagem de entradas perdidas:\t 1.98%\n"
          ],
          "name": "stdout"
        }
      ]
    },
    {
      "cell_type": "markdown",
      "metadata": {
        "id": "68oQ4wKqB6mN",
        "colab_type": "text"
      },
      "source": [
        "Excluindo as observações sobre os seis pacientes do `DataFrame` iremos perder aproximadamente 2% das informações. Esse valor é baixo. Caso fosse maior, por exemplo 30% do `DataFrame`, poderíamos analisar outra opção de tratamento de valores ausentes.\n",
        "\n",
        "A questão é: qual o motivo de excluir as observações ao invés de tratá-las?\n",
        "\n",
        "Porque as informações são sensíveis, são informações médicas. Por exemplo, para o atributo `thal` temos o resultado do teste de stress cardíaco por tálio, essa característica é muito particular do paciente. É um tanto perigoso assumir o resultado que uma pessoa apresentaria para um exame médico.\n",
        "\n",
        "Somando os dois fatos, de que são poucas as entradas que apresentam valores ausentes e de que informações médicas são muito particulares de cada paciente, acredito que a melhor opção é excluir esses valores do `DataFrame`."
      ]
    },
    {
      "cell_type": "code",
      "metadata": {
        "id": "bv5IKlpBCEWr",
        "colab_type": "code",
        "outputId": "ca10813d-c918-4ff5-9350-a8a6be447d05",
        "colab": {
          "base_uri": "https://localhost:8080/",
          "height": 51
        }
      },
      "source": [
        "# criando uma cópia do dataframe\n",
        "df_clean = df.copy()\n",
        "\n",
        "# excluindo os valores ausentes\n",
        "df_clean.dropna(subset = ['ca'], inplace = True)\n",
        "df_clean.dropna(subset = ['thal'], inplace = True)\n",
        "\n",
        "# tamanho do novo dataframe\n",
        "print('Número de entradas/pacientes:\\t {}'.format(df_clean.shape[0]))\n",
        "print('Número de variáveis/atributos pessoais e médicos:\\t {}'.format(df_clean.shape[1]))"
      ],
      "execution_count": 13,
      "outputs": [
        {
          "output_type": "stream",
          "text": [
            "Número de entradas/pacientes:\t 297\n",
            "Número de variáveis/atributos pessoais e médicos:\t 14\n"
          ],
          "name": "stdout"
        }
      ]
    },
    {
      "cell_type": "markdown",
      "metadata": {
        "id": "0jnqz5r0CE21",
        "colab_type": "text"
      },
      "source": [
        "## Análise descritiva\n",
        "\n",
        "Na análise descritiva desse *notebook* iremos analisar a proporção de pacientes diagnosticados como tendo doença cardíaca ou não, e a relação da variável alvo com as demais variáveis do modelo. O objetivo é determinar se nosso *dataset* está balanceado e se as demais variáveis podem influenciar o diagnóstico de doença cardiovascular.\n",
        "\n",
        "Um *dataset* é considerado como balanceado se a variável alvo for categórica e ter a mesma proporção de valores entre as categorias. Por exemplo, no nosso *dataset*, teríamos que ter um número de pacientes diagnosticados com doença cardíaca igual, ou bem próximo, ao número de pacientes sem o diagnóstico de doença cardíaca. Por exemplo, se tivermos um número maior de pacientes sem doença cardiovascular, nosso modelo será muito bom em prever quando uma pessoa não tem doença cardíaca, mas será muito ruim em prever quando um paciente têm a doença. Para contextos médicos, o balanceamento de dados se torna ainda mais importante, pois é esperado que em uma amostra menos pessoas tenham desenvolvido uma doença específica.\n",
        "\n",
        "Além disso, analisar a relação da variável alvo com as demais variáveis do *dataset* nos ajuda a incluir no modelo somente as variáveis que realmente importam. Por exemplo, se no *dataset* houvesse uma variável informando quantos filmes o paciente assistiu no último ano, ela provavelmente não seria incluída no modelo, pois não há uma relação direta entre quantos filmes a pessoa assistiu e a probabilidade dela desenvolver uma doença cardíaca.\n",
        "\n",
        "Para uma análise exploratória mais completa dos dados, basta acessar este [*notebook*](https://github.com/marcelorandolfo/data-science/blob/master/doencas_cardiovasculares_analise_exploratoria.ipynb)."
      ]
    },
    {
      "cell_type": "markdown",
      "metadata": {
        "id": "bcRMZJ94RH_0",
        "colab_type": "text"
      },
      "source": [
        "### Proporção de ocorrências na variável alvo"
      ]
    },
    {
      "cell_type": "code",
      "metadata": {
        "id": "bqmgTCJ9Cc0k",
        "colab_type": "code",
        "outputId": "c1f0462f-6dce-49e1-9669-1be6fd22a755",
        "colab": {
          "base_uri": "https://localhost:8080/",
          "height": 252
        }
      },
      "source": [
        "# instalando pacote waffle\n",
        "!pip install pywaffle -q\n",
        "from pywaffle import Waffle\n",
        "\n",
        "# extrair value counts da variavel ocorrencia_classificacao\n",
        "num = df_clean['num'].value_counts().to_dict()\n",
        "\n",
        "# plotar gráfico de waffle\n",
        "fig = plt.figure(\n",
        "                FigureClass=Waffle,\n",
        "                rows=5,\n",
        "                columns=15,\n",
        "                colors=(\"#DC5050\",\"#390101\"),\n",
        "                title={'label': 'Proporção de diagnósticos de doença cardíaca',  'fontsize': 16},\n",
        "                values=num, icons='heartbeat', icon_size=30, labels=('Não há doença cardíaca','Há doença cardíaca'),\n",
        "                legend={'loc': 'upper left', 'bbox_to_anchor': (1,1), 'fontsize': 12},\n",
        "                icon_legend=True,\n",
        "                figsize=(10,6))\n",
        "fig.set_tight_layout(False)\n",
        "plt.show();"
      ],
      "execution_count": 14,
      "outputs": [
        {
          "output_type": "stream",
          "text": [
            "\u001b[?25l\r\u001b[K     |▋                               | 10kB 24.6MB/s eta 0:00:01\r\u001b[K     |█▎                              | 20kB 3.1MB/s eta 0:00:01\r\u001b[K     |█▉                              | 30kB 4.5MB/s eta 0:00:01\r\u001b[K     |██▌                             | 40kB 3.0MB/s eta 0:00:01\r\u001b[K     |███▏                            | 51kB 3.6MB/s eta 0:00:01\r\u001b[K     |███▊                            | 61kB 4.3MB/s eta 0:00:01\r\u001b[K     |████▍                           | 71kB 5.0MB/s eta 0:00:01\r\u001b[K     |█████                           | 81kB 5.6MB/s eta 0:00:01\r\u001b[K     |█████▋                          | 92kB 6.2MB/s eta 0:00:01\r\u001b[K     |██████▎                         | 102kB 4.8MB/s eta 0:00:01\r\u001b[K     |██████▉                         | 112kB 4.8MB/s eta 0:00:01\r\u001b[K     |███████▌                        | 122kB 4.8MB/s eta 0:00:01\r\u001b[K     |████████▏                       | 133kB 4.8MB/s eta 0:00:01\r\u001b[K     |████████▊                       | 143kB 4.8MB/s eta 0:00:01\r\u001b[K     |█████████▍                      | 153kB 4.8MB/s eta 0:00:01\r\u001b[K     |██████████                      | 163kB 4.8MB/s eta 0:00:01\r\u001b[K     |██████████▋                     | 174kB 4.8MB/s eta 0:00:01\r\u001b[K     |███████████▎                    | 184kB 4.8MB/s eta 0:00:01\r\u001b[K     |███████████▉                    | 194kB 4.8MB/s eta 0:00:01\r\u001b[K     |████████████▌                   | 204kB 4.8MB/s eta 0:00:01\r\u001b[K     |█████████████▏                  | 215kB 4.8MB/s eta 0:00:01\r\u001b[K     |█████████████▊                  | 225kB 4.8MB/s eta 0:00:01\r\u001b[K     |██████████████▍                 | 235kB 4.8MB/s eta 0:00:01\r\u001b[K     |███████████████                 | 245kB 4.8MB/s eta 0:00:01\r\u001b[K     |███████████████▋                | 256kB 4.8MB/s eta 0:00:01\r\u001b[K     |████████████████▎               | 266kB 4.8MB/s eta 0:00:01\r\u001b[K     |████████████████▉               | 276kB 4.8MB/s eta 0:00:01\r\u001b[K     |█████████████████▌              | 286kB 4.8MB/s eta 0:00:01\r\u001b[K     |██████████████████▏             | 296kB 4.8MB/s eta 0:00:01\r\u001b[K     |██████████████████▊             | 307kB 4.8MB/s eta 0:00:01\r\u001b[K     |███████████████████▍            | 317kB 4.8MB/s eta 0:00:01\r\u001b[K     |████████████████████            | 327kB 4.8MB/s eta 0:00:01\r\u001b[K     |████████████████████▋           | 337kB 4.8MB/s eta 0:00:01\r\u001b[K     |█████████████████████▎          | 348kB 4.8MB/s eta 0:00:01\r\u001b[K     |█████████████████████▉          | 358kB 4.8MB/s eta 0:00:01\r\u001b[K     |██████████████████████▌         | 368kB 4.8MB/s eta 0:00:01\r\u001b[K     |███████████████████████         | 378kB 4.8MB/s eta 0:00:01\r\u001b[K     |███████████████████████▊        | 389kB 4.8MB/s eta 0:00:01\r\u001b[K     |████████████████████████▍       | 399kB 4.8MB/s eta 0:00:01\r\u001b[K     |█████████████████████████       | 409kB 4.8MB/s eta 0:00:01\r\u001b[K     |█████████████████████████▋      | 419kB 4.8MB/s eta 0:00:01\r\u001b[K     |██████████████████████████▎     | 430kB 4.8MB/s eta 0:00:01\r\u001b[K     |██████████████████████████▉     | 440kB 4.8MB/s eta 0:00:01\r\u001b[K     |███████████████████████████▌    | 450kB 4.8MB/s eta 0:00:01\r\u001b[K     |████████████████████████████    | 460kB 4.8MB/s eta 0:00:01\r\u001b[K     |████████████████████████████▊   | 471kB 4.8MB/s eta 0:00:01\r\u001b[K     |█████████████████████████████▍  | 481kB 4.8MB/s eta 0:00:01\r\u001b[K     |██████████████████████████████  | 491kB 4.8MB/s eta 0:00:01\r\u001b[K     |██████████████████████████████▋ | 501kB 4.8MB/s eta 0:00:01\r\u001b[K     |███████████████████████████████▎| 512kB 4.8MB/s eta 0:00:01\r\u001b[K     |███████████████████████████████▉| 522kB 4.8MB/s eta 0:00:01\r\u001b[K     |████████████████████████████████| 532kB 4.8MB/s \n",
            "\u001b[?25h"
          ],
          "name": "stdout"
        },
        {
          "output_type": "display_data",
          "data": {
            "image/png": "[encoded data removed]",
            "text/plain": [
              "<Waffle size 720x432 with 1 Axes>"
            ]
          },
          "metadata": {
            "tags": []
          }
        }
      ]
    },
    {
      "cell_type": "markdown",
      "metadata": {
        "id": "Rff-wUdPCiP9",
        "colab_type": "text"
      },
      "source": [
        "De acordo com o gráfico, temos que a maioria dos pacientes foi diagnosticado como não tendo doença cardíaca. Porém, a diferença na proporção de pacientes com doença cardíaca ou sem doença cardíaca foi pequena. Só para tornar o resultado exato, temos que:"
      ]
    },
    {
      "cell_type": "code",
      "metadata": {
        "id": "DI5rF4eOCrnk",
        "colab_type": "code",
        "outputId": "a20bda73-ed22-4be0-87ae-e2a5f9aa08ad",
        "colab": {
          "base_uri": "https://localhost:8080/",
          "height": 51
        }
      },
      "source": [
        "print('Proporção de pacientes diagnosticados como não tendo doença cardíaca:\\t {}%'.format(((df_clean['num'].value_counts()[0]/df_clean.shape[0])*100).round(2)))\n",
        "print('Proporção de pacientes diagnosticados como tendo doença cardíaca:\\t {}%'.format(((df_clean['num'].value_counts()[1]/df_clean.shape[0])*100).round(2)))"
      ],
      "execution_count": 15,
      "outputs": [
        {
          "output_type": "stream",
          "text": [
            "Proporção de pacientes diagnosticados como não tendo doença cardíaca:\t 53.87%\n",
            "Proporção de pacientes diagnosticados como tendo doença cardíaca:\t 46.13%\n"
          ],
          "name": "stdout"
        }
      ]
    },
    {
      "cell_type": "markdown",
      "metadata": {
        "id": "1R40z-EEVbLp",
        "colab_type": "text"
      },
      "source": [
        "Pelos resultados iremos considerar que os dados estão balanceados, dado que a diferença de ocorrências nas duas categorias da variável alvo não é elevada."
      ]
    },
    {
      "cell_type": "markdown",
      "metadata": {
        "id": "iFA23WRfXqFd",
        "colab_type": "text"
      },
      "source": [
        "### Relação entre a variável alvo e as demais variáveis"
      ]
    },
    {
      "cell_type": "code",
      "metadata": {
        "id": "hzmCIdZnC0f8",
        "colab_type": "code",
        "outputId": "d5c7b17e-8e2e-4b76-9661-b10092615106",
        "colab": {
          "base_uri": "https://localhost:8080/",
          "height": 503
        }
      },
      "source": [
        "# heatmap (mapa de calor)\n",
        "fig, ax = plt.subplots(figsize=(16,8))\n",
        "\n",
        "corr = df_clean.corr().round(2)\n",
        "sns.heatmap(corr, cmap='RdBu', linecolor='white', annot=True, ax=ax, vmin=-1.00, vmax= 1.00)\n",
        "ax.set_title('Correlação entre as variáveis', fontsize=14)\n",
        "\n",
        "plt.show();"
      ],
      "execution_count": 16,
      "outputs": [
        {
          "output_type": "display_data",
          "data": {
            "image/png": "[encoded data removed]",
            "text/plain": [
              "<Figure size 1152x576 with 2 Axes>"
            ]
          },
          "metadata": {
            "tags": []
          }
        }
      ]
    },
    {
      "cell_type": "markdown",
      "metadata": {
        "id": "UsFve-aeoOcs",
        "colab_type": "text"
      },
      "source": [
        "De acordo com o gráfico das correlações, é possível observar que a variável `fbs`, que informa se o índice glicêmico do paciente está elevado ou não, não é correlacionada com a variável `num`.\n",
        "\n",
        "Para observarmos a relação das demais variáveis categóricas com a variável `num`, temos os *countplots* das variáveis dividindo a amostra para pacientes sem diagnóstico e com diagnóstico de doença cardiovascular."
      ]
    },
    {
      "cell_type": "code",
      "metadata": {
        "id": "hwB_3B2Xqiz9",
        "colab_type": "code",
        "outputId": "328383b9-880a-4e04-eff2-68cf72cd7277",
        "colab": {
          "base_uri": "https://localhost:8080/",
          "height": 581
        }
      },
      "source": [
        "fig, ax = plt.subplots(nrows=3, ncols=2, figsize=(16,8))\n",
        "fig.subplots_adjust(hspace=0.5, wspace=0.3)\n",
        "\n",
        "# countplot sex\n",
        "sns.countplot(x='sex', data=df_clean, hue='num', ax=ax[0,0])\n",
        "ax[0,0].set_xticklabels(['Mulher','Homem'])\n",
        "ax[0,0].legend(['Não há doença cardíaca','Há doença cardíaca'])\n",
        "ax[0,0].set_ylabel('Ocorrências', fontsize = 12)\n",
        "ax[0,0].set_title('Countplot do sexo do paciente', fontsize=14)\n",
        "ax[0,0].set_xlabel('')\n",
        "\n",
        "# countplot cp\n",
        "sns.countplot(x='cp', data=df_clean, hue='num', ax=ax[0,1])\n",
        "ax[0,1].set_xticklabels(['Angina','Angina atípica','Dor não cardíaca','Sem sintomas'])\n",
        "ax[0,1].legend(['Não há doença cardíaca','Há doença cardíaca'])\n",
        "ax[0,1].set_ylabel('Ocorrências', fontsize = 12)\n",
        "ax[0,1].set_title('Countplot do tipo de dor torácica', fontsize=14)\n",
        "ax[0,1].set_xlabel('')\n",
        "\n",
        "# countplot restecg\n",
        "sns.countplot(x='restecg', data=df_clean, hue='num', ax=ax[1,0])\n",
        "ax[1,0].set_xticklabels(['Normal','Anormalidade de ST-T','Hipertrofia ventricular'])\n",
        "ax[1,0].legend(loc='upper center',labels=['Não há doença cardíaca','Há doença cardíaca'])\n",
        "ax[1,0].set_ylabel('Ocorrências', fontsize = 12)\n",
        "ax[1,0].set_title('Countplot do resultado da eletrocardiografia', fontsize=14)\n",
        "ax[1,0].set_xlabel('')\n",
        "\n",
        "# countplot exang \n",
        "sns.countplot(x='exang', data=df_clean, hue='num', ax=ax[1,1])\n",
        "ax[1,1].set_xticklabels(['Sem dor no peito','Com dor no peito'])\n",
        "ax[1,1].legend(['Não há doença cardíaca','Há doença cardíaca'])\n",
        "ax[1,1].set_ylabel('Ocorrências', fontsize = 12)\n",
        "ax[1,1].set_title('Countplot da angina após exercício', fontsize=14)\n",
        "ax[1,1].set_xlabel('')\n",
        "\n",
        "# countplot slope \n",
        "sns.countplot(x='slope', data=df_clean, hue='num', ax=ax[2,0])\n",
        "ax[2,0].set_xticklabels(['Ascendente','Plana','Descendente'])\n",
        "ax[2,0].legend(['Não há doença cardíaca','Há doença cardíaca'])\n",
        "ax[2,0].set_ylabel('Ocorrências', fontsize = 12)\n",
        "ax[2,0].set_title('Countplot da inclinação do segmento ST', fontsize=14)\n",
        "ax[2,0].set_xlabel('')\n",
        "\n",
        "# countplot thal \n",
        "sns.countplot(x='thal', data=df_clean, hue='num', ax=ax[2,1])\n",
        "ax[2,1].set_xticklabels(['Normal','Defeito fixo','Defeito reversível'])\n",
        "ax[2,1].legend(['Não há doença cardíaca','Há doença cardíaca'])\n",
        "ax[2,1].set_ylabel('Ocorrências', fontsize = 12)\n",
        "ax[2,1].set_title('Countplot do teste de stress com tálio', fontsize=14)\n",
        "ax[2,1].set_xlabel('')\n",
        "\n",
        "fig.tight_layout();"
      ],
      "execution_count": 17,
      "outputs": [
        {
          "output_type": "display_data",
          "data": {
            "image/png": "[encoded data removed]",
            "text/plain": [
              "<Figure size 1152x576 with 6 Axes>"
            ]
          },
          "metadata": {
            "tags": []
          }
        }
      ]
    },
    {
      "cell_type": "markdown",
      "metadata": {
        "id": "yPAh7_9a2POp",
        "colab_type": "text"
      },
      "source": [
        "De acordo com os gráficos podemos observar que:\n",
        "\n",
        "* Dentre as mulheres, há mais pacientes sem diagnóstico de doença cardíaca. Dentre os homens há mais pacientes com doença cardíaca.\n",
        "* Para pacientes com algum tipo de dor no peito, angina, há mais casos de pacientes sem diagnóstico de doença cardíaca, enquanto para pacientes sem sintomas de dor no peito há uma ocorrência maior de diagnósticos de doença cardíaca.\n",
        "* Dentre os pacientes que obtiveram um resultado normal na eletrocardiografia, há menos casos de diagnósticos de doença cardíaca. Dentre os pacientes com hipertrofia ventricular há mais casos de doença cardíaca, enquanto todos os pacientes com anormalidade de ST-T foram diagnosticado como tendo doença cardíaca.\n",
        "* Dentre os pacientes que apresentaram dor no peito após exercício, há mais casos de doença cardiovascular. O contrário pode ser observado para pacientes que não apresentaram dor no peito após exercício.\n",
        "* Não há muita diferença no número de diagnósticos de doença cardíaca para pacientes com inclinação do ST descentes. Mas para pacientes com inclinação ascendente há menos casos de diagnóstico da doença, enquanto para pacientes com inclianção plana há mais casos de diagnósitico da doença.\n",
        "* Dentre os pacientes que apresentaram resultado normal no teste de stress cardíaco há mais casos de diagnóstico de ausência de doença cardíaca. Dentre os pacientes com resultados anormais no teste de stress cardíaco, houve mais casos de diagnóstico de doença cardíaca.\n",
        "\n",
        "*Countplots* são úteis para analisar variáveis categóricas, para as variáveis numéricas é mais interessante observar os *boxplots*."
      ]
    },
    {
      "cell_type": "code",
      "metadata": {
        "id": "pnP-lWn6DfBV",
        "colab_type": "code",
        "outputId": "05635fb3-cd2b-44a2-8a59-79fd072ddd7b",
        "colab": {
          "base_uri": "https://localhost:8080/",
          "height": 581
        }
      },
      "source": [
        "  fig, ax = plt.subplots(nrows=2, ncols=3, figsize=(16,8))\n",
        "fig.subplots_adjust(hspace=0.5, wspace=0.3)\n",
        "\n",
        "# histograma age\n",
        "df_clean.boxplot('age', ax=ax[0,0], widths=0.6, grid=False, by = 'num')\n",
        "ax[0,0].set_xticklabels(['Não há doença cardíaca','Há doença cardíaca'])\n",
        "ax[0,0].set_ylabel('Anos', fontsize = 12)\n",
        "ax[0,0].set_xlabel('')\n",
        "ax[0,0].set_title('Boxplot da Idade', fontsize=14)\n",
        "fig.suptitle('')\n",
        "\n",
        "# histograma trestbps\n",
        "df_clean.boxplot(['trestbps'], ax=ax[0,1], by = 'num', widths=0.6, grid=False)\n",
        "ax[0,1].set_xticklabels(['Não há doença cardíaca','Há doença cardíaca'])\n",
        "ax[0,1].set_ylabel('mm/Hg', fontsize = 12)\n",
        "ax[0,1].set_title('Boxplot da Pressão Arterial', fontsize=14)\n",
        "ax[0,1].set_xlabel('')\n",
        "fig.suptitle('')\n",
        "\n",
        "# histograma chol\n",
        "df_clean.boxplot(['chol'], ax=ax[0,2], by = 'num', widths=0.6, grid=False)\n",
        "ax[0,2].set_xticklabels(['Não há doença cardíaca','Há doença cardíaca'])\n",
        "ax[0,2].set_ylabel('mg/dl', fontsize = 12)\n",
        "ax[0,2].set_title('Boxplot do Colesterol', fontsize=14)\n",
        "ax[0,2].set_xlabel('')\n",
        "fig.suptitle('')\n",
        "\n",
        "# histograma thalach\n",
        "df_clean.boxplot(['thalach'], ax=ax[1,0], by = 'num', widths=0.6, grid=False)\n",
        "ax[1,0].set_xticklabels(['Não há doença cardíaca','Há doença cardíaca'])\n",
        "ax[1,0].set_ylabel('bpm', fontsize = 12)\n",
        "ax[1,0].set_title('Boxplot da Frequência Cardíaca', fontsize=14)\n",
        "ax[1,0].set_xlabel('')\n",
        "fig.suptitle('')\n",
        "\n",
        "# histograma oldpeak \n",
        "df_clean.boxplot(['oldpeak'], ax=ax[1,1], by = 'num', widths=0.6, grid=False)\n",
        "ax[1,1].set_xticklabels(['Não há doença cardíaca','Há doença cardíaca'])\n",
        "ax[1,1].set_ylabel('mm', fontsize = 12)\n",
        "ax[1,1].set_title('Boxplot da Depressão do Segmento ST', fontsize=14)\n",
        "ax[1,1].set_xlabel('')\n",
        "fig.suptitle('')\n",
        "\n",
        "# histograma ca \n",
        "df_clean.boxplot(['ca'], ax=ax[1,2], by = 'num', widths=0.6, grid=False)\n",
        "ax[1,2].set_xticklabels(['Não há doença cardíaca','Há doença cardíaca'])\n",
        "ax[1,2].set_ylabel('Quantidade', fontsize = 12)\n",
        "ax[1,2].set_title('Boxplot do número de vasos color. por fluoroscopia', fontsize=14)\n",
        "ax[1,2].set_xlabel('')\n",
        "fig.suptitle('')\n",
        "\n",
        "fig.tight_layout();"
      ],
      "execution_count": 18,
      "outputs": [
        {
          "output_type": "display_data",
          "data": {
            "image/png": "[encoded data removed]",
            "text/plain": [
              "<Figure size 1152x576 with 6 Axes>"
            ]
          },
          "metadata": {
            "tags": []
          }
        }
      ]
    },
    {
      "cell_type": "markdown",
      "metadata": {
        "id": "ETd5oGVz5231",
        "colab_type": "text"
      },
      "source": [
        "De acordo com os *boxplots* acima, podemos observar que:\n",
        "\n",
        "* Pacientes diagnosticados com doença cardíaca apresentam uma mediana para a idade superior aos pacientes que não tenham doença.\n",
        "* A pressão arterial não difere muito para quem tem ou não doença cardíaca. Mas é possível que pacientes com doenças cardiovasculares apresentem pressão arterial muito elevado, sendo ate discrepantes dos demais pacientes.\n",
        "* Para o colesterol temos uma relação oposta, alguns pacientes que não foram diagnosticados com doença cardíaca apresentaram níveis de colesterol muito elevados.\n",
        "* Para a frequência cardíaca temos que a mediana da variável considerando somente pacientes com doença cardíaca é maior do que quando é considerado somente pacientes sem a doença.\n",
        "* Pacientes com diagnóstico de doença cardíaca apresentam uma depressão do segmento ST maior do que pacientes sem o diagnóstico.\n",
        "* É esperado que pacientes com doença cardíaca apresentem vasos principais coloridos por fluoroscopia. Para pacientes que não apresentam diagnóstico de doença cardiovascular, ter vasos principais coloridos por fluoroscopia é considerado como discrepante.\n",
        "\n",
        "Analisando tanto os *countplots* quanto os *boxplots* podemos observar a influência das demais variáveis na nossa variável alvo. Logo, nosso modelo será estimado incluindo todas as variáveis do *dataset*, com exceção da variável `fbs` que apresentou uma correlação igual a zero com a variável `num`.\n"
      ]
    },
    {
      "cell_type": "markdown",
      "metadata": {
        "id": "YKa3MUyDDvsu",
        "colab_type": "text"
      },
      "source": [
        "## Modelo de *Machine Learning*\n",
        "\n",
        "Após indicar quais variáveis serão incluídas no modelo, o próximo passo é estimá-lo! Como nossa variável alvo é categórica, ou seja, ela divide os pacientes em dois grupos: aqueles sem doença cardíaca e os que possuem doença cardíaca, teremos que estimar um modelo de classificação.\n",
        "\n",
        "Usaremos então uma regressão logística, que tem como objetivo avaliar a probabilidade de ocorrência de um determinado evento, ou seja, avaliar a probabilidade de um paciente ter um diagnóstico de doença cardíaca a partir de suas características pessoais e médicas."
      ]
    },
    {
      "cell_type": "code",
      "metadata": {
        "id": "aDsh1zPfJYiM",
        "colab_type": "code",
        "colab": {}
      },
      "source": [
        "# importando pacotes\n",
        "\n",
        "from sklearn.linear_model import LogisticRegression\n",
        "from sklearn.model_selection import train_test_split\n",
        "\n",
        "from sklearn.metrics import classification_report, confusion_matrix, roc_auc_score, roc_curve, accuracy_score"
      ],
      "execution_count": 0,
      "outputs": []
    },
    {
      "cell_type": "markdown",
      "metadata": {
        "id": "tGYel49ROU95",
        "colab_type": "text"
      },
      "source": [
        "### Estimação e avaliação do modelo de regressão logística\n",
        "\n",
        "O primeiro passo é separar nosso `DataFrame` em uma `Series`, que contém nossa variável alvo, `y`, e um `DataFrame` somente com as variáveis explicativas, `X`. Tendo feito essa separação, iremos dividir os dados em um conjunto de treino e um conjunto de teste utilizando a função `train_test_split`.\n",
        "\n",
        "Essa é uma prática comum em modelos de *Machine Learning*, primeiro nós iremos treinar nosso modelo utilizando os dados de treino. No caso, nosso modelo estará ajustado de maneira ótima aos dados de treino, mas para verificar sua qualidade iremos testá-lo com dados \"desconhecidos\". \n",
        "\n",
        "Nosso *dataset* de treino terá 80% dos dados originais e o restante será utilizado para teste."
      ]
    },
    {
      "cell_type": "code",
      "metadata": {
        "id": "ZamDeD4TKn5q",
        "colab_type": "code",
        "outputId": "e7b48302-b927-4b7b-ef91-e7b2a46ef6dd",
        "colab": {
          "base_uri": "https://localhost:8080/",
          "height": 102
        }
      },
      "source": [
        "# separando variáveis explicativas e dependente\n",
        "X = df_clean.drop(['num','fbs'], axis = 1)\n",
        "y = df_clean['num']\n",
        "\n",
        "# conjunto de treino e teste\n",
        "X_train, X_test, y_train, y_test = train_test_split(X, y, test_size=0.20, random_state=50)\n",
        "\n",
        "# criando e estimando o modelo\n",
        "ml_model = LogisticRegression(solver='liblinear')\n",
        "ml_model.fit(X_train, y_train)"
      ],
      "execution_count": 20,
      "outputs": [
        {
          "output_type": "execute_result",
          "data": {
            "text/plain": [
              "LogisticRegression(C=1.0, class_weight=None, dual=False, fit_intercept=True,\n",
              "                   intercept_scaling=1, l1_ratio=None, max_iter=100,\n",
              "                   multi_class='warn', n_jobs=None, penalty='l2',\n",
              "                   random_state=None, solver='liblinear', tol=0.0001, verbose=0,\n",
              "                   warm_start=False)"
            ]
          },
          "metadata": {
            "tags": []
          },
          "execution_count": 20
        }
      ]
    },
    {
      "cell_type": "markdown",
      "metadata": {
        "id": "Zn7A2ckW_bAP",
        "colab_type": "text"
      },
      "source": [
        "O método de solução do modelo de regressão logística foi o `liblinear`, que segundo a [documentação](https://scikit-learn.org/stable/modules/generated/sklearn.linear_model.LogisticRegression.html) da função `LogisticRegression` é mais indicada para *datasets* menores.\n",
        "\n",
        "Tendo estimado o modelo utilizando os dados de treino, iremos utilizar os dados das variáveis explicativas de teste para prever, utilizando a função `predict`, se aquele paciente tem um diagnóstico de doença cardíaca ou não.  \n",
        "\n",
        "Além do resultado de diagnóstico, temos também a probabilidade do paciente que está inserido no grupo de teste de ter ou não um diagnóstico de doença cardíaca."
      ]
    },
    {
      "cell_type": "code",
      "metadata": {
        "id": "kuBZgUc6KvgR",
        "colab_type": "code",
        "outputId": "16cddb73-a3c3-4510-a70a-705a6e526f8d",
        "colab": {
          "base_uri": "https://localhost:8080/",
          "height": 119
        }
      },
      "source": [
        "# calculando y previsto e probabilidade do y previsto\n",
        "y_pred = ml_model.predict(X_test)\n",
        "y_prob = ml_model.predict_proba(X_test)\n",
        "\n",
        "# exibindo valores\n",
        "print(\"y_pred: \\n\", y_pred[0:2])\n",
        "print(\"\\ny_prob: \\n\", y_prob[0:2])"
      ],
      "execution_count": 21,
      "outputs": [
        {
          "output_type": "stream",
          "text": [
            "y_pred: \n",
            " [1 0]\n",
            "\n",
            "y_prob: \n",
            " [[0.00519907 0.99480093]\n",
            " [0.92316446 0.07683554]]\n"
          ],
          "name": "stdout"
        }
      ]
    },
    {
      "cell_type": "markdown",
      "metadata": {
        "id": "-iREKgHvBnwH",
        "colab_type": "text"
      },
      "source": [
        "Como exemplo temos os 2 primeiros resultados. Podemos observar que:\n",
        "\n",
        "* Dadas suas características pessoais e médicas, o primeiro paciente foi diagnosticado como tendo doença cardíaca. A probabilidade dele realmente ter doença cardíaca é de 99%.\n",
        "* O segundo paciente, por sua vez, foi diagnosticado como não tendo doença cardíaca, dadas as suas características. No caso, a probabilidade dele ter doença cardíaca é de, aproximadamente, 8%.\n",
        "\n",
        "Lembrando que se um modelo prever que um paciente tem 99% de chance de ter doença cardíaca e esse paciente não ter a doença, esse modelo é pior que um outro modelo que prevê que um paciente tem 55% de chance de ter doença cardíaca quando na verdade ele não tem.\n",
        "\n",
        "A utilidade de separar os dados em teste e treino é que podemos comparar a validade desses resultados, já que temos os verdadeiros valores sobre o diagnóstico desses pacientes em relação à doença cardiovascular. Para isso, temos as seguintes métricas de avaliação:\n",
        "\n",
        "* precisão: proporção de diagnósticos feitos corretamente em relação aos diagnósticos preditos. Por exemplo, número de diagnósticos de doença cardíaca feitos corretamente, dividido pela soma do número de diagnósticos de doença cardíaca feitos de maneira correta com o número de diagnósticos de doença cardíaca feitos de maneira incorreta (falso positivo).\n",
        "* *recall*: proporção de diagnósticos feitos corretamente em relação aos diagnósticos reais. Por exemplo, número de diagnósticos de doença cardíaca feitos corretamente, dividido pela soma do número de diagnósticos de doença cardíaca feitos de maneira correta com o número de diagnósticos de doença cardíaca que o modelo não conseguiu prever (falso negativo).\n",
        "* acurácia: quantidade de diagnósticos feitos corretamente em relação ao total de diagnósticos.\n",
        "* AUC: mede o quanto o modelo é capaz de distinguir entre ter ou não doença cardíaca. Para saber mais sobre essa medida, este [artigo](https://towardsdatascience.com/understanding-auc-roc-curve-68b2303cc9c5) é excelente.\n",
        "\n",
        "Todos esses valores variam entre 0 e 1, sendo que quanto mais perto de 0 menos qualidade tem o modelo, e quanto mais perto de 1 mais o modelo é bem ajustado."
      ]
    },
    {
      "cell_type": "code",
      "metadata": {
        "id": "Zx_OHBSyaWfK",
        "colab_type": "code",
        "outputId": "90ac5226-25ce-4dff-df64-1b6108e3e8f0",
        "colab": {
          "base_uri": "https://localhost:8080/",
          "height": 255
        }
      },
      "source": [
        "# imprimir relatório de classificação\n",
        "print(\"Relatório de Classificação:\\n\", classification_report(y_test, y_pred, digits=4))\n",
        " \n",
        "# imprimir a acurácia do modelo\n",
        "print(\"Acurácia: {:.4f}\\n\".format(accuracy_score(y_test, y_pred)))\n",
        " \n",
        "# imprimir a área sob a curva\n",
        "print(\"AUC: {:.4f}\\n\".format(roc_auc_score(y_test,y_prob[:,1])))"
      ],
      "execution_count": 22,
      "outputs": [
        {
          "output_type": "stream",
          "text": [
            "Relatório de Classificação:\n",
            "               precision    recall  f1-score   support\n",
            "\n",
            "           0     0.8611    0.9118    0.8857        34\n",
            "           1     0.8750    0.8077    0.8400        26\n",
            "\n",
            "    accuracy                         0.8667        60\n",
            "   macro avg     0.8681    0.8597    0.8629        60\n",
            "weighted avg     0.8671    0.8667    0.8659        60\n",
            "\n",
            "Acurácia: 0.8667\n",
            "\n",
            "AUC: 0.9106\n",
            "\n"
          ],
          "name": "stdout"
        }
      ]
    },
    {
      "cell_type": "markdown",
      "metadata": {
        "id": "wu6f7H3HIb44",
        "colab_type": "text"
      },
      "source": [
        "Pelos resultados, nosso modelo tem uma acurácia de, aproximadamente, 87%, enquanto a AUC é de 0.91. Com esses resultados é possível afirmar que o modelo, globalmente, é bem ajustado. \n",
        "\n",
        "Mas é possível que um modelo seja globalmente bem ajustado, mas que para prever uma categoria em especifíco ele seja ruim. Para observar isso temos as medidas de precisão e *recall*. Podemos analisar essas medidas através do relatório de classificação, mas utilizando uma Matriz de Confusão a visualização dos resultados fica mais simples."
      ]
    },
    {
      "cell_type": "code",
      "metadata": {
        "id": "lap0BdomLRE2",
        "colab_type": "code",
        "outputId": "45d411dc-cf0f-41e8-8359-55a1599646b2",
        "colab": {
          "base_uri": "https://localhost:8080/",
          "height": 293
        }
      },
      "source": [
        "fig, ax = plt.subplots()\n",
        "sns.heatmap(confusion_matrix(y_test, y_pred), annot=True, ax=ax)\n",
        "\n",
        "ax.set_title(\"Matriz de Confusão\", fontsize=18)\n",
        "ax.set_ylabel(\"True label\")\n",
        "ax.set_xlabel(\"Predicted Label\")\n",
        "\n",
        "plt.tight_layout()"
      ],
      "execution_count": 23,
      "outputs": [
        {
          "output_type": "display_data",
          "data": {
            "image/png": "[encoded data removed]",
            "text/plain": [
              "<Figure size 432x288 with 2 Axes>"
            ]
          },
          "metadata": {
            "tags": []
          }
        }
      ]
    },
    {
      "cell_type": "markdown",
      "metadata": {
        "id": "T0BXkTRgGSsF",
        "colab_type": "text"
      },
      "source": [
        "De acordo com a Matriz de Confusão, temos que:\n",
        "\n",
        "* O modelo previu corretamente 31 casos de pacientes que não foram diagnosticados com doença cardíaca.\n",
        "* Além disso, o modelo previu corretamente 21 casos de pacientes que foram diagnosticados com doença cardíaca.\n",
        "* Para 5 pacientes que possuem doença cardíaca, o modelo previu que eles não teriam a doença.\n",
        "* Para 3 pacientes sem doença cardíaca, o modelo previu que eles teriam a doença.\n",
        "\n",
        "Pelos resultados, temos que o modelo é globalmente bem ajustado e que ambas as características, ter ou não doença cardíaca, são previstas de maneira satisfatória."
      ]
    },
    {
      "cell_type": "markdown",
      "metadata": {
        "id": "fDAf7tecK9dv",
        "colab_type": "text"
      },
      "source": [
        "### Realizando previsões\n",
        "\n"
      ]
    },
    {
      "cell_type": "markdown",
      "metadata": {
        "id": "zhf3DvUqnrkP",
        "colab_type": "text"
      },
      "source": [
        "De acordo com as métricas de avaliação vimos que o nosso modelo estimado é bem ajustado. Com isso, considerando que o objetivo final de todo modelo estimado é realizar previsões, iremos utilizar nosso modelo para prever a probabilidade de uma pessoa ser diagnosticada como tendo ou não doença cardíaca.\n",
        "\n",
        "Para fazer a previsão temos que atribuir um valor para cada atributo do modelo. Lembrando que a ordem de entrada dos valores para as variáveis tem que seguir a mesma ordem do *dataset* das variáveis explicativas."
      ]
    },
    {
      "cell_type": "code",
      "metadata": {
        "id": "mxlbZlRxt13s",
        "colab_type": "code",
        "colab": {
          "base_uri": "https://localhost:8080/",
          "height": 68
        },
        "outputId": "483f102a-e5f1-428d-8928-b5e441646cb3"
      },
      "source": [
        "X.columns"
      ],
      "execution_count": 73,
      "outputs": [
        {
          "output_type": "execute_result",
          "data": {
            "text/plain": [
              "Index(['age', 'sex', 'cp', 'trestbps', 'chol', 'restecg', 'thalach', 'exang',\n",
              "       'oldpeak', 'slope', 'ca', 'thal'],\n",
              "      dtype='object')"
            ]
          },
          "metadata": {
            "tags": []
          },
          "execution_count": 73
        }
      ]
    },
    {
      "cell_type": "markdown",
      "metadata": {
        "id": "kLh_ZI5ht6Ka",
        "colab_type": "text"
      },
      "source": [
        "Para realizar a previsão, irei utilizar minhas informações pessoais e médicas. Recentemente fiz alguns exames de rotina, por isso, para alguns atributos eu tenho os valores reais. Para outros atributos eu fiz uma previsão."
      ]
    },
    {
      "cell_type": "code",
      "metadata": {
        "id": "2kgKn6umLU_Z",
        "colab_type": "code",
        "outputId": "e4390464-d0c9-4047-f384-a124586a8080",
        "colab": {
          "base_uri": "https://localhost:8080/",
          "height": 34
        }
      },
      "source": [
        "age = 27.0\n",
        "sex = 1.0\n",
        "cp = 4.0\n",
        "trestbps = 110.0\n",
        "chol = 52.0\n",
        "restecg = 0.0\n",
        "thalach = 100.0\n",
        "exang = 0.0\n",
        "oldpeak = 1.0\n",
        "slope = 1.0\n",
        "ca = 0.0\n",
        "thal = 3.0\n",
        "entrada = [[age, sex, cp, trestbps, chol, restecg, thalach, exang, oldpeak, slope, ca, thal]]\n",
        "\n",
        "print('Previsão: {}'.format(ml_model.predict(entrada)[0]))"
      ],
      "execution_count": 74,
      "outputs": [
        {
          "output_type": "stream",
          "text": [
            "Previsão: 0\n"
          ],
          "name": "stdout"
        }
      ]
    },
    {
      "cell_type": "markdown",
      "metadata": {
        "id": "Q057L0x8ufnP",
        "colab_type": "text"
      },
      "source": [
        "De acordo com o modelo estimado, eu não fui diagnosticado como tendo doença cardíaca."
      ]
    },
    {
      "cell_type": "code",
      "metadata": {
        "id": "v2FiDbxQOa36",
        "colab_type": "code",
        "outputId": "a808c87c-1e4a-41ce-c5ea-ba262e4af0a6",
        "colab": {
          "base_uri": "https://localhost:8080/",
          "height": 34
        }
      },
      "source": [
        "ml_model.predict_proba(entrada)"
      ],
      "execution_count": 27,
      "outputs": [
        {
          "output_type": "execute_result",
          "data": {
            "text/plain": [
              "array([[0.52404969, 0.47595031]])"
            ]
          },
          "metadata": {
            "tags": []
          },
          "execution_count": 27
        }
      ]
    },
    {
      "cell_type": "markdown",
      "metadata": {
        "id": "AvhLMbFhuqi8",
        "colab_type": "text"
      },
      "source": [
        "Mas observando as probabilidades, é possível observar que essa previsão está no limite de mudança de categoria. \n",
        "\n",
        "A seguir, está um simulador interativo para as previsões do modelo estimado. Sinta-se a vontade para realizar a sua previsão de diagnóstico (se estiver lendo esse *notebook* pelo GitHub, basta abrí-lo no Google Colab e replicar todos os códigos). Mas **lembre-se** que esse é um modelo de previsão! Somente um médico pode realmente te diagnosticar em relação a ocorrência ou não de doença cardiovascular."
      ]
    },
    {
      "cell_type": "code",
      "metadata": {
        "id": "DqHd6eVaOqOg",
        "colab_type": "code",
        "colab": {}
      },
      "source": [
        "# Importando bibliotecas\n",
        "from ipywidgets import widgets, HBox, VBox, Layout, Label\n",
        "from IPython.display import  display\n",
        "style = {'description_width': '150px'}\n",
        "style1 = {'description_width': '210px'}\n",
        "style2 = {'description_width': '230px'}\n",
        "layout = {'width': '400px'}\n",
        "\n",
        "# Criando os controles do formulário\n",
        "age = widgets.Text(description=\"Idade (anos):\", style=style, layout=layout)\n",
        "\n",
        "sex = widgets.RadioButtons(\n",
        "    options=[('Homem', 1), ('Mulher', 0)],\n",
        "    description='Sexo:',\n",
        "    disabled=False, style=style\n",
        ")\n",
        "\n",
        "cp = widgets.RadioButtons(\n",
        "    options=[('Angina', 1), ('Angina atípica', 2),('Dor não cardíaca', 3), ('Sem sintomas', 4)],\n",
        "    description='Tipo de dor torácica:',\n",
        "    disabled=False, style=style\n",
        ")\n",
        "\n",
        "trestbps = widgets.Text(description=\"Pressão arterial (mm/Hg):\", style=style, layout=layout)\n",
        "\n",
        "chol = widgets.Text(description=\"Colesterol (mg/dl):\", layout=layout, style=style)\n",
        "\n",
        "restecg = widgets.RadioButtons(\n",
        "    options=[('Normal', 0), ('Anormalidade do ST-T', 1),('Hipertrofia ventricular', 2)],\n",
        "    description='Eletrocardiografia:',\n",
        "    disabled=False, style=style, layout=layout\n",
        ")\n",
        "\n",
        "thalach = widgets.Text(description=\"Frequência cardíaca (bpm):\" , style=style1, layout=layout)\n",
        "\n",
        "exang = widgets.RadioButtons(\n",
        "    options=[('Não', 0), ('Sim', 1)],\n",
        "    description='Angina após exercício:',\n",
        "    disabled=False, style=style, layout=layout\n",
        ")\n",
        "\n",
        "oldpeak = widgets.Text(description=\"Depressão do Segmento ST (mm):\", style=style1, layout=layout)\n",
        "\n",
        "slope = widgets.RadioButtons(\n",
        "    options=[('Ascendente', 1), ('Plana', 2), ('Descendente',3)],\n",
        "    description='Inclinação do segmento ST-T:',\n",
        "    disabled=False , style=style1, layout=layout\n",
        ")\n",
        "ca = widgets.Text(description=\"Vasos color. por fluoroscopia (quant.):\", style=style2, layout=layout)\n",
        "\n",
        "thal = widgets.RadioButtons(\n",
        "    options=[('Normal', 3), ('Defeito fixo', 6), ('Defeito reversível',7)],\n",
        "    description='Teste de stress cardíaco:',\n",
        "    disabled=False, style=style\n",
        ")\n",
        "\n",
        "botao = widgets.Button(description=\"Simular\") \n",
        "\n",
        "left = VBox([age, trestbps, chol,thalach, oldpeak, ca, slope], layout=Layout(width='50%'))\n",
        "right = VBox([sex, exang, thal, cp, restecg])\n",
        "inputs = HBox([left, right])\n",
        "\n",
        "\n",
        "# Função de simulação\n",
        "def simulador(sender):\n",
        "    entrada=[[\n",
        "                float(age.value if age.value else 0), \n",
        "                float(sex.value if sex.value else 0), \n",
        "                float(cp.value if cp.value else 0), \n",
        "                float(trestbps.value if trestbps.value else 0), \n",
        "                float(chol.value if chol.value else 0), \n",
        "                float(restecg.value if restecg.value else 0),\n",
        "                float(thalach.value if thalach.value else 0), \n",
        "                float(exang.value if exang.value else 0), \n",
        "                float(oldpeak.value if oldpeak.value else 0), \n",
        "                float(slope.value if slope.value else 0), \n",
        "                float(ca.value if ca.value else 0), \n",
        "                float(thal.value if thal.value else 0)\n",
        "             ]]\n",
        "    valor = ml_model.predict(entrada)[0]\n",
        "    if valor == 0:\n",
        "      diagn =  'Sem diagnóstico de doença cardiovascular.'\n",
        "    else:\n",
        "      diagn = 'Com diagnóstico de doença cardiovascular.'\n",
        "    print('Previsão: {}\\n'.format(diagn))\n",
        "    print('Probabilidade: {}%'.format(float(((ml_model.predict_proba(entrada)[:,valor])*100).round(3))))\n",
        "# Atribuindo a função \"simulador\" ao evento click do botão\n",
        "botao.on_click(simulador)    "
      ],
      "execution_count": 0,
      "outputs": []
    },
    {
      "cell_type": "code",
      "metadata": {
        "id": "SgNCLfRQVnfv",
        "colab_type": "code",
        "outputId": "776ac45c-786e-42df-ef6a-385bd583e44d",
        "colab": {
          "base_uri": "https://localhost:8080/",
          "height": 516,
          "referenced_widgets": [
            "73cd7ef3dcdc42cf96d22129c159c2ea",
            "9c245278352340f68c6f3d7c473bd690",
            "5846d906963f45978f70b0bf22c4a7fe",
            "c6a8d20f65f34c46abb6d3efbf6c19c6",
            "a1a937f0c5694e79bad54000c573d9da",
            "3fa74c948a1a497297219e481b5a654f",
            "2e4db4b4f8fc4380ab46a28b5d3d5659",
            "9eb432aaa95347bd93086deccc0a8ef4",
            "9c0cf7cc4e27416995c5e098655980e3",
            "41afe880a3ee4c15a9345e44748b8f23",
            "cdde6a468aa0440fa1e30ba616cbc09d",
            "482190adfaa945428bbc04620f13b05f",
            "3ec7a9d7a53441e8aa496f14ceb4fa67",
            "e390652d0efd469d9fa12cb68f8ff599",
            "d64033a9de6840ff8dd72f3217840747",
            "12a7bb794626498183aa910b35311ff1",
            "be4be207a82b4db8824f3a30a8cdf0a9",
            "197429658ca640b69fd72e2b82f0852c",
            "fd69bcc19a30497c89db234c9bf7570b",
            "4a4267fd4b384a528e0b95609ce7c194",
            "4df0318ff8aa45c7bbb580a0e4b5ab85",
            "e192183cd89444ae86cf092caffc6777",
            "59c8342d03f6477c87095283c1fe5d48",
            "48f1aae1c2914ffd839b23bab750d6e5",
            "23ede16df22f4392a8e220b4cc3aa103",
            "9816ccb2e6674b83b5a664860ea9741f",
            "b16a0ea52f424237853cd95f25c6c6c3",
            "a1de036d149040ee93e4325575e2966d",
            "e95e71575455499f9c5081ed9e9fdc99",
            "eb6a5c8bdad740478de9661b68351c74",
            "6d138f9b3bbe4e8696f621f27ddd8810",
            "01d56cd48d664529973db1e8bf06f27d",
            "cc61cbd1f55a47f7876ba7f1b30fb8d9",
            "15d52b4f3ce44eddb9291770bc6bb541",
            "683ba863b1b8462b99189a551b56644f",
            "c26488fd4b084a7f88530d8d199cccc3",
            "7b2f111ce91449c6b146e9985c6985b3",
            "182d6da4f1fc486eb154711a5bdbba0b",
            "401f7a3e506743939fe0848ca5b1df2d",
            "8a4e4db900ee487c86bf7e4af7a78e26",
            "a3425a1cc21040f28f4d25ec5b8de2a0",
            "65b6fb8d73d9456885d844461ef38cb4",
            "e3ba238a8bbc456ea3674933aa257131",
            "56d19371ce254efe99fad8819684b4f3",
            "7eca8e2e9545431e894cc3ee00180fef"
          ]
        }
      },
      "source": [
        "display(inputs, botao)"
      ],
      "execution_count": 78,
      "outputs": [
        {
          "output_type": "display_data",
          "data": {
            "application/vnd.jupyter.widget-view+json": {
              "model_id": "73cd7ef3dcdc42cf96d22129c159c2ea",
              "version_minor": 0,
              "version_major": 2
            },
            "text/plain": [
              "HBox(children=(VBox(children=(Text(value='', description='Idade (anos):', layout=Layout(width='400px'), style=…"
            ]
          },
          "metadata": {
            "tags": []
          }
        },
        {
          "output_type": "display_data",
          "data": {
            "application/vnd.jupyter.widget-view+json": {
              "model_id": "e3ba238a8bbc456ea3674933aa257131",
              "version_minor": 0,
              "version_major": 2
            },
            "text/plain": [
              "Button(description='Simular', style=ButtonStyle())"
            ]
          },
          "metadata": {
            "tags": []
          }
        },
        {
          "output_type": "stream",
          "text": [
            "Previsão: Sem diagnóstico de doença cardiovascular.\n",
            "\n",
            "Probabilidade: 52.405%\n"
          ],
          "name": "stdout"
        }
      ]
    }
  ]
}